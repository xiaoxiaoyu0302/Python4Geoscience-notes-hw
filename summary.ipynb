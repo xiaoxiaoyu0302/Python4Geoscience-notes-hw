{
 "cells": [
  {
   "cell_type": "markdown",
   "metadata": {},
   "source": [
    "# key "
   ]
  },
  {
   "cell_type": "markdown",
   "metadata": {},
   "source": [
    "Ctrl + Shift + - will split the current cell into two from where your cursor is.\n",
    "\n",
    "esc into command :\n",
    "\n",
    "M to change the current cell to Markdown, Y to change it back to code\n",
    "\n",
    "Shift + up/Down selects the next sell in a upwards/downwards direction\n",
    "\n",
    "Shift + M to merge multiple cells\n",
    "\n",
    "Esc + F Find and replace on your cod`e but not the outputs."
   ]
  },
  {
   "cell_type": "markdown",
   "metadata": {},
   "source": [
    "## new array"
   ]
  },
  {
   "cell_type": "markdown",
   "metadata": {},
   "source": [
    "range(5): 0,1,2,3,4\n",
    "np.arange(1,10,2)  # start, stop, stride, array([1, 3, 5, 7, 9])\n",
    "np.linspace(1,10,2)  # min, max, length,  array([  1.,  10.])\n",
    "np.logspace(-10, 10, 9)  # 1e-02, 1e+02, min exponent, max exponent, lengt\n",
    "np.random.rand(9,4)\n",
    "np.ones((3,4,5))\n",
    "np.ones(60).reshape(3,4,5)\n",
    "np.zeros((3,4,5))\n",
    "np.diag()"
   ]
  },
  {
   "cell_type": "code",
   "execution_count": 37,
   "metadata": {
    "collapsed": false
   },
   "outputs": [
    {
     "data": {
      "text/plain": [
       "array([  1.00000000e-10,   3.16227766e-08,   1.00000000e-05,\n",
       "         3.16227766e-03,   1.00000000e+00,   3.16227766e+02,\n",
       "         1.00000000e+05,   3.16227766e+07,   1.00000000e+10])"
      ]
     },
     "execution_count": 37,
     "metadata": {},
     "output_type": "execute_result"
    }
   ],
   "source": []
  },
  {
   "cell_type": "markdown",
   "metadata": {},
   "source": [
    "# 1. core"
   ]
  },
  {
   "cell_type": "code",
   "execution_count": null,
   "metadata": {
    "collapsed": true
   },
   "outputs": [],
   "source": [
    "d=str(\"how i met your mother\")\n",
    "isinstance(d, str)\n",
    "b=4\n",
    "b > -0.5\n",
    "foo = [1, 2, 3, 4, 5 ,6]\n",
    "5 in foo"
   ]
  },
  {
   "cell_type": "markdown",
   "metadata": {},
   "source": [
    "when you print, the ''will gone.;\n",
    "when you s3, it will show every function;\n",
    "\n",
    "s3.capitalize()--capital first number\n",
    "\n",
    "s3.upper()--everyone\n",
    "\n",
    "s3.split()\n",
    "s3.split(' ') are different, (' ') split by ' ', so the blank is left, while () is by default, s3.split('\\n',1)-- use one comma"
   ]
  },
  {
   "cell_type": "code",
   "execution_count": null,
   "metadata": {
    "collapsed": false
   },
   "outputs": [],
   "source": [
    "s3 = '''strings can \n",
    "also go 'over'\n",
    "multiple 'lines'.'''\n",
    "print(s3)\n",
    "s3\n",
    "s3.capitalize()\n",
    "s3.upper()\n",
    "s3.split()\n",
    "\n",
    "s3.split('n') \n",
    "\n",
    "s3.split('\\n',1)   \n",
    "s3.split()\n",
    "s3.split(' ')\n",
    "s3.split('\\t')  #a tab character, read files\n",
    "list(s3)"
   ]
  },
  {
   "cell_type": "markdown",
   "metadata": {},
   "source": [
    "## Container"
   ]
  },
  {
   "cell_type": "markdown",
   "metadata": {},
   "source": [
    "tuple and list are different"
   ]
  },
  {
   "cell_type": "markdown",
   "metadata": {},
   "source": [
    "foo[-1][3] -- the third one in the last element\n",
    "foo[:2];\n",
    "foo[::2](=foo[0::2])--foo[start (default 0): end intervel];\n",
    "foo[2::2];\n",
    "foo[2:2]=['d',1,'sa']--add the new list in the n position;\n",
    "foo[len(foo):len(foo)]=[1]--if no, add a new one;\n",
    "foo[2]=['d',1,'sa']--replace the 3rd by list,\n",
    "foo[2:3]=['d',1,'sa']--replace the 2-3rd by list \n",
    "foo.pop(2)--remove the 3rd one, only for list/tuple\n",
    "foo.count('four')--count the number of element 'four'\n",
    "foo.insert(position,list)"
   ]
  },
  {
   "cell_type": "code",
   "execution_count": null,
   "metadata": {
    "collapsed": false
   },
   "outputs": [],
   "source": [
    "fo = (1., 2., 3, 'four', 'five', [6., 7., 8], 'nine') #tuple \n",
    "foo = [1., 2., 3, 'four', 'five', [6., 7., 8], 'nine'] #list\n",
    "foo[-3][3]\n",
    "foo[:3]   #not include the 4rd one\n",
    "foo[::2]\n",
    "foo[2::2]\n",
    "foo.pop(2)\n",
    "foo.append('nine')\n",
    "foo[len(foo):len(foo)]=[1] \n",
    "foo[2]=[1,2]\n",
    "foo.count('four')\n",
    "foo.insert(0,foo)\n",
    "foo.index(2)"
   ]
  },
  {
   "cell_type": "markdown",
   "metadata": {},
   "source": [
    "## sorted & class"
   ]
  },
  {
   "cell_type": "code",
   "execution_count": null,
   "metadata": {
    "collapsed": true
   },
   "outputs": [],
   "source": [
    "sorted can sort a tuple or list, but always return a list; "
   ]
  },
  {
   "cell_type": "code",
   "execution_count": null,
   "metadata": {
    "collapsed": true
   },
   "outputs": [],
   "source": [
    "foo2=(1,2,3,4,56,2,3,1,3,4,2)           \n",
    "foo3=['Jack', 'Robin', 'Lily', 'Mashum'] \n",
    "sorted(foo2)"
   ]
  },
  {
   "cell_type": "code",
   "execution_count": null,
   "metadata": {
    "collapsed": false
   },
   "outputs": [],
   "source": [
    "class Person(object):\n",
    "    def __init__(self, name, age):\n",
    "        self.name = name\n",
    "        self.age = age\n",
    "    def __repr__(self):\n",
    "        return \"<name: %s, age: %s>\" % (self.name, self.age)\n",
    "    def byName_key(self):\n",
    "        return Person.name\n",
    "    \n",
    "jack = Person('Jack', 19)\n",
    "adam = Person('Adam', 43)\n",
    "becky = Person('Becky', 11)\n",
    "people = [jack, adam, becky]  \n",
    "sorted(people, key=byName_key)    \n"
   ]
  },
  {
   "cell_type": "code",
   "execution_count": null,
   "metadata": {
    "collapsed": true
   },
   "outputs": [],
   "source": [
    "from math import sqrt     # more on importing external packages below\n",
    "\n",
    "class Point(object):\n",
    "    \n",
    "    def __init__(self, x, y):\n",
    "        self.x = x\n",
    "        self.y = y\n",
    "    \n",
    "    def norm(self):\n",
    "        'The distance of the point from the origin'\n",
    "        return sqrt(self.x**2 + self.y**2)\n",
    "    \n",
    "    def dist(self, other):     #other could be 3D\n",
    "        'The distance to another point'\n",
    "        dx = self.x - other.x\n",
    "        dy = self.y - other.y\n",
    "        return sqrt(dx**2 + dy**2)\n",
    "        \n",
    "    def __add__(self, other):\n",
    "        return Point(self.x + other.x, self.y + other.y)\n",
    "    \n",
    "    def __repr__(self):\n",
    "        return 'Point(%f, %f)' % (self.x, self.y)   #unpack the self.x into the %f , %d\n",
    "    \n",
    "\n",
    "p1 = Point(3., 4.)    # a point at location (3, 4)\n",
    "p2 = Point(6., 8.)    # another point, we can have as many as we want..\n",
    "\n",
    "res1 = p1.norm()\n",
    "print('p1.norm() = ', res1)\n",
    "\n",
    "res3 = p2.norm()\n",
    "print('p2.norm() = ', res3)\n",
    "\n",
    "res2 = p1.dist(p2)\n",
    "print('The distance between p1 and p2 is', res)"
   ]
  },
  {
   "cell_type": "code",
   "execution_count": null,
   "metadata": {
    "collapsed": false
   },
   "outputs": [],
   "source": []
  },
  {
   "cell_type": "markdown",
   "metadata": {},
   "source": [
    "## dictonary"
   ]
  },
  {
   "cell_type": "code",
   "execution_count": null,
   "metadata": {
    "collapsed": false
   },
   "outputs": [],
   "source": [
    "foobar={'a':3,'b':4,'c':5}\n",
    "foobar.values()\n",
    "foobar['d']=6\n",
    "foobar.keys()\n"
   ]
  },
  {
   "cell_type": "markdown",
   "metadata": {},
   "source": [
    "##### loops"
   ]
  },
  {
   "cell_type": "code",
   "execution_count": null,
   "metadata": {
    "collapsed": true
   },
   "outputs": [],
   "source": []
  },
  {
   "cell_type": "code",
   "execution_count": 4,
   "metadata": {
    "collapsed": false
   },
   "outputs": [
    {
     "name": "stdout",
     "output_type": "stream",
     "text": [
      "[0, 1, 3, 6, 10]\n",
      "The index is 0 ...\n",
      "...and the word is the\n",
      "The index is 1 ...\n",
      "...and the word is quick\n",
      "The index is 2 ...\n",
      "...and the word is brown\n",
      "The index is 3 ...\n",
      "...and the word is fox\n",
      "The index is 4 ...\n",
      "...and the word is jumped\n",
      "The index is 5 ...\n",
      "...and the word is over\n",
      "The index is 6 ...\n",
      "...and the word is the\n",
      "The index is 7 ...\n",
      "...and the word is lazy\n",
      "The index is 8 ...\n",
      "...and the word is dog\n"
     ]
    }
   ],
   "source": [
    "num=0\n",
    "nn=[]\n",
    "for n in range(5):\n",
    "    num+=n\n",
    "    nn.append(num)\n",
    "print(nn)\n",
    "[n**2 for n in range(5)]  #just some simple calculation for n, num+=n can't\n",
    "[isinstance(item, str) ]\n",
    "\n",
    "words = ['the', 'quick', 'brown', 'fox', 'jumped', 'over', 'the', 'lazy', 'dog']\n",
    "for idx, word in enumerate(words):\n",
    "    print('The index is', idx, '...')\n",
    "    print('...and the word is', word)\n",
    "\n",
    "while increment > 1e-15:"
   ]
  },
  {
   "cell_type": "markdown",
   "metadata": {},
   "source": [
    "##### pack & unpack"
   ]
  },
  {
   "cell_type": "code",
   "execution_count": null,
   "metadata": {
    "collapsed": true
   },
   "outputs": [],
   "source": [
    "xy=list(zip((1, 2), (3, 4), (5, 6), (7, 8), (9, 10)))\n",
    "print(xy)  #pack\n",
    "print(list(zip(*xy)))  #unpack"
   ]
  },
  {
   "cell_type": "markdown",
   "metadata": {},
   "source": [
    "### math"
   ]
  },
  {
   "cell_type": "code",
   "execution_count": null,
   "metadata": {
    "collapsed": false
   },
   "outputs": [],
   "source": [
    "import math\n",
    "from math import tanh\n",
    "from math import sin\n",
    "\n",
    "tanh(math.e)\n",
    "math.e\n",
    "math.sin(2)\n",
    "sin(2)"
   ]
  },
  {
   "cell_type": "markdown",
   "metadata": {},
   "source": [
    "### numpy"
   ]
  },
  {
   "cell_type": "code",
   "execution_count": 191,
   "metadata": {
    "collapsed": false
   },
   "outputs": [
    {
     "name": "stdout",
     "output_type": "stream",
     "text": [
      "[[0 1 2]\n",
      " [3 4 5]]\n"
     ]
    },
    {
     "data": {
      "text/plain": [
       "masked_array(data = [0 1 -- --],\n",
       "             mask = [False False  True  True],\n",
       "       fill_value = 999999)"
      ]
     },
     "execution_count": 191,
     "metadata": {},
     "output_type": "execute_result"
    }
   ],
   "source": [
    "import numpy as np\n",
    "a=[1,2,3,4]\n",
    "b=np.array([[1,2,3,4],[6,7,8,9]],ndmin=3, dtype=complex)\n",
    "np.sin(2)\n",
    "x = np.array([(1,2),(3,4)],dtype=[('a','<i4'),('b','<i4')])\n",
    "x['a']\n",
    "np.mat(('1 2 ; 3 4'))  #as a matrix.\n",
    "xm=np.asmatrix(b)\n",
    "xm[0,0]=5\n",
    "xm.dtype   # the reason you can use xm.dtype is it's in (...dtype=complex). you can define it yourself\n",
    "xm.ndim\n",
    "xm.size\n",
    "xm.shape=(4,2,1)  #reshape \n",
    "arr=np.arange(6).reshape(2,3)\n",
    "arr[1]\n",
    "print(arr)\n",
    "arr.mean()  #2.5\n",
    "arr.mean(axis=0) #first dimension.. array([ 1.5,  2.5,  3.5])\n",
    "arr.mean(axis=1) #array([ 1.,  4.])\n",
    "arr.max()\n",
    "arr2=arr[1:,1:3]  #1:2---only one number\n",
    "arr[1,2]=3       # arr2 change too\n",
    "arr3=arr.copy()[1:,1:3]\n",
    "\n",
    "# np.allclose(np.exp(1.0J*a).real, np.cos(a))\n",
    "\n",
    "c=np.random.rand(8,1,4,6)\n",
    "d=np.random.rand(8)  # 8 right most \n",
    "c*d[:,np.newaxis,np.newaxis,np.newaxis]\n",
    "abs(d.reshape(8,1)-d.reshape(1,8))  #matrix 8*8\n",
    "e=np.random.rand(8,1,4,6)\n",
    "np.concatenate((c,e),axis=0) # shape (16, 1, 4, 6)\n",
    "np.vstack((c,e)) # axis=0\n",
    "np.hstack((c,e)) # axis=1\n",
    "np.dstack((c,e)) # axis=2\n",
    "c2=np.split(c,4,axis=0)  \n",
    "c2[1] #shape (2, 1, 4, 6)\n",
    "np.concatenate((c2[0],c2[1],c2[2],c2[3]),axis=0)\n",
    "c.flatten() #shape (192,)\n",
    "np.allclose(c.flatten()[6], c.flat[6])\n",
    "c.T #shape (6, 4, 1, 8)\n",
    "np.diag(-2*np.ones(6),k=0)+np.diag(np.ones(5),k=1)++np.diag(-3*np.ones(4),k=-2)   # same sizeP\n",
    "c>0.5  # True or False, shape (8, 1, 4, 6)\n",
    "np.sin(c>0.5)  # shape (8, 1, 4, 6), only for element > 0.5, otherwise give 0\n",
    "y=np.sin(c)\n",
    "y[c>0.5]  # shape 106\n",
    "\n",
    "idx=np.where(c>0.5) # tuple (4, 98), 4 dimensions\n",
    "(idx[0][8], idx[1][8], idx[2][8], idx[3][8]) # the 8th point [0, 0, 2, 3]\n",
    "list(zip(idx[0],idx[1],idx[2],idx[3]))[8]    # the 8th point [0, 0, 2, 3]\n",
    "\n",
    "c3=np.random.randn(18,4,4) #Last 2 dimensions--square\n",
    "c4=np.matrix([[2,4],[5,3]])\n",
    "e,v=np.linalg.eig(c3) \n",
    "((c3*v)/v)  #shape (18, 4, 4)\n",
    "\n",
    "c4=np.random.randn(18,5,4)  #the inner dimensions must match \n",
    "c5=np.random.randn(17,4,6)\n",
    "np.dot(c4,c5)  #shape (18, 5, 17, 6) \n",
    "#????\n",
    "\n",
    "x=np.random.rand(8)\n",
    "y=np.random.rand(8)\n",
    "p=np.polyfit(x,y,4) #shape (5)\n",
    "p2=np.polynomial.Polynomial([3, 6, 8, 2])   # y = 3 + 6 x + 8 x**2 + 2 x**3\n",
    "x2=p2.roots() # when y=0\n",
    "p1 = np.polynomial.Polynomial([5, 3])\n",
    "p1.deriv(1)  #Derivative \n",
    "p2.integ(4, k=[4, 3, 2, 1])\n",
    "b = np.random.randn(20, 10)\n",
    "u, s, v = np.linalg.svd(b) # u (20, 20), s (10,), v (10,10)\n",
    "\n",
    "b1=np.array([0, 1, 2, 3])\n",
    "b2=['a', 'b', 'c', 'd']\n",
    "np.ma.masked_where(b1>1,b1)  # [ 0, 1, -, -]\n",
    "np.ma.masked_where(b1>1,b2)  # ['a', 'b', -, -]\n",
    "np.ma.masked_array(b1, mask=[False,False,True,True])  #data = [0 1 -- --]\n"
   ]
  },
  {
   "cell_type": "markdown",
   "metadata": {},
   "source": [
    "### scipy"
   ]
  },
  {
   "cell_type": "code",
   "execution_count": 206,
   "metadata": {
    "collapsed": false
   },
   "outputs": [],
   "source": [
    "import scipy\n",
    "import scipy.stats as ss\n",
    "ss.alpha\n",
    "sl=ss.laplace(loc=0,scale=1)  #laplace distribution\n",
    "sl.pdf(np.linspace(-3,3,101))\n",
    "sl.rvs(size=100)  #Generate 100 random numbers based on the laplace distribution\n",
    "\n",
    "\n",
    "import scipy.integrate as si\n",
    "\n"
   ]
  },
  {
   "cell_type": "markdown",
   "metadata": {},
   "source": [
    "### format output"
   ]
  },
  {
   "cell_type": "code",
   "execution_count": null,
   "metadata": {
    "collapsed": true
   },
   "outputs": [],
   "source": [
    "print('{:6.4f} has passed'.format(t_end-t_start))"
   ]
  },
  {
   "cell_type": "markdown",
   "metadata": {},
   "source": [
    "### datetime "
   ]
  },
  {
   "cell_type": "code",
   "execution_count": null,
   "metadata": {
    "collapsed": false
   },
   "outputs": [],
   "source": [
    "# https://docs.python.org/2/library/datetime.html#datetime.date.toordinal\n",
    "\n",
    "from datetime import datetime, date, timedelta\n",
    "date.fromordinal(22)\n",
    "date.today().year\n",
    "yx=date(1991,3,2)\n",
    "abs(date.today()-date(1991,3,2)).days\n",
    "timedelta(weeks=40, days=84).total_seconds()\n",
    "dt = timedelta(days=3)\n",
    "dt1 = timedelta(weeks=40, days=84)\n",
    "yx+dt1\n",
    "\n",
    "yx.replace(day=13)\n",
    "yx.timetuple()\n",
    "date.fromordinal(yx.toordinal())\n",
    "yx.weekday()\n",
    "# yx.isoweekday()\n",
    "# yx.isocalendar()\n",
    "yx.isoformat()\n",
    "str(yx)\n",
    "yx.strftime(\"%d/%m/%y\")\n",
    "yx.strftime(\"%A %d. %B %Y\")\n",
    "yx.ctime()\n",
    "[print(i) for i in yx.timetuple()]  #make it into a list\n",
    "[print(i) for i in yx.isocalendar()] \n",
    "\n",
    "datetime(1991,3,2,12).day\n",
    "datetime.utcnow()\n",
    "datetime.now()\n"
   ]
  },
  {
   "cell_type": "markdown",
   "metadata": {},
   "source": [
    "### time"
   ]
  },
  {
   "cell_type": "code",
   "execution_count": 172,
   "metadata": {
    "collapsed": false
   },
   "outputs": [
    {
     "name": "stdout",
     "output_type": "stream",
     "text": [
      "CPU times: user 5 µs, sys: 1e+03 ns, total: 6 µs\n",
      "Wall time: 15 µs\n"
     ]
    },
    {
     "data": {
      "text/plain": [
       "'Fri Mar 17 19:03:07 2017'"
      ]
     },
     "execution_count": 172,
     "metadata": {},
     "output_type": "execute_result"
    }
   ],
   "source": [
    "%time \n",
    "import time\n",
    "t_start=time.time()\n",
    "time.sleep(0.33)\n",
    "t_end=time.time()\n",
    "\n",
    "time.localtime()  #tm_year=2017, tm_mon=3, tm_mday=17, tm_hour=18, tm_min=59, tm_sec=30, tm_wday=4, tm_yday=76, tm_isdst=1\n",
    "time.ctime()  #'Fri Mar 17 18:59:05 2017'\n",
    "\n"
   ]
  },
  {
   "cell_type": "markdown",
   "metadata": {},
   "source": [
    "##### read and write the text"
   ]
  },
  {
   "cell_type": "code",
   "execution_count": null,
   "metadata": {
    "collapsed": false
   },
   "outputs": [],
   "source": [
    "f = open('/d2/home/xiaoxiaoyu/notebooks/python4geosciences/data/02_GPS.dat')\n",
    "f.readline() \n",
    "f.readlines()\n",
    "\n",
    "f.seek(0)\n",
    "latitude = []\n",
    "longitude = []\n",
    "for line in f.readlines():\n",
    "    data = line.split('\\t')\n",
    "    if not data: continue\n",
    "    if data[0] == 'Trackpoint':\n",
    "        latitude.append(int(data[1][1:3])+float(data[1][4:10])/60.)  #from the 2-3\n",
    "        longitude.append(int(data[1][12:14])+float(data[1][15:21])/60.)  #from the 2-3\n",
    "\n",
    "loc = 'output/'\n",
    "fname = 'latlon.txt'\n",
    "fout = open(loc + fname, 'w')  \n",
    "\n",
    "for lat, lon in zip(latitude,longitude): # zip--use lat & lon at the same time\n",
    "    fout.write('{:4.2f}, {:4.2f}\\n'.format(lat, lon)) \n",
    " "
   ]
  },
  {
   "cell_type": "code",
   "execution_count": 103,
   "metadata": {
    "collapsed": false
   },
   "outputs": [
    {
     "data": {
      "text/plain": [
       "array([ 26.5827,  25.9263,  25.3695,  25.2304,  24.568 ,  24.6885,\n",
       "        24.7855,  24.7213,  24.5692,  24.3945,  24.3252,  24.2424,\n",
       "        24.1822,  24.1057,  23.9863,  23.9235,  23.8288,  23.7446,\n",
       "        23.6302,  23.711 ,  23.6082,  23.4458,  23.4764,  23.4612,\n",
       "        23.4353,  23.4063,  23.358 ,  23.3041,  23.2337,  23.1621,\n",
       "        23.1239,  23.045 ,  23.0066,  22.9947,  22.9833,  22.9804,  22.9798])"
      ]
     },
     "execution_count": 103,
     "metadata": {},
     "output_type": "execute_result"
    }
   ],
   "source": [
    "data = np.loadtxt('../data/CTD.txt', comments='*') \n",
    "data[:,2]"
   ]
  },
  {
   "cell_type": "markdown",
   "metadata": {},
   "source": [
    "### matplotlib"
   ]
  },
  {
   "cell_type": "code",
   "execution_count": 24,
   "metadata": {
    "collapsed": false,
    "scrolled": false
   },
   "outputs": [
    {
     "data": {
      "text/plain": [
       "<matplotlib.text.Text at 0x7f9f8ad556a0>"
      ]
     },
     "execution_count": 24,
     "metadata": {},
     "output_type": "execute_result"
    },
    {
     "data": {
      "image/png": "[encoded data removed]",
      "text/plain": [
       "<matplotlib.figure.Figure at 0x7f9f8af4a0f0>"
      ]
     },
     "metadata": {},
     "output_type": "display_data"
    }
   ],
   "source": [
    "import matplotlib.pyplot as plt\n",
    "import numpy as np\n",
    "%matplotlib inline\n",
    "\n",
    "fig=plt.figure(figsize=(8,3))\n",
    "ax=fig.add_subplot(121)\n",
    "\n",
    "ax.set_title('Title')\n",
    "ax.spines['right'].set_visible(False) # turn off right and top spines:\n",
    "ax.spines['top'].set_visible(False)\n",
    "ax.spines['left'].set_color('r') # Change color of left spine\n",
    "ax.set_ylabel('y axis',fontsize=18, color='r')\n",
    "# ax.set_yticklabels('')  # Turn off y tick labels (the text)\n",
    "\n",
    "ax.xaxis.set_ticks_position('bottom')\n",
    "\n",
    "xticklocs = [0, 1, 2] \n",
    "plt.xticks(xticklocs) \n",
    "ax.set_xlim(0, 2.5) # should be larger than xticklocs 2\n",
    "xticklabels = ['1st', '2nd', '3rd']\n",
    "ax.set_xticklabels(xticklabels)  #also you can control the format\n",
    "plt.xticks(rotation=90)\n",
    "\n",
    "\n",
    "\n",
    "x=np.linspace(0,2)\n",
    "ax.plot(x,x)\n",
    "\n",
    "ax2=fig.add_subplot(122)\n",
    "ax2.plot(x,x)\n",
    "fig.suptitle('overall title')"
   ]
  },
  {
   "cell_type": "code",
   "execution_count": 223,
   "metadata": {
    "collapsed": false,
    "scrolled": false
   },
   "outputs": [
    {
     "data": {
      "image/png": "[encoded data removed]",
      "text/plain": [
       "<matplotlib.figure.Figure at 0x7fb11558d780>"
      ]
     },
     "execution_count": 223,
     "metadata": {},
     "output_type": "execute_result"
    },
    {
     "data": {
      "image/png": "[encoded data removed]",
      "text/plain": [
       "<matplotlib.figure.Figure at 0x7fb11558d780>"
      ]
     },
     "metadata": {},
     "output_type": "display_data"
    }
   ],
   "source": [
    "fig, axes = plt.subplots(2, 3)\n",
    "fig"
   ]
  },
  {
   "cell_type": "code",
   "execution_count": null,
   "metadata": {
    "collapsed": true
   },
   "outputs": [],
   "source": []
  },
  {
   "cell_type": "markdown",
   "metadata": {
    "collapsed": true
   },
   "source": [
    "### pandas"
   ]
  },
  {
   "cell_type": "code",
   "execution_count": 2,
   "metadata": {
    "collapsed": false
   },
   "outputs": [
    {
     "ename": "SyntaxError",
     "evalue": "invalid syntax (<ipython-input-2-6ef0d32e95ef>, line 15)",
     "output_type": "error",
     "traceback": [
      "\u001b[0;36m  File \u001b[0;32m\"<ipython-input-2-6ef0d32e95ef>\"\u001b[0;36m, line \u001b[0;32m15\u001b[0m\n\u001b[0;31m    parse_dates={'dates':['YY','MM','DD','hh']}, #sep=',',\u001b[0m\n\u001b[0m              ^\u001b[0m\n\u001b[0;31mSyntaxError\u001b[0m\u001b[0;31m:\u001b[0m invalid syntax\n"
     ]
    }
   ],
   "source": [
    "# reference: http://pandas-docs.github.io/pandas-docs-travis/io.html#io-read-csv-table\n",
    "# http://pandas.pydata.org/pandas-docs/stable/generated/pandas.Index.html\n",
    "\n",
    "import pandas as pd\n",
    "%matplotlib inline\n",
    "import random\n",
    "import matplotlib.pyplot as plt\n",
    "import seaborn as sns                #still don't know how to use it\n",
    "import numpy as np\n",
    "pd.set_option('max_rows',6)          #???\n",
    "\n",
    "dfs = []\n",
    "for year in range(1985,1989):\n",
    "    base_url='http://www.ndbc.noaa.gov/view_text_file.php'\n",
    "    url=base_url+'?filename=burl1h{year}.txt.gz&dir=data/historical/stdmet/'.format(year=year)\n",
    "    dfs.append(pd.read_table(url,delim_whitespace=True,skiprows=[1]\n",
    "                             parse_dates={'dates':['YY','MM','DD','hh']}, #sep=',',\n",
    "                             index_col=0)) \n",
    "ddd=pd.concat(dfs,axis=0) \n",
    "ddd['month']=ddd.index.month\n",
    "ddd.groupby('month').aggregate(np.mean)['WSPD'].plot(color='k', grid=True, figsize=(14, 4), lw=3)"
   ]
  },
  {
   "cell_type": "code",
   "execution_count": null,
   "metadata": {
    "collapsed": true
   },
   "outputs": [],
   "source": [
    "# YOUR CODE HERE\n",
    "from datetime import datetime, date, timedelta\n",
    "import pandas as pd\n",
    "import matplotlib.pyplot as plt\n",
    "%matplotlib inline\n",
    "import numpy as np\n",
    "import seaborn as sns\n",
    "\n",
    "pd.set_option('max_rows',6)\n",
    "\n",
    "url = '../hw5_ocng669/merrimack_discharge.dat'\n",
    "dfs=pd.read_table(url, skiprows=[24], header=23, delim_whitespace=True, parse_dates=[2], index_col=2)\n",
    "\n",
    "dfs.loc[:, 'month'] = dfs.index.month\n",
    "dfs.loc[:, 'day'] = dfs.index.day\n",
    "discharge=np.array(dfs['dv_va'])*(0.3048**3)\n",
    "index = pd.MultiIndex.from_tuples(list(zip(dfs.index.month,dfs.index.day)), names=['month', 'day'])\n",
    "df = pd.DataFrame({'discharge':discharge,\n",
    "                  'month':np.array(dfs['month']),\n",
    "                  'day':np.array(dfs['day']),\n",
    "                  'datetime':np.array(dfs.index)},index=index)\n",
    "# can we just divided index into two?????????\n",
    "grouped = df.groupby(['month', 'day'])\n",
    "mean=np.array(grouped.mean())\n",
    "std=np.array(grouped.agg([np.std]))\n",
    "# .plot(color='k', grid=True, figsize=(14, 4), lw=3)\n",
    "\n",
    "df2=df.set_index('datetime')\n",
    "\n",
    "# #one day to do it\n",
    "# d19360=np.array(df2.loc['1936']['discharge'])\n",
    "# d1936=np.delete(d19360,59,0)\n",
    "# d1938=np.array(df2.loc['1938']['discharge'])\n",
    "# d19600=np.array(df2.loc['1960']['discharge'])\n",
    "# d1960=np.delete(d19600,59,0)\n",
    "# d1987=np.array(df2.loc['1987']['discharge'])\n",
    "# fouryearm0=np.mean([d1936,d1938,d1960,d1987],axis=0)  # 365 day mean\n",
    "# Feb29m=np.mean([d19360[59],d19600[59]],axis=0)        # add Feb 29 \n",
    "# fouryearm=np.insert(fouryearm0, 59, Feb29m, axis=0)\n",
    "\n",
    "d1936=np.array(df2.loc['1936']['discharge'])\n",
    "d19380=np.array(df2.loc['1938']['discharge'])\n",
    "d1938=np.insert(d19380, 59, np.nan, axis=0)           # expand 356 days to 366 days\n",
    "d1960=np.array(df2.loc['1960']['discharge'])\n",
    "d19870=np.array(df2.loc['1987']['discharge'])\n",
    "d1987=np.insert(d19870, 59, np.nan, axis=0)\n",
    "fouryearm=np.mean([d1936,d1938,d1960,d1987],axis=0)\n",
    "np.shape(fouryearm)\n",
    "x = np.array(dfs['1936'].index)\n",
    "\n",
    "# draw pics \n",
    "fig = plt.figure(figsize=(12,4))\n",
    "ax = fig.add_subplot(1, 1, 1)\n",
    "\n",
    "plt.yticks([0, 1000, 2000, 3000, 4000])\n",
    "ax.set_ylim(0, 4500)\n",
    "ax.get_yaxis().set_tick_params(direction='in',width=1)\n",
    "\n",
    "array_disc = x[dfs['1936'].index.day ==1]\n",
    "ax.set_xlim(datetime(1936,1,1),datetime(1937,1,1))\n",
    "plt.xticks(array_disc)\n",
    "ax.set_xticklabels(['Jan','Feb','Mar','Apr','May','Jun','Jul','Aug','Sep','Oct','Nov','Dec'])\n",
    "ax.set_title('Merrimack River floods at Lowell, MA')\n",
    "ax.set_ylabel('Discharge [$m^3$'+' '+'$s^{-1}$]')\n",
    "\n",
    "ax.plot(x,mean,linestyle=  '-', color='black', label='mean', linewidth=2)\n",
    "ax.plot(x,d1936,linestyle= '-', color='red', label='1936', linewidth=2)\n",
    "ax.plot(x,d1938,linestyle= '--', color='darkmagenta', label='1938', linewidth=2)\n",
    "ax.plot(x,d1960,linestyle= '-.', color='orange', label='1960', linewidth=2)\n",
    "ax.plot(x,d1987,linestyle= 'dotted', color='green', label='1987', linewidth=2)\n",
    "ax.fill_between(x,mean[:,0]+std[:,0],mean[:,0]-std[:,0],facecolor='grey',alpha=0.3)\n",
    "ax.legend(loc='upper left')\n",
    "\n",
    "ax.grid(True, color='k', linestyle=':', linewidth=0.5)\n",
    "np.shape(std[:,0])"
   ]
  },
  {
   "cell_type": "code",
   "execution_count": null,
   "metadata": {
    "collapsed": true
   },
   "outputs": [],
   "source": [
    "import matplotlib.dates\n",
    "from datetime import datetime\n",
    "import warnings\n",
    "f = open('./merrimack_discharge.dat')\n",
    "f.seek(0)  \n",
    "gps = {}  # initialize dictionary\n",
    "\n",
    "chosenyear=[1936, 1938, 1960, 1987]\n",
    "daysn = np.arange(1,366,1)\n",
    "\n",
    "for yeari in chosenyear:\n",
    "    gps[str(yeari)] = []\n",
    "for daysi in daysn:\n",
    "    gps[daysi] = []\n",
    "    \n",
    "gps['mean'] = []  \n",
    "gps['datetimes0'] = []\n",
    "gps['datetimes'] = []\n",
    "gps['discharge'] = []\n",
    "gps['date'] = []\n",
    "gps['discharge_mean'] = []\n",
    "gps['discharge_std'] = []\n",
    "array_discharge  = []\n",
    "\n",
    "monthn=[1,2,3,4,5,6,7,8,9,10,11,12]\n",
    "dayn=[31,28,31,30,31,30,31,31,30,31,30,31]\n",
    "\n",
    "for line in f.readlines():\n",
    "    data = line.split()\n",
    "    if data[0] == 'USGS' :\n",
    "        date = data[2].split('-')\n",
    "        year = int(date[0])\n",
    "        month = int(date[1])\n",
    "        day = int(date[2])\n",
    "        discharge = float(data[3])*(0.3048**3)\n",
    "  \n",
    "        \n",
    "        if month == 2 and day == 29:    # for the 366 days year, just delete the 29th day of the Feb\n",
    "            continue\n",
    "        else:\n",
    "            gps['discharge'].append(float(discharge))\n",
    "            gps['date'].append(datetime(year, month, day))              \n",
    "            \n",
    "        for yeari in chosenyear:\n",
    "            if year == yeari:\n",
    "                if month == 2 and day == 29:    # for the 366 days year, just delete the 29th day of the Feb\n",
    "                    continue\n",
    "                else: \n",
    "                    gps[str(year)].append(discharge)\n",
    "                    gps['datetimes0'].append(datetime(year, month, day))\n",
    "\n",
    "                    \n",
    "            \n",
    "mm = np.array([dd.month for dd in gps['date']])\n",
    "da = np.array([dd.day for dd in gps['date']])\n",
    "   \n",
    "\n",
    "for imo in monthn :\n",
    "    for ida in np.linspace(1,dayn[imo-1],dayn[imo-1]):\n",
    "        array_discharge = np.array(gps['discharge'])[(mm == int(imo)) & (da == int(ida))]\n",
    "#         with warnings.catch_warnings():\n",
    "#             warnings.simplefilter(\"ignore\", category=RuntimeWarning)\n",
    "#             array_discharge = np.nanmean(array_discharge)\n",
    "        gps['discharge_mean'].append(array_discharge.mean())\n",
    "        gps['discharge_std'].append(array_discharge.std())\n",
    "        \n",
    "gps['datetimes']=np.reshape(gps['datetimes0'],(4,365))[0]\n",
    "\n",
    "\n",
    "fig = plt.figure(figsize=(12,4))  # 20,6 is the y and x markers number, so 20 should be as bins number\n",
    "ax = fig.add_subplot(1, 1, 1)\n",
    "\n",
    "plt.yticks([0, 1000, 2000, 3000, 4000])\n",
    "ax.set_ylim(0, 4500)\n",
    "ax.get_yaxis().set_tick_params(direction='in',width=1)\n",
    "\n",
    "da2 = np.array([dd.day for dd in gps['datetimes']])\n",
    "array_disc = gps['datetimes'][da2 == 1]\n",
    "# ax.set_xlim(array_disc[0].toordinal(),datetime(1937,1,1).toordinal())\n",
    "ax.set_xlim(array_disc[0],datetime(1937,1,1))\n",
    "plt.xticks(array_disc)\n",
    "ax.set_xticklabels(['Jan','Feb','Mar','Apr','May','Jun','Jul','Aug','Sep','Oct','Nov','Dec'])\n",
    "# plt.xticks(np.linspace(array_disc[0].toordinal(),datetime(1937,1,1).toordinal(),365))\n",
    "ax.set_title('Merrimack River floods at Lowell, MA')\n",
    "ax.set_ylabel('Discharge [$m^3$'+' '+'$s^{-1}$]')\n",
    "\n",
    "ax.plot(gps['datetimes'],gps['discharge_mean'],linestyle=  '-', color='black', label='mean', linewidth=2)\n",
    "ax.plot(gps['datetimes'],gps['1936'],linestyle= '-', color='red', label='1936', linewidth=2)\n",
    "ax.plot(gps['datetimes'],gps['1938'],linestyle= '--', color='darkmagenta', label='1938', linewidth=2)\n",
    "ax.plot(gps['datetimes'],gps['1960'],linestyle= '-.', color='orange', label='1960', linewidth=2)\n",
    "ax.plot(gps['datetimes'],gps['1987'],linestyle= 'dotted', color='green', label='1987', linewidth=2)\n",
    "ax.fill_between(gps['datetimes'],np.array(gps['discharge_mean'])+np.array(gps['discharge_std']),np.array(gps['discharge_mean'])-np.array(gps['discharge_std']),facecolor='grey',alpha=0.3)\n",
    "\n",
    "\n",
    "ax.legend(loc='upper left') \n",
    "ax.grid(True, color='k', linestyle=':', linewidth=0.5)\n",
    "\n",
    "da3 = np.array([dd.day for dd in gps['datetimes']])\n",
    "#da3\n"
   ]
  },
  {
   "cell_type": "code",
   "execution_count": 14,
   "metadata": {
    "collapsed": false
   },
   "outputs": [
    {
     "name": "stderr",
     "output_type": "stream",
     "text": [
      "/opt/anaconda3/lib/python3.5/site-packages/ipykernel/__main__.py:3: FutureWarning: how in .resample() is deprecated\n",
      "the new syntax is .resample(...).max()\n",
      "  app.launch_new_instance()\n"
     ]
    },
    {
     "data": {
      "text/html": [
       "<div>\n",
       "<table border=\"1\" class=\"dataframe\">\n",
       "  <thead>\n",
       "    <tr style=\"text-align: right;\">\n",
       "      <th></th>\n",
       "      <th>mm</th>\n",
       "      <th>WDIR</th>\n",
       "      <th>WSPD</th>\n",
       "      <th>GST</th>\n",
       "      <th>WVHT</th>\n",
       "      <th>DPD</th>\n",
       "      <th>APD</th>\n",
       "      <th>MWD</th>\n",
       "      <th>PRES</th>\n",
       "      <th>ATMP</th>\n",
       "      <th>WTMP</th>\n",
       "      <th>DEWP</th>\n",
       "      <th>VIS</th>\n",
       "      <th>TIDE</th>\n",
       "    </tr>\n",
       "    <tr>\n",
       "      <th>dates</th>\n",
       "      <th></th>\n",
       "      <th></th>\n",
       "      <th></th>\n",
       "      <th></th>\n",
       "      <th></th>\n",
       "      <th></th>\n",
       "      <th></th>\n",
       "      <th></th>\n",
       "      <th></th>\n",
       "      <th></th>\n",
       "      <th></th>\n",
       "      <th></th>\n",
       "      <th></th>\n",
       "      <th></th>\n",
       "    </tr>\n",
       "  </thead>\n",
       "  <tbody>\n",
       "    <tr>\n",
       "      <th>2010-01-01 00:00:00</th>\n",
       "      <td>0.0</td>\n",
       "      <td>134.00</td>\n",
       "      <td>3.000</td>\n",
       "      <td>3.00</td>\n",
       "      <td>99.0</td>\n",
       "      <td>99.0</td>\n",
       "      <td>99.0</td>\n",
       "      <td>999.0</td>\n",
       "      <td>1019.10</td>\n",
       "      <td>13.300</td>\n",
       "      <td>999.0</td>\n",
       "      <td>12.400</td>\n",
       "      <td>99.0</td>\n",
       "      <td>99.0</td>\n",
       "    </tr>\n",
       "    <tr>\n",
       "      <th>2010-01-01 00:15:00</th>\n",
       "      <td>0.0</td>\n",
       "      <td>131.25</td>\n",
       "      <td>3.150</td>\n",
       "      <td>3.15</td>\n",
       "      <td>99.0</td>\n",
       "      <td>99.0</td>\n",
       "      <td>99.0</td>\n",
       "      <td>999.0</td>\n",
       "      <td>1019.10</td>\n",
       "      <td>13.375</td>\n",
       "      <td>999.0</td>\n",
       "      <td>12.475</td>\n",
       "      <td>99.0</td>\n",
       "      <td>99.0</td>\n",
       "    </tr>\n",
       "    <tr>\n",
       "      <th>2010-01-01 00:30:00</th>\n",
       "      <td>0.0</td>\n",
       "      <td>128.50</td>\n",
       "      <td>3.300</td>\n",
       "      <td>3.30</td>\n",
       "      <td>99.0</td>\n",
       "      <td>99.0</td>\n",
       "      <td>99.0</td>\n",
       "      <td>999.0</td>\n",
       "      <td>1019.10</td>\n",
       "      <td>13.450</td>\n",
       "      <td>999.0</td>\n",
       "      <td>12.550</td>\n",
       "      <td>99.0</td>\n",
       "      <td>99.0</td>\n",
       "    </tr>\n",
       "    <tr>\n",
       "      <th>...</th>\n",
       "      <td>...</td>\n",
       "      <td>...</td>\n",
       "      <td>...</td>\n",
       "      <td>...</td>\n",
       "      <td>...</td>\n",
       "      <td>...</td>\n",
       "      <td>...</td>\n",
       "      <td>...</td>\n",
       "      <td>...</td>\n",
       "      <td>...</td>\n",
       "      <td>...</td>\n",
       "      <td>...</td>\n",
       "      <td>...</td>\n",
       "      <td>...</td>\n",
       "    </tr>\n",
       "    <tr>\n",
       "      <th>2010-12-31 22:30:00</th>\n",
       "      <td>0.0</td>\n",
       "      <td>151.00</td>\n",
       "      <td>11.050</td>\n",
       "      <td>11.90</td>\n",
       "      <td>99.0</td>\n",
       "      <td>99.0</td>\n",
       "      <td>99.0</td>\n",
       "      <td>999.0</td>\n",
       "      <td>1012.70</td>\n",
       "      <td>20.500</td>\n",
       "      <td>999.0</td>\n",
       "      <td>19.600</td>\n",
       "      <td>99.0</td>\n",
       "      <td>99.0</td>\n",
       "    </tr>\n",
       "    <tr>\n",
       "      <th>2010-12-31 22:45:00</th>\n",
       "      <td>0.0</td>\n",
       "      <td>150.50</td>\n",
       "      <td>10.625</td>\n",
       "      <td>11.40</td>\n",
       "      <td>99.0</td>\n",
       "      <td>99.0</td>\n",
       "      <td>99.0</td>\n",
       "      <td>999.0</td>\n",
       "      <td>1012.75</td>\n",
       "      <td>20.450</td>\n",
       "      <td>999.0</td>\n",
       "      <td>19.600</td>\n",
       "      <td>99.0</td>\n",
       "      <td>99.0</td>\n",
       "    </tr>\n",
       "    <tr>\n",
       "      <th>2010-12-31 23:00:00</th>\n",
       "      <td>0.0</td>\n",
       "      <td>150.00</td>\n",
       "      <td>10.200</td>\n",
       "      <td>10.90</td>\n",
       "      <td>99.0</td>\n",
       "      <td>99.0</td>\n",
       "      <td>99.0</td>\n",
       "      <td>999.0</td>\n",
       "      <td>1012.80</td>\n",
       "      <td>20.400</td>\n",
       "      <td>999.0</td>\n",
       "      <td>19.600</td>\n",
       "      <td>99.0</td>\n",
       "      <td>99.0</td>\n",
       "    </tr>\n",
       "  </tbody>\n",
       "</table>\n",
       "<p>35037 rows × 14 columns</p>\n",
       "</div>"
      ],
      "text/plain": [
       "                      mm    WDIR    WSPD    GST  WVHT   DPD   APD    MWD  \\\n",
       "dates                                                                      \n",
       "2010-01-01 00:00:00  0.0  134.00   3.000   3.00  99.0  99.0  99.0  999.0   \n",
       "2010-01-01 00:15:00  0.0  131.25   3.150   3.15  99.0  99.0  99.0  999.0   \n",
       "2010-01-01 00:30:00  0.0  128.50   3.300   3.30  99.0  99.0  99.0  999.0   \n",
       "...                  ...     ...     ...    ...   ...   ...   ...    ...   \n",
       "2010-12-31 22:30:00  0.0  151.00  11.050  11.90  99.0  99.0  99.0  999.0   \n",
       "2010-12-31 22:45:00  0.0  150.50  10.625  11.40  99.0  99.0  99.0  999.0   \n",
       "2010-12-31 23:00:00  0.0  150.00  10.200  10.90  99.0  99.0  99.0  999.0   \n",
       "\n",
       "                        PRES    ATMP   WTMP    DEWP   VIS  TIDE  \n",
       "dates                                                            \n",
       "2010-01-01 00:00:00  1019.10  13.300  999.0  12.400  99.0  99.0  \n",
       "2010-01-01 00:15:00  1019.10  13.375  999.0  12.475  99.0  99.0  \n",
       "2010-01-01 00:30:00  1019.10  13.450  999.0  12.550  99.0  99.0  \n",
       "...                      ...     ...    ...     ...   ...   ...  \n",
       "2010-12-31 22:30:00  1012.70  20.500  999.0  19.600  99.0  99.0  \n",
       "2010-12-31 22:45:00  1012.75  20.450  999.0  19.600  99.0  99.0  \n",
       "2010-12-31 23:00:00  1012.80  20.400  999.0  19.600  99.0  99.0  \n",
       "\n",
       "[35037 rows x 14 columns]"
      ]
     },
     "execution_count": 14,
     "metadata": {},
     "output_type": "execute_result"
    }
   ],
   "source": [
    "df2 = pd.read_table('../data/burl1h2010.txt', header=0, skiprows=[1], delim_whitespace=True, \n",
    "                    parse_dates={'dates': ['#YY', 'MM', 'DD', 'hh']},  index_col=0)\n",
    "df2.resample('1d', 'max')#['DEWP']\n",
    "df2.resample('15min').interpolate()\n",
    "df2.resample('1M')['PRES'].max().values   #'1M' 1 month\n",
    "df2.resample('1M').std()['PRES']\n",
    "\n",
    "df = df.reset_index(drop=True)  # don't save it as a column"
   ]
  },
  {
   "cell_type": "code",
   "execution_count": 15,
   "metadata": {
    "collapsed": false
   },
   "outputs": [
    {
     "data": {
      "text/plain": [
       "<matplotlib.axes._subplots.AxesSubplot at 0x7fee0d6bd198>"
      ]
     },
     "execution_count": 15,
     "metadata": {},
     "output_type": "execute_result"
    },
    {
     "data": {
      "image/png": "[encoded data removed]",
      "text/plain": [
       "<matplotlib.figure.Figure at 0x7fee0d713c88>"
      ]
     },
     "metadata": {},
     "output_type": "display_data"
    }
   ],
   "source": [
    "df = pd.read_csv('../data/yellow_tripdata_2016-05-01_decimated.csv', header=0, parse_dates=[0, 2], index_col=[0])\n",
    "df['trip_distance']['2016-05-01 06:15:00':'2016-05-01 06:23:00'].plot(figsize=(14,6),marker='o',linestyle='none')\n",
    "df['2016-05-01 00':'2016-05-01 02']['tip_amount'].hist(bins=np.arange(0.1,11,0.5))"
   ]
  },
  {
   "cell_type": "code",
   "execution_count": null,
   "metadata": {
    "collapsed": true
   },
   "outputs": [],
   "source": [
    "df.loc[:, 'minute'] = df.index.minute\n",
    "df.groupby('minute').aggregate(np.mean) "
   ]
  },
  {
   "cell_type": "code",
   "execution_count": 10,
   "metadata": {
    "collapsed": false
   },
   "outputs": [
    {
     "data": {
      "text/plain": [
       "<pandas.core.groupby.DataFrameGroupBy object at 0x7f016ef7dfd0>"
      ]
     },
     "execution_count": 10,
     "metadata": {},
     "output_type": "execute_result"
    }
   ],
   "source": [
    "import pandas as pd\n",
    "import numpy as np\n",
    "%matplotlib inline\n",
    "dfss = pd.DataFrame({'A' : ['foo', 'bar', 'foo', 'bar', 'foo', 'bar', 'foo', 'foo'],\n",
    "                           'B' : ['one', 'one', 'two', 'three','two', 'two', 'one', 'three'],\n",
    "                           'C' : np.random.randn(8),\n",
    "                           'D' : np.random.randn(8)})\n",
    "grouped = dfss.groupby(['A', 'B'])\n",
    "grouped"
   ]
  },
  {
   "cell_type": "code",
   "execution_count": 10,
   "metadata": {
    "collapsed": false
   },
   "outputs": [
    {
     "name": "stderr",
     "output_type": "stream",
     "text": [
      "/opt/anaconda3/lib/python3.5/site-packages/statsmodels/nonparametric/kdetools.py:20: VisibleDeprecationWarning: using a non-integer number instead of an integer will result in an error in the future\n",
      "  y = X[:m/2+1] + np.r_[0,X[m/2+1:],0]*1j\n"
     ]
    },
    {
     "data": {
      "image/png": "[encoded data removed]",
      "text/plain": [
       "<matplotlib.figure.Figure at 0x7fee0d1efc88>"
      ]
     },
     "metadata": {},
     "output_type": "display_data"
    }
   ],
   "source": [
    "df = pd.DataFrame()\n",
    "N=101\n",
    "df['x'] = np.random.rand(N)\n",
    "df['y'] = np.linspace(0.,1.,101)\n",
    "sns.distplot(df['y'],rug=True)\n",
    "# sns.interactplot('x','y',data=df,fit_reg=False)"
   ]
  },
  {
   "cell_type": "code",
   "execution_count": null,
   "metadata": {
    "collapsed": true
   },
   "outputs": [],
   "source": [
    "buckets = np.repeat(['a','b','c'], [3,5,1])\n",
    "sequence = [0,1,5,0,1,2,4,50,0]\n",
    "\n",
    "s = pd.Series(\n",
    "    np.random.randn(len(sequence)), \n",
    "    index=pd.MultiIndex.from_tuples(zip(buckets, sequence)))"
   ]
  },
  {
   "cell_type": "code",
   "execution_count": null,
   "metadata": {
    "collapsed": true
   },
   "outputs": [],
   "source": []
  },
  {
   "cell_type": "code",
   "execution_count": null,
   "metadata": {
    "collapsed": true
   },
   "outputs": [],
   "source": [
    "year=1985\n",
    "for month in range(1,13):\n",
    "    print('******{month:02d}******{year}'.format(month=month,year=year))"
   ]
  },
  {
   "cell_type": "code",
   "execution_count": null,
   "metadata": {
    "collapsed": true
   },
   "outputs": [],
   "source": [
    "''' HW 2\n",
    "This script retreives historical discharge(stream flow) data from USGS waterdata site, given site number. \n",
    "It calculates the mean annual cycle and it's spread from year to year. Finally, displays a graphic\n",
    "showing discharge for few years, overlayed over mean annual cycle and standard deviation spread.\n",
    "Design: Defined a class called 'usgs_water_data' with 'site_info', 'discharge' and 'dates' as it's attributes and\n",
    "'annual_cycle' and 'plot_data' as it's functions.\n",
    "written by Tarun Verma on Oct04,2013\n",
    "'''\n",
    "# Importing Packages\n",
    "import numpy as np\n",
    "import matplotlib.pyplot as plt\n",
    "import urllib\n",
    "from datetime import date\n",
    "from matplotlib.dates import MonthLocator, DateFormatter\n",
    "\n",
    "class usgs_water_data( ):\n",
    "    '''\n",
    "       Usage :\n",
    "       ...\n",
    "       station = usgs_water_data('01100000')\n",
    "       ...\n",
    "       \n",
    "    '''\n",
    "    def __init__(self, site_no):\n",
    "        '''\n",
    "           Creates an instance of 'usgs_water_data' class with site_info and timeseries \n",
    "           of discharge and dates as it's attributes, extracted from USGS waterdata site.\n",
    "        '''\n",
    "        \n",
    "        url = 'http://nwis.waterdata.usgs.gov/nwis/dv?cb_00060=on&format=rdb&begin_date=1900-01-01\\\n",
    "            &end_date=2013-12-31&site_no=%s' % (site_no)\n",
    "        fil = urllib.urlopen(url)\n",
    "        txt_dat = []\n",
    "        for lines in fil.readlines():\n",
    "            txt_dat.append(lines) \n",
    "\n",
    "        site_info = txt_dat[14][1:-1] # river and site info from the header\n",
    "        dates = []\n",
    "        discharge = []\n",
    "        for lines in txt_dat[28:]:\n",
    "            dd,dis = lines.split()[2:4]\n",
    "            dates.append(date(int(dd.split('-')[0]),int(dd.split('-')[1]),int(dd.split('-')[2])))\n",
    "            discharge.append(float(dis))\n",
    "    \n",
    "        # SI units conversion and class variables\n",
    "        self.discharge = 28.316e-3*np.array(discharge)\n",
    "        self.dates = np.array(dates)\n",
    "        self.site_info = site_info\n",
    "        fil.close()\n",
    "        \n",
    "    def smooth(self, x,window_len=10):\n",
    "        '''\n",
    "           Smoothes time series(filter out high frequency fluctuations) \n",
    "           Modified from http://www.ieap.uni-kiel.de/et/people/wimmer/teaching/et2/time_series_1.py\n",
    "        '''\n",
    "        s = np.r_[2*x[0]-x[window_len:1:-1],x,2*x[-1]-x[-1:-window_len:-1]]\n",
    "        #moving average\n",
    "        w = np.ones(window_len,'d')\n",
    "        y=np.convolve(w/w.sum(),s,mode='same')\n",
    "        return y[window_len-1:-window_len+1]    \n",
    "\n",
    "    def annual_cycle(self):\n",
    "        '''\n",
    "           A function acts on object of 'usgs_water_data' class, calculates and return an equivalent\n",
    "           timeseries of annual cycle of mean discharge and standard deviation. \n",
    "        '''\n",
    "        mm = np.array([dd.month for dd in self.dates])\n",
    "        da = np.array([dd.day for dd in self.dates])\n",
    "        mean_discharge = []\n",
    "        std_discharge = []\n",
    "        for dd in self.dates:\n",
    "            array_discharge = self.discharge[(mm == dd.month) & (da == dd.day)]\n",
    "            mean_discharge.append(array_discharge.mean())\n",
    "            std_discharge.append(array_discharge.std())\n",
    "        \n",
    "        return np.array(self.smooth(mean_discharge)), np.array(std_discharge) \n",
    "\n",
    "    def plot_data(self, mean, std, plt_yy):\n",
    "        '''\n",
    "           A function of 'usgs_water_data' class to create a graphic showing discharge \n",
    "           for period of years bounded by 'plt_yy', overlayed over mean annual cycle and standard deviation spread. \n",
    "        '''\n",
    "        # Slicing data for plotting\n",
    "        yy_ind = np.where(np.array([(dd.year <= plt_yy + 1) & (dd.year >=plt_yy - 1) for dd in self.dates])==True)\n",
    "        # Opening and initializing figure object\n",
    "        fig = plt.figure(figsize=(12,5))\n",
    "        fig.autofmt_xdate()\n",
    "        ax = fig.add_subplot(111,axisbg='#fffafa')\n",
    "        # Actual Plotting\n",
    "        ax.plot_date(self.dates[yy_ind],self.discharge[yy_ind],'k',lw=1.2, label='Daily')\n",
    "        ax.plot_date(self.dates[yy_ind],mean[yy_ind],'-',color='#8b4513',lw=1.5, label='Mean')\n",
    "        ax.plot_date(self.dates[yy_ind],mean[yy_ind] + std[yy_ind],':',color='#f4a460',figure=fig,\\\n",
    "                     alpha=0.6)\n",
    "        ax.plot_date(self.dates[yy_ind],mean[yy_ind] - std[yy_ind],':',color='#f4a460',figure=fig,\\\n",
    "                     alpha=0.6)\n",
    "        ax.fill_between(self.dates[yy_ind],mean[yy_ind] + std[yy_ind],mean[yy_ind] - std[yy_ind],\\\n",
    "                        facecolor='#f5deb3',alpha=0.3)\n",
    "        # Adding Metadata to the graphic\n",
    "        ax.set_title('Stream Flow for Station- '+ self.site_info.strip()[5:13] \\\n",
    "        + '\\n' + self.site_info.strip()[14:])\n",
    "        ax.set_ylabel(r'Stream Flow (m$^{3}$ s$^{-1}$)')\n",
    "        plt.setp(plt.xticks()[1], rotation=30)\n",
    "        months    = MonthLocator(range(1,13), bymonthday=1, interval=3)\n",
    "        monthsFmt = DateFormatter(\"%b '%y\")\n",
    "        ax.xaxis.set_major_locator(months)\n",
    "        ax.xaxis.set_major_formatter(monthsFmt)\n",
    "        p = plt.Rectangle((0, 0), 0, 0, edgecolor='#f4a460',facecolor='#f5deb3',alpha=0.3,label='Std dev. Spread')\n",
    "        ax.add_patch(p)\n",
    "        leg = ax.legend()\n",
    "        frame = leg.get_frame()\n",
    "        frame.set_facecolor('#fffafa')\n",
    "        ax.grid()\n",
    "        # Saving the graphic\n",
    "        #plt.ylim(-100,400)\n",
    "        plt.savefig('plot_' + str(self.site_info.strip()[5:13]) + '_' + str(plt_yy) + '_smoothed.pdf', dpi=300)\n",
    "        plt.close()\n",
    "\n",
    "\n",
    "\n",
    "if __name__ == \"__main__\":    \n",
    "    ''' \n",
    "       Inputs to the script \n",
    "    '''\n",
    "    site_no = '01100000' # '07335790' \n",
    "    plt_yy  = 2010\n",
    "\n",
    "    station = usgs_water_data(site_no)\n",
    "\n",
    "    mean_discharge, std_discharge = station.annual_cycle()\n",
    "\n",
    "    station.plot_data(mean_discharge, std_discharge, plt_yy)"
   ]
  }
 ],
 "metadata": {
  "anaconda-cloud": {},
  "kernelspec": {
   "display_name": "Python [default]",
   "language": "python",
   "name": "python3"
  },
  "language_info": {
   "codemirror_mode": {
    "name": "ipython",
    "version": 3
   },
   "file_extension": ".py",
   "mimetype": "text/x-python",
   "name": "python",
   "nbconvert_exporter": "python",
   "pygments_lexer": "ipython3",
   "version": "3.5.2"
  }
 },
 "nbformat": 4,
 "nbformat_minor": 2
}
