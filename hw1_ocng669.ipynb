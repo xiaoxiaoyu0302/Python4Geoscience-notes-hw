{
 "cells": [
  {
   "cell_type": "code",
   "execution_count": 1,
   "metadata": {
    "collapsed": true
   },
   "outputs": [],
   "source": [
    "# Be sure to use Python 3\n",
    "import IPython\n",
    "assert IPython.version_info[0] >= 3, \"Your version of IPython is too old, please update it.\""
   ]
  },
  {
   "cell_type": "markdown",
   "metadata": {},
   "source": [
    "# Core Language"
   ]
  },
  {
   "cell_type": "markdown",
   "metadata": {},
   "source": [
    "### 1. Make a dictionary (1 point)\n",
    "\n",
    "Write a function that returns a dictionary whose keys and values are your name, hometown, department, student status (undergrad/grad), and years at TAMU.\n",
    "\n",
    "*Don't forget:* You will need to delete the line with `raise NotImplementedError`, write your own solution, and then re-run the cell before running the test cell. Each time you change code in a cell, you  will need to re-run that cell before running any other cells that depend on it!"
   ]
  },
  {
   "cell_type": "code",
   "execution_count": 3,
   "metadata": {
    "deletable": false,
    "nbgrader": {
     "checksum": "65cca77a0962c51b9affb83dbaed7188",
     "grade": false,
     "grade_id": "dictionary",
     "locked": false,
     "schema_version": 1,
     "solution": true
    }
   },
   "outputs": [
    {
     "data": {
      "text/plain": [
       "{'department': 'Oceanography',\n",
       " 'hometown': 'Xiangyang',\n",
       " 'name': 'Xiao',\n",
       " 'status': 'Graduate',\n",
       " 'years': 1}"
      ]
     },
     "execution_count": 3,
     "metadata": {},
     "output_type": "execute_result"
    }
   ],
   "source": [
    "def intro_dictionary(name, hometown, department, status, years):\n",
    "    \"\"\"Returns a dictionary containing key/value pairs.\n",
    "    \n",
    "    Parameters\n",
    "    ----------\n",
    "    name : string\n",
    "        Your name\n",
    "    hometown : string\n",
    "        Where are you from?\n",
    "    department : string\n",
    "        What department are you in?\n",
    "    status : string\n",
    "        Are you an undergrad or graduate student?\n",
    "    years : float\n",
    "        How many years have you been at TAMU?\n",
    "        \n",
    "    Returns\n",
    "    -------\n",
    "    dictionary containing the input information\n",
    "    \n",
    "    \"\"\"\n",
    "    # YOUR CODE HERE\n",
    "    return {'name': name, 'hometown': hometown,'department':department,'status':status,'years':years}   \n",
    "intro_dictionary('Xiao', 'Xiangyang', 'Oceanography', 'Graduate', 1)\n"
   ]
  },
  {
   "cell_type": "code",
   "execution_count": 4,
   "metadata": {
    "deletable": false,
    "editable": false,
    "nbgrader": {
     "checksum": "b2a12e60c13cc21185e12961a5bcc63c",
     "grade": true,
     "grade_id": "test_dictionary",
     "locked": true,
     "points": 1,
     "schema_version": 1,
     "solution": false
    }
   },
   "outputs": [
    {
     "name": "stdout",
     "output_type": "stream",
     "text": [
      "Success!\n"
     ]
    }
   ],
   "source": [
    "\"\"\"(1 point) Test code for the previous function. This cell should NOT give any errors when it is run.\"\"\"\n",
    "assert(isinstance(intro_dictionary('Kristen', 'Seattle', 'Oceanography', 'faculty', 4), dict))\n",
    "assert(intro_dictionary('Kristen', 'Seattle', 'Oceanography', 'faculty', 4)['name'])\n",
    "assert(intro_dictionary('Kristen', 'Seattle', 'Oceanography', 'faculty', 4)['hometown'])\n",
    "assert(intro_dictionary('Kristen', 'Seattle', 'Oceanography', 'faculty', 4)['department'])\n",
    "assert(intro_dictionary('Kristen', 'Seattle', 'Oceanography', 'faculty', 4)['status'])\n",
    "assert(intro_dictionary('Kristen', 'Seattle', 'Oceanography', 'faculty', 4)['years'])\n",
    "\n",
    "print(\"Success!\")"
   ]
  },
  {
   "cell_type": "markdown",
   "metadata": {},
   "source": [
    "### 2. Test for vowels (1 point)\n",
    "\n",
    "Write a function that takes a character (i.e. a string of length 1) and returns True if it is a vowel, False otherwise. For example,\n",
    "    >>> isVowel(\"a\")\n",
    "    True\n",
    "    >>> isVowel(\"b\")\n",
    "    False\n",
    "\n",
    "You can compare the input character with a known list of vowels. Don't forget about case!"
   ]
  },
  {
   "cell_type": "code",
   "execution_count": 6,
   "metadata": {
    "deletable": false,
    "nbgrader": {
     "checksum": "1c837cf7000f28e20b0132c0d6a19167",
     "grade": false,
     "grade_id": "isvowel",
     "locked": false,
     "schema_version": 1,
     "solution": true
    }
   },
   "outputs": [],
   "source": [
    "def isVowel(char):\n",
    "    \"\"\"Takes a character and returns True if it is a vowel, and False otherwise.\n",
    "    \n",
    "    Parameters\n",
    "    ----------\n",
    "    char : string\n",
    "        string of length 1\n",
    "        \n",
    "    Returns\n",
    "    -------\n",
    "    boolean telling whether char is a vowel or not\n",
    "    \n",
    "    \"\"\"\n",
    "    # YOUR CODE HERE\n",
    "    return any(char.lower()  == c for c in 'aeiou') "
   ]
  },
  {
   "cell_type": "code",
   "execution_count": 7,
   "metadata": {
    "deletable": false,
    "editable": false,
    "nbgrader": {
     "checksum": "0cf966f95e0e929fe69ef0bb00d732f1",
     "grade": true,
     "grade_id": "test_isvowel",
     "locked": true,
     "points": 1,
     "schema_version": 1,
     "solution": false
    }
   },
   "outputs": [
    {
     "name": "stdout",
     "output_type": "stream",
     "text": [
      "Success!\n"
     ]
    }
   ],
   "source": [
    "\"\"\"(1 point) Test code for the previous function. This cell should NOT give any errors when it is run.\"\"\"\n",
    "assert isVowel('a')\n",
    "assert isVowel('U')\n",
    "assert not isVowel('m')\n",
    "assert not isVowel(' ')\n",
    "assert not isVowel('This is not a vowel')\n",
    "\n",
    "print(\"Success!\")"
   ]
  },
  {
   "cell_type": "markdown",
   "metadata": {},
   "source": [
    "### 3. Reverse a string (1 point)\n",
    "\n",
    "Define a function reverse() that computes the reversal of a string. For example, \n",
    "    >>> reverse(\"I am testing\")\n",
    "    \"gnitset ma I\""
   ]
  },
  {
   "cell_type": "code",
   "execution_count": 8,
   "metadata": {
    "collapsed": true,
    "deletable": false,
    "nbgrader": {
     "checksum": "a8dda7ba13d0ea9751a1c062fad27524",
     "grade": false,
     "grade_id": "reverse",
     "locked": false,
     "schema_version": 1,
     "solution": true
    }
   },
   "outputs": [],
   "source": [
    "def reverse(string):\n",
    "    \"\"\"Reverse string and then return in.\n",
    "    \n",
    "    Parameters\n",
    "    ----------\n",
    "    string : str\n",
    "        \n",
    "        \n",
    "    Returns\n",
    "    -------\n",
    "    string that is reversed\n",
    "    \"\"\"\n",
    "    # YOUR CODE HERE\n",
    "    return string[::-1]"
   ]
  },
  {
   "cell_type": "code",
   "execution_count": 9,
   "metadata": {
    "deletable": false,
    "editable": false,
    "nbgrader": {
     "checksum": "c753e75fde6d1e0658af5ac23f1b6a44",
     "grade": true,
     "grade_id": "test_reverse",
     "locked": true,
     "points": 1,
     "schema_version": 1,
     "solution": false
    }
   },
   "outputs": [
    {
     "name": "stdout",
     "output_type": "stream",
     "text": [
      "Success!\n"
     ]
    }
   ],
   "source": [
    "\"\"\"(1 point) Test code for the previous function. This cell should NOT give any errors when it is run.\"\"\"\n",
    "from nose.tools import assert_equal\n",
    "assert_equal(reverse('I am testing'), 'gnitset ma I')\n",
    "assert_equal(reverse('I am TesTinG'), 'GniTseT ma I')\n",
    "assert_equal(reverse(''), '')\n",
    "\n",
    "print(\"Success!\")"
   ]
  },
  {
   "cell_type": "markdown",
   "metadata": {},
   "source": [
    "### 4. Compute the length of a given list or string. (2 points)\n",
    "\n",
    "Define a function that computes the length of a given list or string. (It is true that Python has the len() function built in, but do not use it for your solution — use a loop instead.)\n",
    "\n",
    "For example:\n",
    "\n",
    "    >>> length(['string1', 'string2'])\n",
    "    2\n",
    "    >>> length('string1')\n",
    "    7"
   ]
  },
  {
   "cell_type": "code",
   "execution_count": 10,
   "metadata": {
    "collapsed": true,
    "deletable": false,
    "nbgrader": {
     "checksum": "849e4d58f62babc1c7c778b1167c0300",
     "grade": false,
     "grade_id": "length",
     "locked": false,
     "schema_version": 1,
     "solution": true
    }
   },
   "outputs": [],
   "source": [
    "def length(inputs):\n",
    "    \"\"\"Compute the length of a given list or string.\n",
    "    \n",
    "    Parameters\n",
    "    ----------\n",
    "    inputs : string or list\n",
    "        \n",
    "        \n",
    "    Returns\n",
    "    -------\n",
    "    integer that is either the number of characters in the input string or the number of \n",
    "    entries in the input list.\n",
    "    \"\"\"\n",
    "    # YOUR CODE HERE\n",
    "    \n",
    "    if inputs.count(inputs[-1]) > 1:\n",
    "        return inputs.rindex(inputs[-1])+1\n",
    "    else:\n",
    "        return inputs.index(inputs[-1])+1"
   ]
  },
  {
   "cell_type": "code",
   "execution_count": 11,
   "metadata": {
    "deletable": false,
    "editable": false,
    "nbgrader": {
     "checksum": "0005ff19febf38748c73d5a417f34ee1",
     "grade": true,
     "grade_id": "test_length",
     "locked": true,
     "points": 2,
     "schema_version": 1,
     "solution": false
    }
   },
   "outputs": [
    {
     "name": "stdout",
     "output_type": "stream",
     "text": [
      "Success!\n"
     ]
    }
   ],
   "source": [
    "\"\"\"(2 points) Test code for the previous function. This cell should NOT give any errors when it is run.\"\"\"\n",
    "from nose.tools import assert_equal\n",
    "# Check a list\n",
    "inputs = ['apple', 'orange']\n",
    "assert_equal(length(inputs), 2)\n",
    "\n",
    "# Check a string\n",
    "inputs = 'tomato'\n",
    "assert_equal(length(inputs), 6)\n",
    "\n",
    "# What about a string with a space in it?\n",
    "inputs = 'bacon and eggs'\n",
    "assert_equal(length(inputs), 14)\n",
    "\n",
    "# Also will look for not using the built-in len() function\n",
    "len_old = len\n",
    "len = None\n",
    "inputs = 'tomato'\n",
    "assert_equal(length(inputs), 6)\n",
    "len = len_old\n",
    "\n",
    "print(\"Success!\")"
   ]
  },
  {
   "cell_type": "markdown",
   "metadata": {},
   "source": [
    "### 5. Check for palindromes (2 points)\n",
    "\n",
    "Define a function is_palindrome() that recognizes palindromes (i.e. words and phrases that look the same written forwards and backwards). Make sure that case and spaces are ignored in your function; for example,\n",
    "    >>> is_palindrome(\"Never odd or even\")\n",
    "    True\n",
    "\n",
    "You can use your solution to #3 for solving this problem."
   ]
  },
  {
   "cell_type": "code",
   "execution_count": 12,
   "metadata": {
    "collapsed": true,
    "deletable": false,
    "nbgrader": {
     "checksum": "72ee7e5a1201b0b4b00fdf0363311e01",
     "grade": false,
     "grade_id": "palindrome",
     "locked": false,
     "schema_version": 1,
     "solution": true
    }
   },
   "outputs": [],
   "source": [
    "def is_palindrome(phrase):\n",
    "    \"\"\"Returns True for a palindrome and False otherwise.\n",
    "    \n",
    "    Parameters\n",
    "    ----------\n",
    "    phrase : string\n",
    "        \n",
    "        \n",
    "    Returns\n",
    "    -------\n",
    "    Boolean\n",
    "    \"\"\"\n",
    "    # YOUR CODE HERE\n",
    "    phrasenew=phrase.replace(\" \",\"\").lower()\n",
    "    return phrasenew[::-1]==phrasenew"
   ]
  },
  {
   "cell_type": "code",
   "execution_count": 13,
   "metadata": {
    "deletable": false,
    "editable": false,
    "nbgrader": {
     "checksum": "5a80b771e8385877f7a10a25ce9a1346",
     "grade": true,
     "grade_id": "test_palindrome",
     "locked": true,
     "points": 2,
     "schema_version": 1,
     "solution": false
    }
   },
   "outputs": [
    {
     "name": "stdout",
     "output_type": "stream",
     "text": [
      "Success!\n"
     ]
    }
   ],
   "source": [
    "\"\"\"(2 points) Test code for the previous function. This cell should NOT give any errors when it is run.\"\"\"\n",
    "from nose.tools import assert_equal\n",
    "assert is_palindrome(\"radar\")\n",
    "assert is_palindrome(\"rad dar\")\n",
    "assert is_palindrome(\"Never odd or even\")\n",
    "assert not is_palindrome(\"I am testing\")\n",
    "\n",
    "print(\"Success!\")"
   ]
  },
  {
   "cell_type": "markdown",
   "metadata": {},
   "source": [
    "### 6. Encode and decode using ROT-13 (2 points)\n",
    "\n",
    "In cryptography, a Caesar cipher is a very simple encryption techniques in which each letter in the plain text is replaced by a letter some fixed number of positions down the alphabet. For example, with a shift of 3, A would be replaced by D, B would become E, and so on. The method is named after Julius Caesar, who used it to communicate with his generals. ROT-13 (\"rotate by 13 places\") is a widely used example of a Caesar cipher where the shift is 13. In Python, the key for ROT-13 may be represented by means of the following dictionary:\n",
    "\n",
    "    key = {'a':'n', 'b':'o', 'c':'p', 'd':'q', 'e':'r', 'f':'s', 'g':'t', 'h':'u', \n",
    "           'i':'v', 'j':'w', 'k':'x', 'l':'y', 'm':'z', 'n':'a', 'o':'b', 'p':'c', \n",
    "           'q':'d', 'r':'e', 's':'f', 't':'g', 'u':'h', 'v':'i', 'w':'j', 'x':'k',\n",
    "           'y':'l', 'z':'m', 'A':'N', 'B':'O', 'C':'P', 'D':'Q', 'E':'R', 'F':'S', \n",
    "           'G':'T', 'H':'U', 'I':'V', 'J':'W', 'K':'X', 'L':'Y', 'M':'Z', 'N':'A', \n",
    "           'O':'B', 'P':'C', 'Q':'D', 'R':'E', 'S':'F', 'T':'G', 'U':'H', 'V':'I', \n",
    "           'W':'J', 'X':'K', 'Y':'L', 'Z':'M'}\n",
    "\n",
    "Your task in this exercise is to implement an encoder/decoder of ROT-13. Once you're done, you will be able to read the following secret message:\n",
    "\n",
    "       Pnrfne pvcure? V zhpu cersre Pnrfne fnynq!\n",
    "\n",
    "Note that since English has 26 characters, your ROT-13 program will be able to both encode and decode texts written in English. You should be able to do this using the properties of a dictionary."
   ]
  },
  {
   "cell_type": "code",
   "execution_count": 20,
   "metadata": {
    "collapsed": true,
    "deletable": false,
    "nbgrader": {
     "checksum": "19cbb387a717b42bee449b69731ad7bf",
     "grade": false,
     "grade_id": "rot13",
     "locked": false,
     "schema_version": 1,
     "solution": true
    }
   },
   "outputs": [],
   "source": [
    "key = {'a':'n', 'b':'o', 'c':'p', 'd':'q', 'e':'r', 'f':'s', 'g':'t', 'h':'u', \n",
    "       'i':'v', 'j':'w', 'k':'x', 'l':'y', 'm':'z', 'n':'a', 'o':'b', 'p':'c', \n",
    "       'q':'d', 'r':'e', 's':'f', 't':'g', 'u':'h', 'v':'i', 'w':'j', 'x':'k',\n",
    "       'y':'l', 'z':'m', 'A':'N', 'B':'O', 'C':'P', 'D':'Q', 'E':'R', 'F':'S', \n",
    "       'G':'T', 'H':'U', 'I':'V', 'J':'W', 'K':'X', 'L':'Y', 'M':'Z', 'N':'A', \n",
    "       'O':'B', 'P':'C', 'Q':'D', 'R':'E', 'S':'F', 'T':'G', 'U':'H', 'V':'I', \n",
    "       'W':'J', 'X':'K', 'Y':'L', 'Z':'M'}\n",
    "\n",
    "def rot13(letter):\n",
    "    \"\"\"Swap letter indicated in key.\n",
    "    \n",
    "    Parameters\n",
    "    ----------\n",
    "    letter : string of length 1\n",
    "        letter to be swapped using the key dictionary\n",
    "        \n",
    "    Returns\n",
    "    -------\n",
    "    letter\n",
    "    \"\"\"\n",
    "    # YOUR CODE HERE\n",
    "    keydecode=''\n",
    "    for i in letter:\n",
    "        if i.islower():\n",
    "            keydecode+=key.get(i) \n",
    "        if i.isupper():\n",
    "            i=i.lower()\n",
    "            keydecode+=key.get(i).capitalize()\n",
    "        if i not in key:\n",
    "            keydecode+=i\n",
    "        \n",
    "    \n",
    "    return keydecode"
   ]
  },
  {
   "cell_type": "code",
   "execution_count": 22,
   "metadata": {
    "deletable": false,
    "editable": false,
    "nbgrader": {
     "checksum": "90e7908fa3c1f8cfdabae93263153ca5",
     "grade": true,
     "grade_id": "test_rot13",
     "locked": true,
     "points": 2,
     "schema_version": 1,
     "solution": false
    }
   },
   "outputs": [
    {
     "name": "stdout",
     "output_type": "stream",
     "text": [
      "Success!\n"
     ]
    }
   ],
   "source": [
    "\"\"\"(2 points) Test code for the previous function. This cell should NOT give any errors when it is run.\"\"\"\n",
    "phrase = 'Pnrfne pvcure? V zhpu cersre Pnrfne fnynq!'\n",
    "\n",
    "translatedchars = list(map(rot13, phrase))  # Also used in #7, map connects a function with \n",
    "                                            # each letter in phrase.\n",
    "translated = ''.join(translatedchars)  # we got a bunch of characters back. Join combines them\n",
    "                                       # into a string\n",
    "\n",
    "# recode\n",
    "retranslatedchars = list(map(rot13, translated))\n",
    "retranslated = ''.join(retranslatedchars)\n",
    "    \n",
    "# Check decode\n",
    "from nose.tools import assert_equal\n",
    "assert_equal(translated, \"Caesar cipher? I much prefer Caesar salad!\")\n",
    "assert_equal(retranslated, phrase)  # check that it works both ways\n",
    "\n",
    "print(\"Success!\")"
   ]
  },
  {
   "cell_type": "markdown",
   "metadata": {},
   "source": [
    "### 7. Fix the code (2 points)\n",
    "\n",
    "\"99 Bottles of Beer\" is a traditional song in the United States and Canada. It is popular to sing on long trips, as it has a very repetitive format which is easy to memorize, and can take a long time to sing. The song's simple lyrics are as follows:\n",
    "\n",
    "99 bottles of beer on the wall, 99 bottles of beer.\n",
    "Take one down, pass it around, 98 bottles of beer on the wall.\n",
    "\n",
    "The same verse is repeated, each time with one fewer bottle. The song is completed when the singer or singers reach zero.\n",
    "\n",
    "Code to generate all verses of this song has already been written and is provided below. However, it has several problems in it that prevent it from running properly. Your task is to fix the code, keeping a list of what you change, so that the code generates 3 verses of the song.\n",
    "\n",
    "You should simply remove the not implemented error and insert code part, and instead just fix the existing code for this problem."
   ]
  },
  {
   "cell_type": "code",
   "execution_count": 36,
   "metadata": {
    "deletable": false,
    "nbgrader": {
     "checksum": "3b86ff49b970e326e1a590b27dd48870",
     "grade": false,
     "grade_id": "bottles",
     "locked": false,
     "schema_version": 1,
     "solution": true
    }
   },
   "outputs": [],
   "source": [
    "def words(num):\n",
    "    \"\"\"Returns words with proper number of beer bottles filled in.\"\"\"\n",
    "    \n",
    "    if num != 1:\n",
    "        return str(num) + ' bottles of beer on the wall, ' + str(num) + ' bottles of beer.\\n' + \\\n",
    "            'Take one down, pass it around, ' + str(num-1) + ' bottles of beer on the wall.\\n\\n'\n",
    "\n",
    "    elif num == 1:\n",
    "        return str(num) + ' bottle of beer on the wall, ' + str(num) + ' bottle of beer.\\n' + \\\n",
    "            'Take one down, pass it around, ' + str(num-1) + ' bottles of beer on the wall.'\n",
    "        \n",
    "def connect_words(numbottles):\n",
    "    \n",
    "    listofwords = []\n",
    "    for i in range(numbottles, 0, -1):\n",
    "        listofwords.append(words(i))\n",
    "    \n",
    "    return listofwords\n",
    "    \n",
    "# YOUR CODE HERE\n"
   ]
  },
  {
   "cell_type": "code",
   "execution_count": 38,
   "metadata": {
    "deletable": false,
    "editable": false,
    "nbgrader": {
     "checksum": "9dca53e79e2bbfe5549e8d4ac3f2645e",
     "grade": true,
     "grade_id": "test_bottles",
     "locked": true,
     "points": 2,
     "schema_version": 1,
     "solution": false
    }
   },
   "outputs": [
    {
     "name": "stdout",
     "output_type": "stream",
     "text": [
      "Success!\n"
     ]
    }
   ],
   "source": [
    "\"\"\"(2 points) Test code for the previous function. This cell should NOT give any errors when it is run.\"\"\"\n",
    "\n",
    "output = '''3 bottles of beer on the wall, 3 bottles of beer.\n",
    "Take one down, pass it around, 2 bottles of beer on the wall.\n",
    "\n",
    "2 bottles of beer on the wall, 2 bottles of beer.\n",
    "Take one down, pass it around, 1 bottles of beer on the wall.\n",
    "\n",
    "1 bottle of beer on the wall, 1 bottle of beer.\n",
    "Take one down, pass it around, 0 bottles of beer on the wall.'''\n",
    "\n",
    "numbottles = 3\n",
    "from nose.tools import assert_equal\n",
    "assert_equal(output, ''.join(connect_words(numbottles)))\n",
    "\n",
    "print(\"Success!\")"
   ]
  },
  {
   "cell_type": "code",
   "execution_count": null,
   "metadata": {
    "collapsed": true
   },
   "outputs": [],
   "source": []
  }
 ],
 "metadata": {
  "anaconda-cloud": {},
  "kernelspec": {
   "display_name": "Python [default]",
   "language": "python",
   "name": "python3"
  },
  "language_info": {
   "codemirror_mode": {
    "name": "ipython",
    "version": 3
   },
   "file_extension": ".py",
   "mimetype": "text/x-python",
   "name": "python",
   "nbconvert_exporter": "python",
   "pygments_lexer": "ipython3",
   "version": "3.5.3"
  }
 },
 "nbformat": 4,
 "nbformat_minor": 1
}
