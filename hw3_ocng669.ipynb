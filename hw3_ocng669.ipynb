{
 "cells": [
  {
   "cell_type": "markdown",
   "metadata": {},
   "source": [
    "# Numerical Python"
   ]
  },
  {
   "cell_type": "code",
   "execution_count": 1,
   "metadata": {
    "collapsed": true
   },
   "outputs": [],
   "source": [
    "# ALWAYS RUN THIS CELL FIRST\n",
    "\n",
    "from nose.tools import assert_equal  # tool for testing solutions\n",
    "import numpy as np"
   ]
  },
  {
   "cell_type": "markdown",
   "metadata": {},
   "source": [
    "### 1. Vector manipulation\n",
    "\n",
    "Return a vector of zeros of size 10 but with the fifth value as 1. Function takes no inputs."
   ]
  },
  {
   "cell_type": "code",
   "execution_count": 2,
   "metadata": {
    "deletable": false,
    "nbgrader": {
     "checksum": "26737396b03734ea09d71be50b252035",
     "grade": false,
     "grade_id": "vector-manipulation",
     "locked": false,
     "schema_version": 1,
     "solution": true
    }
   },
   "outputs": [],
   "source": [
    "def vector_manipulation():\n",
    "    \"\"\"Returns a vector of zeros of size 10 but with the fifth value as 1.\n",
    "    \"\"\"\n",
    "    # YOUR CODE HERE\n",
    "    z=np.zeros(10)\n",
    "    z[4]=1\n",
    "    return z\n",
    "    "
   ]
  },
  {
   "cell_type": "code",
   "execution_count": 3,
   "metadata": {
    "deletable": false,
    "editable": false,
    "nbgrader": {
     "checksum": "60310b53c3370b5af05b8a11fb0f3a25",
     "grade": true,
     "grade_id": "test_vector-manipulation",
     "locked": true,
     "points": 0.5,
     "schema_version": 1,
     "solution": false
    }
   },
   "outputs": [
    {
     "name": "stdout",
     "output_type": "stream",
     "text": [
      "Success!\n"
     ]
    }
   ],
   "source": [
    "\"\"\"(0.5 point) Test code for the previous function. This cell should NOT give any errors when it is run.\n",
    "Do not alter the contents of this cell.\"\"\"\n",
    "\n",
    "vectorm = vector_manipulation()\n",
    "\n",
    "assert isinstance(vectorm, np.ndarray)\n",
    "assert vectorm[:4].all() == 0\n",
    "assert vectorm[4] == 1\n",
    "assert vectorm[5:].all() == 0\n",
    "\n",
    "print(\"Success!\")"
   ]
  },
  {
   "cell_type": "markdown",
   "metadata": {},
   "source": [
    "### 2. Vector range\n",
    "\n",
    "Return a vector with values ranging from 10 to 49, inclusive. Do not write out each element in the array."
   ]
  },
  {
   "cell_type": "code",
   "execution_count": 4,
   "metadata": {
    "collapsed": true,
    "deletable": false,
    "nbgrader": {
     "checksum": "f0d68bcd8911c6ca8904242ae3e63cbe",
     "grade": false,
     "grade_id": "vector-range",
     "locked": false,
     "schema_version": 1,
     "solution": true
    }
   },
   "outputs": [],
   "source": [
    "def vector_range():\n",
    "    \"\"\"Returns a vector with values ranging from 10 to 49, inclusive.\n",
    "    \"\"\"\n",
    "    # YOUR CODE HERE\n",
    "    return np.arange(10,50)"
   ]
  },
  {
   "cell_type": "code",
   "execution_count": 5,
   "metadata": {
    "deletable": false,
    "editable": false,
    "nbgrader": {
     "checksum": "70edf289acc6fd141934ada8618b1229",
     "grade": true,
     "grade_id": "test_vector-range",
     "locked": true,
     "points": 0.5,
     "schema_version": 1,
     "solution": false
    }
   },
   "outputs": [
    {
     "name": "stdout",
     "output_type": "stream",
     "text": [
      "Success!\n"
     ]
    }
   ],
   "source": [
    "\"\"\"(0.5 point) Test code for the previous function. This cell should NOT give any errors when it is run.\n",
    "Do not alter the contents of this cell.\"\"\"\n",
    "\n",
    "vectorr = vector_range()\n",
    "assert np.array_equal(vectorr, np.array([10, 11, 12, 13, 14, 15, 16, 17, 18, 19, 20, 21, 22, 23, 24, 25, 26,\n",
    "       27, 28, 29, 30, 31, 32, 33, 34, 35, 36, 37, 38, 39, 40, 41, 42, 43, 44, 45, 46, 47, 48, 49]))\n",
    "assert isinstance(vectorr, np.ndarray)\n",
    "\n",
    "print(\"Success!\")"
   ]
  },
  {
   "cell_type": "markdown",
   "metadata": {},
   "source": [
    "### 3. Reverse a vector\n",
    "\n",
    "Write a function, `reverse(x)` which reverses a vector, so that the first element becomes the last element."
   ]
  },
  {
   "cell_type": "code",
   "execution_count": 6,
   "metadata": {
    "collapsed": true,
    "deletable": false,
    "nbgrader": {
     "checksum": "573e24f417759b4fb5354a8fed4def62",
     "grade": false,
     "grade_id": "reverse",
     "locked": false,
     "schema_version": 1,
     "solution": true
    }
   },
   "outputs": [],
   "source": [
    "def reverse(vec):\n",
    "    \"\"\"return a 1D vector with the elements reversed\n",
    "\n",
    "    Input\n",
    "    -----\n",
    "        x: 1D array\n",
    "\n",
    "    Output\n",
    "    ------\n",
    "        res: 1D array, with the elements of `x` reversed\n",
    "    \"\"\"\n",
    "    # YOUR CODE HERE\n",
    "    return vec[::-1]\n",
    "\n",
    "\n"
   ]
  },
  {
   "cell_type": "code",
   "execution_count": 7,
   "metadata": {},
   "outputs": [
    {
     "name": "stdout",
     "output_type": "stream",
     "text": [
      "[[ 0  1  2  3  4  5]\n",
      " [ 6  7  8  9 10 11]]\n",
      "[[11 10  9  8  7  6]\n",
      " [ 5  4  3  2  1  0]]\n"
     ]
    }
   ],
   "source": [
    "# if the array is n dimension\n",
    "vec = np.arange(12).reshape(2,6)\n",
    "print(vec)\n",
    "print(vec.flat[::-1].reshape(2,6))"
   ]
  },
  {
   "cell_type": "code",
   "execution_count": 8,
   "metadata": {
    "deletable": false,
    "editable": false,
    "nbgrader": {
     "checksum": "ef1db1f99edc073db95f20e1c2e782a2",
     "grade": true,
     "grade_id": "test_reverse",
     "locked": true,
     "points": 1,
     "schema_version": 1,
     "solution": false
    }
   },
   "outputs": [
    {
     "name": "stdout",
     "output_type": "stream",
     "text": [
      "Success!\n"
     ]
    }
   ],
   "source": [
    "\"\"\"(1 point) Test code for the previous function. This cell should NOT give any errors when it is run.\n",
    "Do not alter the contents of this cell.\"\"\"\n",
    "\n",
    "vec = np.array([1, 2, 3, 4])\n",
    "vector_reversed = reverse(vec)\n",
    "assert np.array_equal(vector_reversed, np.array([4, 3, 2, 1]))\n",
    "vec = np.array([-1, 9, 2.38])\n",
    "vector_reversed = reverse(vec)\n",
    "assert np.array_equal(vector_reversed, np.array([2.38, 9, -1]))\n",
    "assert isinstance(vector_reversed, np.ndarray)\n",
    "\n",
    "print(\"Success!\")"
   ]
  },
  {
   "cell_type": "markdown",
   "metadata": {},
   "source": [
    "### 4. Find indices of non-zero elements\n",
    "\n",
    "A. Write a function `arg_nonzero(x)` that returns the indices of the non-zero elements of the input vector `x`.\n",
    "\n",
    "B.  Write a function `use_find_nonzero(x, ind)` with an input vector `x` and indices of non-zero values, `ind`, found in part A, that returns the non-zero elements from array `x`."
   ]
  },
  {
   "cell_type": "code",
   "execution_count": 9,
   "metadata": {
    "deletable": false,
    "nbgrader": {
     "checksum": "ca32c5ca1988b32764743556a6e3044d",
     "grade": false,
     "grade_id": "find_nonzero",
     "locked": false,
     "schema_version": 1,
     "solution": true
    }
   },
   "outputs": [],
   "source": [
    "# part A\n",
    "def arg_nonzero(x):\n",
    "    \"\"\"return the indices of non-zero elements of an array.\n",
    "\n",
    "    Inputs:\n",
    "        x:  array\n",
    "    \n",
    "    Returns:\n",
    "        indices: array of integer indices\n",
    "    \"\"\"\n",
    "    # YOUR CODE HERE\n",
    "    return np.where(x != 0)[0]"
   ]
  },
  {
   "cell_type": "code",
   "execution_count": 10,
   "metadata": {
    "deletable": false,
    "editable": false,
    "nbgrader": {
     "checksum": "0613bd43d79d61a358b85b67aa5186b0",
     "grade": true,
     "grade_id": "test_find_nonzero",
     "locked": true,
     "points": 1,
     "schema_version": 1,
     "solution": false
    }
   },
   "outputs": [
    {
     "name": "stdout",
     "output_type": "stream",
     "text": [
      "Success!\n"
     ]
    }
   ],
   "source": [
    "# part A\n",
    "\"\"\"(1 point) Test code for the previous function. This cell should NOT give any errors when it is run.\n",
    "Do not alter the contents of this cell.\"\"\"\n",
    "\n",
    "vec1 = np.array([1, 2, 0, 0, 4, 0])\n",
    "assert np.array_equal(arg_nonzero(vec1), np.array([0, 1, 4]))\n",
    "vec2 = np.array([-5, 0, 8, -2, 4, 10])\n",
    "assert np.array_equal(arg_nonzero(vec2), np.array([0, 2, 3, 4, 5]))\n",
    "vec3 = np.array([0, 0, 0, 0, 0, 0, 0, 3, 0])\n",
    "assert np.array_equal(arg_nonzero(vec3), np.array([7]))\n",
    "\n",
    "print(\"Success!\")"
   ]
  },
  {
   "cell_type": "code",
   "execution_count": 11,
   "metadata": {
    "deletable": false,
    "nbgrader": {
     "checksum": "8ed468374350e985c5a06e0a3c6f3218",
     "grade": false,
     "grade_id": "return_nonzero",
     "locked": false,
     "schema_version": 1,
     "solution": true
    }
   },
   "outputs": [],
   "source": [
    "# part B\n",
    "def return_nonzero(x, ind):\n",
    "    \"\"\"return the indices of non-zero elements of an array.\n",
    "\n",
    "    Inputs:\n",
    "        x:  array\n",
    "        output: results from call to find_nonzero(x)\n",
    "    \n",
    "    Returns:\n",
    "        indices of non-zero element in x\n",
    "    \"\"\"\n",
    "    # YOUR CODE HERE\n",
    "#     for id in ind():\n",
    "#         x2 = np.array([x[id]])\n",
    "\n",
    "    return np.array([x[id] for id in ind])"
   ]
  },
  {
   "cell_type": "code",
   "execution_count": 12,
   "metadata": {
    "deletable": false,
    "editable": false,
    "nbgrader": {
     "checksum": "0520068aefbbd961362379b1595ce0ef",
     "grade": true,
     "grade_id": "test_return_nonzero",
     "locked": true,
     "points": 1,
     "schema_version": 1,
     "solution": false
    }
   },
   "outputs": [
    {
     "name": "stdout",
     "output_type": "stream",
     "text": [
      "Success!\n"
     ]
    }
   ],
   "source": [
    "# part B\n",
    "\"\"\"(1 point) Test code for the previous function. This cell should NOT give any errors when it is run.\n",
    "Do not alter the contents of this cell.\"\"\"\n",
    "\n",
    "ind1 = arg_nonzero(vec1)\n",
    "assert np.array_equal(return_nonzero(vec1, ind1), np.array([1, 2, 4]))\n",
    "ind2 = arg_nonzero(vec2)\n",
    "assert np.array_equal(return_nonzero(vec2, ind2), np.array([-5, 8, -2, 4, 10]))\n",
    "ind3 = arg_nonzero(vec3)\n",
    "assert np.array_equal(return_nonzero(vec3, ind3), np.array([3]))\n",
    "\n",
    "print(\"Success!\")"
   ]
  },
  {
   "cell_type": "markdown",
   "metadata": {},
   "source": [
    "### 5. Array with random values\n",
    "\n",
    "Return a 10x30x3 array with normally distributed ($\\mu=0,~\\sigma=1)$ random values."
   ]
  },
  {
   "cell_type": "code",
   "execution_count": 85,
   "metadata": {
    "deletable": false,
    "nbgrader": {
     "checksum": "f4a39888396527b0bae7fc13b83b9000",
     "grade": false,
     "grade_id": "random_array",
     "locked": false,
     "schema_version": 1,
     "solution": true
    }
   },
   "outputs": [],
   "source": [
    "def random_array():\n",
    "    \"\"\"Return a 10x30x3 array with normally distributed ($\\mu =0, \\sigma=1)$ random values.\n",
    "    \"\"\"\n",
    "    # YOUR CODE HERE\n",
    "    a=np.random.normal(0,1,(10,30,3))\n",
    "    return a"
   ]
  },
  {
   "cell_type": "code",
   "execution_count": 84,
   "metadata": {},
   "outputs": [
    {
     "data": {
      "text/plain": [
       "(10, 30, 3)"
      ]
     },
     "execution_count": 84,
     "metadata": {},
     "output_type": "execute_result"
    }
   ],
   "source": [
    "A = np.random.normal(0,1,(10,30,3))\n",
    "A.shape\n"
   ]
  },
  {
   "cell_type": "code",
   "execution_count": 86,
   "metadata": {
    "deletable": false,
    "editable": false,
    "nbgrader": {
     "checksum": "221309540bd39331ba756b3eb93e3f08",
     "grade": true,
     "grade_id": "test_random_array",
     "locked": true,
     "points": 1,
     "schema_version": 1,
     "solution": false
    }
   },
   "outputs": [
    {
     "name": "stdout",
     "output_type": "stream",
     "text": [
      "Success!\n"
     ]
    }
   ],
   "source": [
    "\"\"\"(1 point) Test code for the previous function. This cell should NOT give any errors when it is run.\n",
    "Do not alter the contents of this cell.\"\"\"\n",
    "\n",
    "A = random_array()\n",
    "assert A.shape == (10, 30, 3)  # check for shape\n",
    "assert np.allclose(A.mean(), 0, atol=0.1)\n",
    "assert np.allclose(A.std(), 1, atol=0.1)\n",
    "\n",
    "print(\"Success!\")"
   ]
  },
  {
   "cell_type": "markdown",
   "metadata": {},
   "source": [
    "### 6. Operations on an array with random values\n",
    "\n",
    "Fill in the code for a function, `maxesmins()`, which takes in an array and then returns \n",
    "- the minimum value of the 2nd row\n",
    "- the maximum value of the 4th column\n",
    "If there aren't enough rows or columns in the array to return either, return `np.nan` instead."
   ]
  },
  {
   "cell_type": "code",
   "execution_count": null,
   "metadata": {
    "deletable": false,
    "nbgrader": {
     "checksum": "1935d97dd99bc7752c5da467c39e11a2",
     "grade": false,
     "grade_id": "random_operations",
     "locked": false,
     "schema_version": 1,
     "solution": true
    }
   },
   "outputs": [],
   "source": [
    "def maxesmins(K):\n",
    "    \"\"\"Returns the min of the 2nd row and max of the 4th column.\n",
    "\n",
    "    Parameters\n",
    "    ----------\n",
    "    K : numpy array\n",
    "        \n",
    "    Returns\n",
    "    -------\n",
    "    min of the 2nd row and max of the 4th column, as a tuple, or a nan for either if the array is too small to calculate it\n",
    "    \"\"\"\n",
    "    # YOUR CODE HERE\n",
    "    z=[np.nan,np.nan]\n",
    "    if K[:,0].size>=2:\n",
    "        z[0]=K[1,:].min()\n",
    "    if K[0,:].size>=4: \n",
    "        z[1]=K[:,3].max()\n",
    "    return tuple(z)\n",
    "# if it's a  three dimension? "
   ]
  },
  {
   "cell_type": "code",
   "execution_count": null,
   "metadata": {
    "deletable": false,
    "editable": false,
    "nbgrader": {
     "checksum": "bfce0fc4c14185aada020a411bba68c2",
     "grade": true,
     "grade_id": "test_random_operations",
     "locked": true,
     "points": 2,
     "schema_version": 1,
     "solution": false
    }
   },
   "outputs": [],
   "source": [
    "\"\"\"(2 point) Test code for the previous function. This cell should NOT give any errors when it is run.\n",
    "Do not alter the contents of this cell.\"\"\"\n",
    "\n",
    "L = np.array([[1, 3, 5, 7], [2, 4, 6, 8]])\n",
    "assert (2, 8) == maxesmins(L)\n",
    "\n",
    "M = np.ones((5, 5))\n",
    "assert (1, 1) == maxesmins(M)\n",
    "\n",
    "N = np.zeros((2, 2))\n",
    "assert (0, np.nan) == maxesmins(N)\n",
    "\n",
    "print(\"Success!\")"
   ]
  },
  {
   "cell_type": "markdown",
   "metadata": {},
   "source": [
    "### 7. Vector without end points\n",
    "\n",
    "Return a vector of size 10 with values ranging from 0 to 1, both excluded. Do not explicitly write out the values in an array, but instead use a function to find them for you."
   ]
  },
  {
   "cell_type": "code",
   "execution_count": null,
   "metadata": {
    "deletable": false,
    "nbgrader": {
     "checksum": "a8e1d24b3437a3a4c989b1334b784fd0",
     "grade": false,
     "grade_id": "vector_end",
     "locked": false,
     "schema_version": 1,
     "solution": true
    }
   },
   "outputs": [],
   "source": [
    "def vector_end():\n",
    "    \"\"\"a vector of size 10 with values ranging from 0 to 1, both excluded\n",
    "    \"\"\"\n",
    "    # YOUR CODE HERE\n",
    "    return np.linspace( 0.09090909,0.90909091,10)\n"
   ]
  },
  {
   "cell_type": "code",
   "execution_count": null,
   "metadata": {},
   "outputs": [],
   "source": [
    "np.linspace( 0.09090909,0.90909091,10)"
   ]
  },
  {
   "cell_type": "code",
   "execution_count": null,
   "metadata": {
    "deletable": false,
    "editable": false,
    "nbgrader": {
     "checksum": "15306a7b60b1b8fd325983dbe0774a7e",
     "grade": true,
     "grade_id": "test_vector_end",
     "locked": true,
     "points": 1,
     "schema_version": 1,
     "solution": false
    }
   },
   "outputs": [],
   "source": [
    "\"\"\"(1 point) Test code for the previous function. This cell should NOT give any errors when it is run.\n",
    "Do not alter the contents of this cell.\"\"\"\n",
    "\n",
    "output_vector_end = np.array([ 0.09090909,  0.18181818,  0.27272727,  0.36363636,  0.45454545,\n",
    "        0.54545455,  0.63636364,  0.72727273,  0.81818182,  0.90909091])\n",
    "assert (vector_end() == vector_end()).all()\n",
    "\n",
    "print(\"Success!\")"
   ]
  },
  {
   "cell_type": "markdown",
   "metadata": {},
   "source": [
    "### 8. Sorted random vector\n",
    "\n",
    "In `sorted_array()`, create, sort, and return a vector of size 10 filled with random numbers. It should be sorted in increasing order."
   ]
  },
  {
   "cell_type": "code",
   "execution_count": null,
   "metadata": {
    "deletable": false,
    "nbgrader": {
     "checksum": "dce93b4237e51a6a9374c78a30d5e838",
     "grade": false,
     "grade_id": "sorted_array",
     "locked": false,
     "schema_version": 1,
     "solution": true
    }
   },
   "outputs": [],
   "source": [
    "def sorted_array():\n",
    "    \"\"\"Creates, sorts, and returns a vector of size 10 filled with random numbers\n",
    "    \"\"\"\n",
    "    # YOUR CODE HERE\n",
    "    a=np.random.rand(10)\n",
    "    return np.sort(a)"
   ]
  },
  {
   "cell_type": "code",
   "execution_count": null,
   "metadata": {
    "deletable": false,
    "editable": false,
    "nbgrader": {
     "checksum": "66b469fae51aa4bf6a33d16d5e932a2b",
     "grade": true,
     "grade_id": "test_sorted_array",
     "locked": true,
     "points": 1,
     "schema_version": 1,
     "solution": false
    }
   },
   "outputs": [],
   "source": [
    "\"\"\"(1 point) Test code for the previous function. This cell should NOT give any errors when it is run.\n",
    "Do not alter the contents of this cell.\"\"\"\n",
    "\n",
    "sorted_array_output = sorted_array()\n",
    "\n",
    "# check for proper size\n",
    "assert sorted_array_output.size == 10\n",
    "# check that array is sorted\n",
    "assert (np.diff(sorted_array_output) > 0).all()\n",
    "\n",
    "print(\"Success!\")"
   ]
  },
  {
   "cell_type": "markdown",
   "metadata": {},
   "source": [
    "### 9. Subtract the row mean from rows of a matrix\n",
    "\n",
    "Fill in the code for the function `array_minus_row_mean` which takes in matrix, then subtracts the mean of each row of the matrix from the respective row. Do this without using a loop (that is, using array operations)."
   ]
  },
  {
   "cell_type": "code",
   "execution_count": null,
   "metadata": {
    "deletable": false,
    "nbgrader": {
     "checksum": "e509ed1c6fcb70ce63dccceaccda4998",
     "grade": false,
     "grade_id": "rowmean",
     "locked": false,
     "schema_version": 1,
     "solution": true
    }
   },
   "outputs": [],
   "source": [
    "def array_minus_row_mean(F):\n",
    "    \"\"\"Returns input array with the mean of each row subtracted from the respective row.\n",
    "    \n",
    "    Does not use a loop but instead uses array operations.\n",
    "    \n",
    "    Parameters\n",
    "    ----------\n",
    "    F : numpy array\n",
    "        \n",
    "    Returns\n",
    "    -------\n",
    "    F with mean of each row subtracted from the respective row\n",
    "    \"\"\"\n",
    "    # YOUR CODE HERE\n",
    "    F2=F.T.mean(axis=0)\n",
    "    F3=F-F2[:,np.newaxis]\n",
    "    return F3"
   ]
  },
  {
   "cell_type": "code",
   "execution_count": null,
   "metadata": {},
   "outputs": [],
   "source": [
    "G = np.array([[1., 2.], [3., 4.]])\n",
    "G2=G.T.mean(axis=0)\n",
    "G-G2[:,np.newaxis]"
   ]
  },
  {
   "cell_type": "code",
   "execution_count": null,
   "metadata": {
    "deletable": false,
    "editable": false,
    "nbgrader": {
     "checksum": "3c73cd7422333a3dbb35489b07fb10ce",
     "grade": true,
     "grade_id": "test_rowmean",
     "locked": true,
     "points": 2,
     "schema_version": 1,
     "solution": false
    }
   },
   "outputs": [],
   "source": [
    "\"\"\"(2 point) Test code for the previous function. This cell should NOT give any errors when it is run.\n",
    "Do not alter the contents of this cell.\"\"\"\n",
    "\n",
    "G = np.ones((2, 3))\n",
    "assert np.array_equal(array_minus_row_mean(G), np.zeros((2, 3)))\n",
    "\n",
    "H = np.array([[1., 2.], [3., 4.]])\n",
    "Hminus = np.array([[-0.5, 0.5], [-0.5, 0.5]])\n",
    "assert np.array_equal(array_minus_row_mean(H), Hminus)\n",
    "\n",
    "print(\"Success!\")"
   ]
  },
  {
   "cell_type": "markdown",
   "metadata": {},
   "source": [
    "### 10. Multiply arrays\n",
    "\n",
    "Fill in the code in function `multiply_arrays` which takes in two arrays, $O$ and $P$, of shape (5,5,3) and (5,5), respectively, and returns $O$ times $P$, and $P$ times the transpose of $O$, respectively. Use the operator `*` for multiplication."
   ]
  },
  {
   "cell_type": "code",
   "execution_count": null,
   "metadata": {
    "deletable": false,
    "nbgrader": {
     "checksum": "cf948f8679fd35cb02cbd4034291ea90",
     "grade": false,
     "grade_id": "multiply_arrays",
     "locked": false,
     "schema_version": 1,
     "solution": true
    }
   },
   "outputs": [],
   "source": [
    "def multiply_arrays(O, P):\n",
    "    \"\"\"Returns O times P and P times O transpose.\n",
    "    \n",
    "    Parameters\n",
    "    ----------\n",
    "    O: numpy array\n",
    "        shape 5 x 5 x 3\n",
    "    P: numpy array\n",
    "        Shape 5 x 5\n",
    "    \n",
    "    Returns\n",
    "    -------\n",
    "    (O * P), (P * transpose(O)) \n",
    "    \"\"\"\n",
    "    # YOUR CODE HERE\n",
    "    return [O*P[:,:,np.newaxis],P*O.transpose()]\n"
   ]
  },
  {
   "cell_type": "code",
   "execution_count": null,
   "metadata": {},
   "outputs": [],
   "source": [
    "O = np.random.rand(5, 5, 3)\n",
    "P = np.random.rand(5, 5)\n",
    "P2=O*P[:,:,np.newaxis]\n",
    "P3=P*O.transpose()\n",
    "P2.shape\n",
    "P3.shape"
   ]
  },
  {
   "cell_type": "code",
   "execution_count": null,
   "metadata": {
    "deletable": false,
    "editable": false,
    "nbgrader": {
     "checksum": "197954b379da11af2b4139796b733011",
     "grade": true,
     "grade_id": "test_multiply_arrays",
     "locked": true,
     "points": 2,
     "schema_version": 1,
     "solution": false
    }
   },
   "outputs": [],
   "source": [
    "\"\"\"(2 point) Test code for the previous function. This cell should NOT give any errors when it is run.\n",
    "Do not alter the contents of this cell.\"\"\"\n",
    "\n",
    "Q = np.random.rand(5, 5, 3)\n",
    "R = np.random.rand(5, 5)\n",
    "S, T = multiply_arrays(Q, R)\n",
    "\n",
    "assert S.shape == (5, 5, 3)\n",
    "assert T.shape == (3, 5, 5)\n",
    "\n",
    "print(\"Success!\")"
   ]
  },
  {
   "cell_type": "markdown",
   "metadata": {},
   "source": [
    "### 11. Convert from Cartesian to polar coordinates\n",
    "\n",
    "Write a function `cart2polar(xy)` which takes in an Nx2 matrix of `x, y` pairs representing Cartesian coordinates and return the locations represented in polar coordinates in the same shape matrix."
   ]
  },
  {
   "cell_type": "code",
   "execution_count": 74,
   "metadata": {
    "deletable": false,
    "nbgrader": {
     "checksum": "1d5b009312808a064967cb73a00e4599",
     "grade": false,
     "grade_id": "cart2polar",
     "locked": false,
     "schema_version": 1,
     "solution": true
    }
   },
   "outputs": [],
   "source": [
    "def cart2polar(xy):\n",
    "    \"\"\"Convert input from Cartesian to polar coordinates.\n",
    "    \n",
    "    Parameters\n",
    "    ----------\n",
    "    xy : array\n",
    "        Nx2 array of Cartesian coordinates, with columns of x and y coordinates, respectively.\n",
    "        \n",
    "    Returns\n",
    "    -------\n",
    "    rphi : array\n",
    "        Coordinates Nx2 array containing input coordinates in polar representation, \n",
    "        with columns radius and angle, respectively.\n",
    "    \"\"\"\n",
    "    # YOUR CODE HERE\n",
    "    import math\n",
    " \n",
    "    y1=xy[:,1]\n",
    "    x1=xy[:,0]\n",
    "\n",
    "    xy=x1**2+y1**2\n",
    "\n",
    "    r=[]\n",
    "    ar=[]\n",
    "    for i in range(np.size(y1)):\n",
    "        r.append(math.sqrt(xy[i]))\n",
    "        ar.append(math.atan2(y1[i], x1[i]))\n",
    "\n",
    "    rr=np.transpose([r,ar])\n",
    "    return rr\n"
   ]
  },
  {
   "cell_type": "code",
   "execution_count": 44,
   "metadata": {},
   "outputs": [
    {
     "data": {
      "text/plain": [
       "(10, 2)"
      ]
     },
     "execution_count": 44,
     "metadata": {},
     "output_type": "execute_result"
    }
   ],
   "source": [
    "import math\n",
    "cart = np.random.rand(10, 2)\n",
    "y1=cart[:,1]\n",
    "x1=cart[:,0]\n",
    "\n",
    "xy=x1**2+y1**2\n",
    "xy.shape\n",
    "r=[]\n",
    "ar=[]\n",
    "for i in range(np.size(y1)):\n",
    "    r.append(math.sqrt(xy[i]))\n",
    "    ar.append(math.atan2(y1[i], x1[i]))\n",
    "\n",
    "rr=np.transpose([r,ar])\n",
    "np.shape(rr)"
   ]
  },
  {
   "cell_type": "code",
   "execution_count": 76,
   "metadata": {
    "deletable": false,
    "editable": false,
    "nbgrader": {
     "checksum": "ccae59aee8a4bd3b7bd87d72c1922130",
     "grade": true,
     "grade_id": "test_cart2polar",
     "locked": true,
     "points": 3,
     "schema_version": 1,
     "solution": false
    }
   },
   "outputs": [
    {
     "name": "stdout",
     "output_type": "stream",
     "text": [
      "Success!\n"
     ]
    }
   ],
   "source": [
    "\"\"\"(3 points) Test code for the previous function. This cell should NOT give any errors when it is run.\n",
    "Do not alter the contents of this cell.\"\"\"\n",
    "\n",
    "cart = np.random.rand(10, 2)\n",
    "polar = cart2polar(cart)\n",
    "\n",
    "assert polar.shape == (10, 2)  # check for shape\n",
    "\n",
    "test_input = np.array([[1, 0]])\n",
    "test_output = np.array([[1, 0]])\n",
    "assert (cart2polar(test_input) == test_output).all()  #  check for known case [1, 0]\n",
    "\n",
    "test_input = np.array([[0, 1]])\n",
    "test_output = np.array([[1, np.pi/2]])\n",
    "assert (cart2polar(test_input) == test_output).all()  #  check for known case [0, 1]\n",
    "\n",
    "print(\"Success!\")"
   ]
  },
  {
   "cell_type": "code",
   "execution_count": null,
   "metadata": {
    "collapsed": true
   },
   "outputs": [],
   "source": []
  }
 ],
 "metadata": {
  "anaconda-cloud": {},
  "kernelspec": {
   "display_name": "Python [default]",
   "language": "python",
   "name": "python3"
  },
  "language_info": {
   "codemirror_mode": {
    "name": "ipython",
    "version": 3
   },
   "file_extension": ".py",
   "mimetype": "text/x-python",
   "name": "python",
   "nbconvert_exporter": "python",
   "pygments_lexer": "ipython3",
   "version": "3.5.3"
  }
 },
 "nbformat": 4,
 "nbformat_minor": 1
}
