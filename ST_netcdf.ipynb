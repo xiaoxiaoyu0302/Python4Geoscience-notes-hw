{
 "cells": [
  {
   "cell_type": "markdown",
   "metadata": {},
   "source": [
    "# NetCDF files\n",
    "\n",
    "NetCDF is a binary storage format for many different kinds of rectangular data. Examples include atmosphere and ocean model output, satellite images, and timeseries data. NetCDF files are intended to be device independent, and the dataset may be queried in a fast, random-access way. More information about NetCDF files can be found [here](http://www.unidata.ucar.edu/software/netcdf/). The [CF conventions](http://cfconventions.org) are used for storing NetCDF data for earth system models, so that programs can be aware of the coordinate axes used by the data cubes."
   ]
  },
  {
   "cell_type": "code",
   "execution_count": 1,
   "metadata": {
    "collapsed": false
   },
   "outputs": [],
   "source": [
    "import numpy as np\n",
    "import matplotlib.pyplot as plt\n",
    "%matplotlib inline\n",
    "import cartopy\n",
    "import cmocean.cm as cmo\n",
    "\n",
    "import netCDF4"
   ]
  },
  {
   "cell_type": "code",
   "execution_count": 2,
   "metadata": {
    "collapsed": true
   },
   "outputs": [],
   "source": [
    "# # in the terminal\n",
    "# ncdump -h *.nc\n",
    "# ncview *.nc"
   ]
  },
  {
   "cell_type": "markdown",
   "metadata": {},
   "source": [
    "### Sea surface temperature example\n",
    "\n",
    "An example NetCDF file containing monthly means of sea surface temperature over 160 years can be found [here](http://www.esrl.noaa.gov/psd/data/gridded/data.noaa.ersst.v4.html). We'll use the NetCDF4 package to read this file, which has already been saved into the `data` directory."
   ]
  },
  {
   "cell_type": "code",
   "execution_count": 3,
   "metadata": {
    "collapsed": false
   },
   "outputs": [
    {
     "name": "stdout",
     "output_type": "stream",
     "text": [
      "<class 'netCDF4._netCDF4.Dataset'>\n",
      "root group (NETCDF4_CLASSIC data model, file format HDF5):\n",
      "    history: created 10/2014 by CAS using NCDC's ERSST V4 ascii values\n",
      "    title: NOAA Extended Reconstructed Sea Surface Temperature (ERSST), Version 4 (in situ only)\n",
      "    climatology: Climatology is based on 1971-2000 SST, Xue, Y., T. M. Smith, and R. W. Reynolds, 2003: Interdecadal changes of 30-yr SST normals during 1871.2000. Journal of Climate, 16, 1601-1612.\n",
      "    description: In situ data: ICOADS2.5 before 2007 and NCEP in situ data from 2008 to present. Ice data: HadISST ice before 2010 and NCEP ice after 2010.\n",
      "    citation: Huang et al, 2014: Extended Reconstructed Sea Surface Temperatures Version 4 (ERSST.v4), Part I. Upgrades and Intercomparisons. Journal of Climate.\n",
      "    comment: SSTs were observed by conventional thermometers in Buckets (insulated or un-insulated canvas and wooded buckets) or Engine Room Intaker\n",
      "    Conventions: CF-1.2\n",
      "    institution: This version written at NOAA/ESRL PSD: obtained from NOAA/NESDIS/National Climatic Data Center\n",
      "    keywords_vocabulary: NASA Global Change Master Directory (GCMD) Science Keywords\n",
      "    keywords: Earth Science > Oceans > Ocean Temperature > Sea Surface Temperature >\n",
      "    platform: Ship and Buoy SSTs from ICOADS R2.5 and NCEP GTS\n",
      "    instrument: Conventional thermometers\n",
      "    source: ICOADS R2.5 SST, NCEP GTS SST, HadISST ice, NCEP ice\n",
      "    source_comment: SSTs were observed by conventional thermometers in Buckets (insulated or un-insulated canvas and wooded buckets) or Engine Room Intaker\n",
      "    geospatial_lon_min: -1.0\n",
      "    geospatial_lon_max: 359.0\n",
      "    geospatial_laty_max: 89.0\n",
      "    geospatial_laty_min: -89.0\n",
      "    geospatial_lat_max: 89.0\n",
      "    geospatial_lat_min: -89.0\n",
      "    geospatial_lat_units: degrees_north\n",
      "    geospatial_lon_units: degrees_east\n",
      "    cdm_data_type: Grid\n",
      "    project: NOAA Extended Reconstructed Sea Surface Temperature (ERSST)\n",
      "    license: No constraints on data access or use\n",
      "    original_publisher_url: http://www.ncdc.noaa.gov\n",
      "    References: http://www.ncdc.noaa.gov/data-access/marineocean-data/extended-reconstructed-sea-surface-temperature-ersst-v4 at NCDC and http://www.esrl.noaa.gov/psd/data/gridded/data.noaa.ersst.v4.html\n",
      "    dataset_title: Extended Reconstructed Sea Surface Temperature (ERSST) v4\n",
      "    dimensions(sizes): lon(180), lat(89), nbnds(2), time(1946)\n",
      "    variables(dimensions): float32 \u001b[4mlat\u001b[0m(lat), float32 \u001b[4mlon\u001b[0m(lon), float64 \u001b[4mtime_bnds\u001b[0m(time,nbnds), float64 \u001b[4mtime\u001b[0m(time), float32 \u001b[4msst\u001b[0m(time,lat,lon)\n",
      "    groups: \n",
      "\n"
     ]
    }
   ],
   "source": [
    "nc = netCDF4.Dataset('../data/sst.mnmean.v4.nc')\n",
    "print(nc)"
   ]
  },
  {
   "cell_type": "markdown",
   "metadata": {},
   "source": [
    "The representation of the object shows some of the attributes of the netCDF file. The final few lines show the dimensions and the variable names (with corresponding dimensions). Another representation of the file can be seen using the `ncdump` command. This is similar to the output of the command (at a command-line prompt, not within python) \n",
    "\n",
    "    $ ncdump -h ../data/sst.mnmean.v4.nc\n",
    "     \n",
    "    netcdf sst.mnmean.v4 {\n",
    "    dimensions:\n",
    "        lon = 180 ;\n",
    "        lat = 89 ;\n",
    "        nbnds = 2 ;\n",
    "        time = UNLIMITED ; // (1946 currently)\n",
    "    variables:\n",
    "        float lat(lat) ;\n",
    "            lat:units = \"degrees_north\" ;\n",
    "            lat:long_name = \"Latitude\" ;\n",
    "            lat:actual_range = 88.f, -88.f ;\n",
    "            lat:standard_name = \"latitude\" ;\n",
    "            lat:axis = \"Y\" ;\n",
    "            lat:coordinate_defines = \"center\" ;\n",
    "        float lon(lon) ;\n",
    "            lon:units = \"degrees_east\" ;\n",
    "            lon:long_name = \"Longitude\" ;\n",
    "            lon:actual_range = 0.f, 358.f ;\n",
    "            lon:standard_name = \"longitude\" ;\n",
    "            lon:axis = \"X\" ;\n",
    "            lon:coordinate_defines = \"center\" ;\n",
    "        double time_bnds(time, nbnds) ;\n",
    "            time_bnds:long_name = \"Time Boundaries\" ;\n",
    "        double time(time) ;\n",
    "            time:units = \"days since 1800-1-1 00:00:00\" ;\n",
    "            time:long_name = \"Time\" ;\n",
    "            time:delta_t = \"0000-01-00 00:00:00\" ;\n",
    "            time:avg_period = \"0000-01-00 00:00:00\" ;\n",
    "            time:prev_avg_period = \"0000-00-07 00:00:00\" ;\n",
    "            time:standard_name = \"time\" ;\n",
    "            time:axis = \"T\" ;\n",
    "            time:actual_range = 19723., 78923. ;\n",
    "        float sst(time, lat, lon) ;\n",
    "            sst:long_name = \"Monthly Means of Sea Surface Temperature\" ;\n",
    "            sst:units = \"degC\" ;\n",
    "            sst:var_desc = \"Sea Surface Temperature\" ;\n",
    "            sst:level_desc = \"Surface\" ;\n",
    "            sst:statistic = \"Mean\" ;\n",
    "            sst:missing_value = -9.96921e+36f ;\n",
    "            sst:actual_range = -1.8f, 33.95f ;\n",
    "            sst:valid_range = -5.f, 40.f ;\n",
    "            sst:dataset = \"NOAA Extended Reconstructed SST V4\" ;\n",
    "            sst:parent_stat = \"Individual Values\" ;\n",
    "\n",
    "    // global attributes:\n",
    "            :history = \"created 10/2014 by CAS using NCDC\\'s ERSST V4 ascii values\" ;\n",
    "    [....and so on....]"
   ]
  },
  {
   "cell_type": "markdown",
   "metadata": {},
   "source": [
    "### Mapping the netcdf object to the python object\n",
    "\n",
    "We can query the data within the NetCDF file using the NetCDF object. The structure of the object (the composition of the methods and attributes) is designed to mirror the data structure in the file. See how these queries give the same information as the textual representation above."
   ]
  },
  {
   "cell_type": "code",
   "execution_count": 4,
   "metadata": {
    "collapsed": false
   },
   "outputs": [
    {
     "data": {
      "text/plain": [
       "\"created 10/2014 by CAS using NCDC's ERSST V4 ascii values\""
      ]
     },
     "execution_count": 4,
     "metadata": {},
     "output_type": "execute_result"
    }
   ],
   "source": [
    "# `Global` attributes of the file\n",
    "nc.history"
   ]
  },
  {
   "cell_type": "code",
   "execution_count": 5,
   "metadata": {
    "collapsed": false
   },
   "outputs": [
    {
     "data": {
      "text/plain": [
       "<class 'netCDF4._netCDF4.Variable'>\n",
       "float32 lon(lon)\n",
       "    units: degrees_east\n",
       "    long_name: Longitude\n",
       "    actual_range: [   0.  358.]\n",
       "    standard_name: longitude\n",
       "    axis: X\n",
       "    coordinate_defines: center\n",
       "unlimited dimensions: \n",
       "current shape = (180,)\n",
       "filling on, default _FillValue of 9.969209968386869e+36 used"
      ]
     },
     "execution_count": 5,
     "metadata": {},
     "output_type": "execute_result"
    }
   ],
   "source": [
    "# Variables are stored in a dictionary\n",
    "nc.variables['lon']  # this is a variable object, just a pointer to the variable. NO DATA HAS BEEN LOADED!\n",
    "# type(nc.variables)"
   ]
  },
  {
   "cell_type": "code",
   "execution_count": 6,
   "metadata": {
    "collapsed": false
   },
   "outputs": [
    {
     "data": {
      "text/plain": [
       "'degrees_east'"
      ]
     },
     "execution_count": 6,
     "metadata": {},
     "output_type": "execute_result"
    }
   ],
   "source": [
    "# Variable objects also have attributes\n",
    "nc.variables['lon'].units"
   ]
  },
  {
   "cell_type": "code",
   "execution_count": 7,
   "metadata": {
    "collapsed": false
   },
   "outputs": [
    {
     "data": {
      "text/plain": [
       "<class 'netCDF4._netCDF4.Dimension'>: name = 'lon', size = 180"
      ]
     },
     "execution_count": 7,
     "metadata": {},
     "output_type": "execute_result"
    }
   ],
   "source": [
    "# we can also query the dimensions\n",
    "nc.dimensions['lon']"
   ]
  },
  {
   "cell_type": "code",
   "execution_count": 8,
   "metadata": {
    "collapsed": false
   },
   "outputs": [
    {
     "data": {
      "text/plain": [
       "180"
      ]
     },
     "execution_count": 8,
     "metadata": {},
     "output_type": "execute_result"
    }
   ],
   "source": [
    "# to find the length of a dimension, do\n",
    "len(nc.dimensions['lon'])"
   ]
  },
  {
   "cell_type": "code",
   "execution_count": 9,
   "metadata": {
    "collapsed": false
   },
   "outputs": [
    {
     "data": {
      "text/plain": [
       "odict_keys(['lon', 'lat', 'nbnds', 'time'])"
      ]
     },
     "execution_count": 9,
     "metadata": {},
     "output_type": "execute_result"
    }
   ],
   "source": [
    "# A list of the dimensions can be found by looking at the keys in the dimensions dictionary\n",
    "nc.dimensions.keys()"
   ]
  },
  {
   "cell_type": "code",
   "execution_count": 10,
   "metadata": {
    "collapsed": false
   },
   "outputs": [
    {
     "data": {
      "text/plain": [
       "odict_keys(['lat', 'lon', 'time_bnds', 'time', 'sst'])"
      ]
     },
     "execution_count": 10,
     "metadata": {},
     "output_type": "execute_result"
    }
   ],
   "source": [
    "# Same for variables\n",
    "nc.variables.keys()"
   ]
  },
  {
   "cell_type": "code",
   "execution_count": 11,
   "metadata": {
    "collapsed": false
   },
   "outputs": [
    {
     "data": {
      "text/plain": [
       "<class 'netCDF4._netCDF4.Variable'>\n",
       "float32 sst(time, lat, lon)\n",
       "    long_name: Monthly Means of Sea Surface Temperature\n",
       "    units: degC\n",
       "    var_desc: Sea Surface Temperature\n",
       "    level_desc: Surface\n",
       "    statistic: Mean\n",
       "    missing_value: -9.96921e+36\n",
       "    actual_range: [ -1.79999995  33.95000076]\n",
       "    valid_range: [ -5.  40.]\n",
       "    dataset: NOAA Extended Reconstructed SST V4\n",
       "    parent_stat: Individual Values\n",
       "unlimited dimensions: time\n",
       "current shape = (1946, 89, 180)\n",
       "filling on, default _FillValue of 9.969209968386869e+36 used"
      ]
     },
     "execution_count": 11,
     "metadata": {},
     "output_type": "execute_result"
    }
   ],
   "source": [
    "# Let's take a look at the main 3D variable\n",
    "nc['sst'] # A shorthand for nc.variables['sst']"
   ]
  },
  {
   "cell_type": "markdown",
   "metadata": {},
   "source": [
    "---\n",
    "### *Exercise*\n",
    "\n",
    "> Inspect the NetCDF object. \n",
    "\n",
    ">  1. What are the units of the time variable?\n",
    ">  1. What are the dimensions of the latitude variable?\n",
    ">  1. What is the length of the latitude dimension?\n",
    "\n",
    "---"
   ]
  },
  {
   "cell_type": "code",
   "execution_count": 12,
   "metadata": {
    "collapsed": false
   },
   "outputs": [
    {
     "data": {
      "text/plain": [
       "<class 'netCDF4._netCDF4.Dimension'>: name = 'lat', size = 89"
      ]
     },
     "execution_count": 12,
     "metadata": {},
     "output_type": "execute_result"
    }
   ],
   "source": [
    "nc['time'].units\n",
    "lat=nc['sst']\n",
    "lat.dimensions\n",
    "\n",
    "\n",
    "\n",
    "nc.dimensions['lat']"
   ]
  },
  {
   "cell_type": "code",
   "execution_count": 13,
   "metadata": {
    "collapsed": true
   },
   "outputs": [],
   "source": [
    "# We can extract data from the file by indexing:\n",
    "lon = nc['lon'][:]\n",
    "lat = nc['lat'][:]\n",
    "sst = nc['sst']   # same as nc['sst'][0, :, :], gets the first 2D time slice in the series."
   ]
  },
  {
   "cell_type": "code",
   "execution_count": 14,
   "metadata": {
    "collapsed": false
   },
   "outputs": [
    {
     "ename": "TypeError",
     "evalue": "Invalid dimensions for image data",
     "output_type": "error",
     "traceback": [
      "\u001b[0;31m---------------------------------------------------------------------------\u001b[0m",
      "\u001b[0;31mTypeError\u001b[0m                                 Traceback (most recent call last)",
      "\u001b[0;32m<ipython-input-14-fe414dad77d3>\u001b[0m in \u001b[0;36m<module>\u001b[0;34m()\u001b[0m\n\u001b[1;32m      1\u001b[0m \u001b[0;32mfrom\u001b[0m \u001b[0mdatetime\u001b[0m \u001b[0;32mimport\u001b[0m \u001b[0mdatetime\u001b[0m\u001b[0;34m,\u001b[0m \u001b[0mdate\u001b[0m\u001b[0;34m,\u001b[0m \u001b[0mtimedelta\u001b[0m\u001b[0;34m\u001b[0m\u001b[0m\n\u001b[0;32m----> 2\u001b[0;31m \u001b[0mplt\u001b[0m\u001b[0;34m.\u001b[0m\u001b[0mimshow\u001b[0m\u001b[0;34m(\u001b[0m\u001b[0msst\u001b[0m\u001b[0;34m)\u001b[0m\u001b[0;34m\u001b[0m\u001b[0m\n\u001b[0m\u001b[1;32m      3\u001b[0m \u001b[0mnc\u001b[0m\u001b[0;34m[\u001b[0m\u001b[0;34m'time'\u001b[0m\u001b[0;34m]\u001b[0m\u001b[0;34m.\u001b[0m\u001b[0munits\u001b[0m\u001b[0;34m\u001b[0m\u001b[0m\n\u001b[1;32m      4\u001b[0m \u001b[0;31m# nc['time'][:].toordinal()\u001b[0m\u001b[0;34m\u001b[0m\u001b[0;34m\u001b[0m\u001b[0m\n\u001b[1;32m      5\u001b[0m \u001b[0mtime\u001b[0m\u001b[0;34m=\u001b[0m\u001b[0mnetCDF4\u001b[0m\u001b[0;34m.\u001b[0m\u001b[0mnum2date\u001b[0m\u001b[0;34m(\u001b[0m\u001b[0mnc\u001b[0m\u001b[0;34m[\u001b[0m\u001b[0;34m'time'\u001b[0m\u001b[0;34m]\u001b[0m\u001b[0;34m[\u001b[0m\u001b[0;34m:\u001b[0m\u001b[0;34m]\u001b[0m\u001b[0;34m,\u001b[0m \u001b[0mnc\u001b[0m\u001b[0;34m[\u001b[0m\u001b[0;34m'time'\u001b[0m\u001b[0;34m]\u001b[0m\u001b[0;34m.\u001b[0m\u001b[0munits\u001b[0m\u001b[0;34m)\u001b[0m\u001b[0;34m\u001b[0m\u001b[0m\n",
      "\u001b[0;32m/opt/anaconda3/lib/python3.5/site-packages/matplotlib/pyplot.py\u001b[0m in \u001b[0;36mimshow\u001b[0;34m(X, cmap, norm, aspect, interpolation, alpha, vmin, vmax, origin, extent, shape, filternorm, filterrad, imlim, resample, url, hold, data, **kwargs)\u001b[0m\n\u001b[1;32m   3156\u001b[0m                         \u001b[0mfilternorm\u001b[0m\u001b[0;34m=\u001b[0m\u001b[0mfilternorm\u001b[0m\u001b[0;34m,\u001b[0m \u001b[0mfilterrad\u001b[0m\u001b[0;34m=\u001b[0m\u001b[0mfilterrad\u001b[0m\u001b[0;34m,\u001b[0m\u001b[0;34m\u001b[0m\u001b[0m\n\u001b[1;32m   3157\u001b[0m                         \u001b[0mimlim\u001b[0m\u001b[0;34m=\u001b[0m\u001b[0mimlim\u001b[0m\u001b[0;34m,\u001b[0m \u001b[0mresample\u001b[0m\u001b[0;34m=\u001b[0m\u001b[0mresample\u001b[0m\u001b[0;34m,\u001b[0m \u001b[0murl\u001b[0m\u001b[0;34m=\u001b[0m\u001b[0murl\u001b[0m\u001b[0;34m,\u001b[0m \u001b[0mdata\u001b[0m\u001b[0;34m=\u001b[0m\u001b[0mdata\u001b[0m\u001b[0;34m,\u001b[0m\u001b[0;34m\u001b[0m\u001b[0m\n\u001b[0;32m-> 3158\u001b[0;31m                         **kwargs)\n\u001b[0m\u001b[1;32m   3159\u001b[0m     \u001b[0;32mfinally\u001b[0m\u001b[0;34m:\u001b[0m\u001b[0;34m\u001b[0m\u001b[0m\n\u001b[1;32m   3160\u001b[0m         \u001b[0max\u001b[0m\u001b[0;34m.\u001b[0m\u001b[0m_hold\u001b[0m \u001b[0;34m=\u001b[0m \u001b[0mwashold\u001b[0m\u001b[0;34m\u001b[0m\u001b[0m\n",
      "\u001b[0;32m/opt/anaconda3/lib/python3.5/site-packages/matplotlib/__init__.py\u001b[0m in \u001b[0;36minner\u001b[0;34m(ax, *args, **kwargs)\u001b[0m\n\u001b[1;32m   1890\u001b[0m                     warnings.warn(msg % (label_namer, func.__name__),\n\u001b[1;32m   1891\u001b[0m                                   RuntimeWarning, stacklevel=2)\n\u001b[0;32m-> 1892\u001b[0;31m             \u001b[0;32mreturn\u001b[0m \u001b[0mfunc\u001b[0m\u001b[0;34m(\u001b[0m\u001b[0max\u001b[0m\u001b[0;34m,\u001b[0m \u001b[0;34m*\u001b[0m\u001b[0margs\u001b[0m\u001b[0;34m,\u001b[0m \u001b[0;34m**\u001b[0m\u001b[0mkwargs\u001b[0m\u001b[0;34m)\u001b[0m\u001b[0;34m\u001b[0m\u001b[0m\n\u001b[0m\u001b[1;32m   1893\u001b[0m         \u001b[0mpre_doc\u001b[0m \u001b[0;34m=\u001b[0m \u001b[0minner\u001b[0m\u001b[0;34m.\u001b[0m\u001b[0m__doc__\u001b[0m\u001b[0;34m\u001b[0m\u001b[0m\n\u001b[1;32m   1894\u001b[0m         \u001b[0;32mif\u001b[0m \u001b[0mpre_doc\u001b[0m \u001b[0;32mis\u001b[0m \u001b[0;32mNone\u001b[0m\u001b[0;34m:\u001b[0m\u001b[0;34m\u001b[0m\u001b[0m\n",
      "\u001b[0;32m/opt/anaconda3/lib/python3.5/site-packages/matplotlib/axes/_axes.py\u001b[0m in \u001b[0;36mimshow\u001b[0;34m(self, X, cmap, norm, aspect, interpolation, alpha, vmin, vmax, origin, extent, shape, filternorm, filterrad, imlim, resample, url, **kwargs)\u001b[0m\n\u001b[1;32m   5116\u001b[0m                               resample=resample, **kwargs)\n\u001b[1;32m   5117\u001b[0m \u001b[0;34m\u001b[0m\u001b[0m\n\u001b[0;32m-> 5118\u001b[0;31m         \u001b[0mim\u001b[0m\u001b[0;34m.\u001b[0m\u001b[0mset_data\u001b[0m\u001b[0;34m(\u001b[0m\u001b[0mX\u001b[0m\u001b[0;34m)\u001b[0m\u001b[0;34m\u001b[0m\u001b[0m\n\u001b[0m\u001b[1;32m   5119\u001b[0m         \u001b[0mim\u001b[0m\u001b[0;34m.\u001b[0m\u001b[0mset_alpha\u001b[0m\u001b[0;34m(\u001b[0m\u001b[0malpha\u001b[0m\u001b[0;34m)\u001b[0m\u001b[0;34m\u001b[0m\u001b[0m\n\u001b[1;32m   5120\u001b[0m         \u001b[0;32mif\u001b[0m \u001b[0mim\u001b[0m\u001b[0;34m.\u001b[0m\u001b[0mget_clip_path\u001b[0m\u001b[0;34m(\u001b[0m\u001b[0;34m)\u001b[0m \u001b[0;32mis\u001b[0m \u001b[0;32mNone\u001b[0m\u001b[0;34m:\u001b[0m\u001b[0;34m\u001b[0m\u001b[0m\n",
      "\u001b[0;32m/opt/anaconda3/lib/python3.5/site-packages/matplotlib/image.py\u001b[0m in \u001b[0;36mset_data\u001b[0;34m(self, A)\u001b[0m\n\u001b[1;32m    547\u001b[0m         if (self._A.ndim not in (2, 3) or\n\u001b[1;32m    548\u001b[0m                 (self._A.ndim == 3 and self._A.shape[-1] not in (3, 4))):\n\u001b[0;32m--> 549\u001b[0;31m             \u001b[0;32mraise\u001b[0m \u001b[0mTypeError\u001b[0m\u001b[0;34m(\u001b[0m\u001b[0;34m\"Invalid dimensions for image data\"\u001b[0m\u001b[0;34m)\u001b[0m\u001b[0;34m\u001b[0m\u001b[0m\n\u001b[0m\u001b[1;32m    550\u001b[0m \u001b[0;34m\u001b[0m\u001b[0m\n\u001b[1;32m    551\u001b[0m         \u001b[0mself\u001b[0m\u001b[0;34m.\u001b[0m\u001b[0m_imcache\u001b[0m \u001b[0;34m=\u001b[0m \u001b[0;32mNone\u001b[0m\u001b[0;34m\u001b[0m\u001b[0m\n",
      "\u001b[0;31mTypeError\u001b[0m: Invalid dimensions for image data"
     ]
    },
    {
     "data": {
      "image/png": "[encoded data removed]",
      "text/plain": [
       "<matplotlib.figure.Figure at 0x7fa670beb780>"
      ]
     },
     "metadata": {},
     "output_type": "display_data"
    }
   ],
   "source": [
    "from datetime import datetime, date, timedelta\n",
    "plt.imshow(sst)\n",
    "nc['time'].units\n",
    "# nc['time'][:].toordinal()\n",
    "time=netCDF4.num2date(nc['time'][:], nc['time'].units)\n",
    "time"
   ]
  },
  {
   "cell_type": "code",
   "execution_count": null,
   "metadata": {
    "collapsed": false
   },
   "outputs": [],
   "source": [
    "# Extract the time variable using the convenient num2date, which converts from time numbers to datetime objects\n",
    "time = netCDF4.num2date(nc['time'][:], nc['time'].units)"
   ]
  },
  {
   "cell_type": "code",
   "execution_count": null,
   "metadata": {
    "collapsed": false
   },
   "outputs": [],
   "source": [
    "sst.shape\n",
    "lat.shape\n",
    "nc['sst'][0]"
   ]
  },
  {
   "cell_type": "code",
   "execution_count": null,
   "metadata": {
    "collapsed": false
   },
   "outputs": [],
   "source": [
    "proj = cartopy.crs.Robinson(central_longitude=180)\n",
    "fig = plt.figure(figsize=(14,6))\n",
    "frame=0\n",
    "for tidx in range(0,1900,12):\n",
    "    plt.clf()\n",
    "    sst = nc['sst'][tidx]\n",
    "    ax = fig.add_subplot(111, projection=proj)\n",
    "    ax.add_feature(cartopy.feature.LAND, facecolor='0.9')\n",
    "    mappable = ax.contourf(lon, lat, sst, cmap=cmo.thermal, transform=cartopy.crs.PlateCarree())\n",
    "    ax.set_title(time[0].isoformat())\n",
    "    ax.set_xlim(32,-4)\n",
    "    fig.colorbar(mappable).set_label(r'Sea Surface Temperature [$^\\circ$C]')\n",
    "    plt.savefig('frame_%04d.png' %frame)\n",
    "    frame +=1\n",
    "# ffmpeg -r 4 -i frame_%04d.png foo.pm4  make it a movie in terminal\n"
   ]
  },
  {
   "cell_type": "markdown",
   "metadata": {},
   "source": [
    "### THREDDS example. Loading data from a remote dataset.\n",
    "\n",
    "The netCDF library can be compiled such that it is 'THREDDS enabled', which means that you can put in a URL instead of a filename. This allows access to large remote datasets, without having to download the entire file. You can find a large list of datasets served via an OpenDAP/THREDDs server [here](http://apdrc.soest.hawaii.edu/data/data.php).\n",
    "\n",
    "Let's look at the ESRL/NOAA 20th Century Reanalysis – Version 2. You can access the data by the following link (this is the link of the `.dds` and `.das` files without the extension.):"
   ]
  },
  {
   "cell_type": "code",
   "execution_count": null,
   "metadata": {
    "collapsed": false
   },
   "outputs": [],
   "source": [
    "nc_cprat = netCDF4.Dataset('http://apdrc.soest.hawaii.edu/dods/public_data/Reanalysis_Data/esrl/daily/monolevel/V2c/cprat')"
   ]
  },
  {
   "cell_type": "code",
   "execution_count": null,
   "metadata": {
    "collapsed": false
   },
   "outputs": [],
   "source": [
    "nc_cprat['cprat'].long_name"
   ]
  },
  {
   "cell_type": "code",
   "execution_count": null,
   "metadata": {
    "collapsed": false
   },
   "outputs": [],
   "source": [
    "nc_cprat['cprat'].dimensions"
   ]
  },
  {
   "cell_type": "code",
   "execution_count": null,
   "metadata": {
    "collapsed": false
   },
   "outputs": [],
   "source": [
    "time = netCDF4.num2date(nc_cprat['time'][:], nc_cprat['time'].units)\n",
    "time"
   ]
  },
  {
   "cell_type": "code",
   "execution_count": null,
   "metadata": {
    "collapsed": false
   },
   "outputs": [],
   "source": [
    "cprat = nc_cprat['cprat']   # get the last time, datetime.datetime(2012, 12, 31, 0, 0)\n",
    "lon = nc_cprat['lon'][:]\n",
    "lat = nc_cprat['lat'][:]\n",
    "cprat\n"
   ]
  },
  {
   "cell_type": "code",
   "execution_count": null,
   "metadata": {
    "collapsed": false
   },
   "outputs": [],
   "source": [
    "proj = cartopy.crs.Robinson(central_longitude=180)\n",
    "fig = plt.figure(figsize=(14,6))\n",
    "frame=0\n",
    "for tidx in range(0,11,12):\n",
    "    plt.clf()\n",
    "    sst = cprat[tidx]\n",
    "    ax = fig.add_subplot(111, projection=proj)\n",
    "    ax.add_feature(cartopy.feature.LAND, facecolor='0.9')\n",
    "    mappable = ax.contourf(lon, lat, sst,np.linspace(0,0.00027,20), cmap='viridis', transform=cartopy.crs.PlateCarree())\n",
    "    ax.set_title(time[tidx].isoformat())\n",
    "    fig.colorbar(mappable).set_label('%s' % nc_cprat['cprat'].long_name)\n",
    "    plt.savefig('cprat_%04d.png' %frame)\n",
    "    frame +=1"
   ]
  },
  {
   "cell_type": "code",
   "execution_count": null,
   "metadata": {
    "collapsed": false
   },
   "outputs": [],
   "source": [
    "proj = cartopy.crs.Robinson(central_longitude=180)\n",
    "\n",
    "fig = plt.figure(figsize=(14,6))\n",
    "ax = fig.add_subplot(111, projection=proj)\n",
    "ax.coastlines(linewidth=0.25)\n",
    "mappable = ax.contourf(lon, lat, cprat, 20, cmap=cmo.tempo, transform=cartopy.crs.PlateCarree())\n",
    "ax.set_title(time[-1].isoformat()[:10])\n",
    "fig.colorbar(mappable).set_label('%s' % nc_cprat['cprat'].long_name)"
   ]
  },
  {
   "cell_type": "markdown",
   "metadata": {},
   "source": [
    "---\n",
    "### *Exercise*\n",
    "\n",
    "> Pick another [variable](http://apdrc.soest.hawaii.edu/dods/public_data/Reanalysis_Data/esrl/daily/monolevel) from this dataset. Inspect and plot the variable in a similar manner to precipitation.\n",
    "\n",
    "> Find another dataset on a THREDDS server at SOEST (or elsewhere), pick a variable, and plot it.\n",
    "\n",
    "---"
   ]
  },
  {
   "cell_type": "code",
   "execution_count": null,
   "metadata": {
    "collapsed": true
   },
   "outputs": [],
   "source": []
  },
  {
   "cell_type": "markdown",
   "metadata": {},
   "source": [
    "### Creating NetCDF files\n",
    "\n",
    "We can also create a NetCDF file to store data."
   ]
  },
  {
   "cell_type": "code",
   "execution_count": null,
   "metadata": {
    "collapsed": false
   },
   "outputs": [],
   "source": [
    "from matplotlib import tri\n",
    "\n",
    "Ndatapoints = 1000\n",
    "Ntimes = 20\n",
    "Nbad = 200\n",
    "\n",
    "xdata = np.random.rand(Ndatapoints)\n",
    "ydata = np.random.rand(Ndatapoints)\n",
    "time = np.arange(Ntimes)\n",
    "\n",
    "# create a progressive wave\n",
    "fdata = np.sin((xdata+ydata)[np.newaxis, :]*5.0 + \n",
    "               time[:, np.newaxis]/3.0)\n",
    "\n",
    "# remove some random 'bad' data.\n",
    "idx = np.arange(fdata.size)\n",
    "np.random.shuffle(idx)\n",
    "fdata.flat[idx[:Nbad]] = np.nan\n",
    "\n",
    "ygrid, xgrid = np.mgrid[0:1:60j, 0:1:50j]\n",
    "fgrid = np.ma.empty((Ntimes, 60, 50), 'd')\n",
    "\n",
    "# interpolate\n",
    "for n in range(Ntimes):\n",
    "    igood = ~np.isnan(fdata[n])\n",
    "    t = tri.Triangulation(xdata[igood], ydata[igood])\n",
    "    interp = tri.LinearTriInterpolator(t, fdata[n][igood])\n",
    "    fgrid[n] = interp(xgrid, ygrid)\n",
    "\n",
    "# # create netCDF file: previously done and saved due to this being read-only\n",
    "\n",
    "# nc = netCDF4.Dataset('output/foo.nc', 'w')\n",
    "# nc.author = 'Me'\n",
    "\n",
    "# nc.createDimension('x', 50)\n",
    "# nc.createDimension('y', 60)\n",
    "# nc.createDimension('time', None)    # An 'unlimited' dimension. \n",
    "\n",
    "# nc.createVariable('f', 'd', ('time', 'y', 'x'))\n",
    "# nc.variables['f'][:] = fgrid\n",
    "# nc.variables['f'].units = 'meters sec-1'\n",
    "\n",
    "# nc.createVariable('x', 'd', ('x',))\n",
    "# nc.variables['x'][:] = xgrid[0, :]\n",
    "# nc.variables['x'].units = 'meters'\n",
    "\n",
    "# nc.createVariable('y', 'd', ('y',))\n",
    "# nc.variables['y'][:] = ygrid[:, 0]\n",
    "# nc.variables['y'].units = 'meters'\n",
    "\n",
    "# nc.createVariable('time', 'd', ('time',))\n",
    "# nc.variables['time'][:] = time\n",
    "# nc.variables['time'].units = 'seconds'\n",
    "\n",
    "# nc.close()\n"
   ]
  },
  {
   "cell_type": "code",
   "execution_count": null,
   "metadata": {
    "collapsed": false
   },
   "outputs": [],
   "source": [
    "nc = netCDF4.Dataset('output/foo.nc')\n",
    "nc"
   ]
  },
  {
   "cell_type": "markdown",
   "metadata": {},
   "source": [
    "### GRIB files\n",
    "\n",
    "NetCDF4 can also read GRIB2 files over THREDDS! GRIB files are used by NOAA for weather forecast and climate model output. There are many, many, many datasets that are available over THREDDS in GRIB format."
   ]
  },
  {
   "cell_type": "code",
   "execution_count": 15,
   "metadata": {
    "collapsed": false
   },
   "outputs": [
    {
     "ename": "KeyboardInterrupt",
     "evalue": "",
     "output_type": "error",
     "traceback": [
      "\u001b[0;31m---------------------------------------------------------------------------\u001b[0m",
      "\u001b[0;31mOSError\u001b[0m                                   Traceback (most recent call last)",
      "\u001b[0;32m/opt/anaconda3/lib/python3.5/site-packages/IPython/core/interactiveshell.py\u001b[0m in \u001b[0;36mrun_code\u001b[0;34m(self, code_obj, result)\u001b[0m\n\u001b[1;32m   2880\u001b[0m                 \u001b[0;31m#rprint('Running code', repr(code_obj)) # dbg\u001b[0m\u001b[0;34m\u001b[0m\u001b[0;34m\u001b[0m\u001b[0m\n\u001b[0;32m-> 2881\u001b[0;31m                 \u001b[0mexec\u001b[0m\u001b[0;34m(\u001b[0m\u001b[0mcode_obj\u001b[0m\u001b[0;34m,\u001b[0m \u001b[0mself\u001b[0m\u001b[0;34m.\u001b[0m\u001b[0muser_global_ns\u001b[0m\u001b[0;34m,\u001b[0m \u001b[0mself\u001b[0m\u001b[0;34m.\u001b[0m\u001b[0muser_ns\u001b[0m\u001b[0;34m)\u001b[0m\u001b[0;34m\u001b[0m\u001b[0m\n\u001b[0m\u001b[1;32m   2882\u001b[0m             \u001b[0;32mfinally\u001b[0m\u001b[0;34m:\u001b[0m\u001b[0;34m\u001b[0m\u001b[0m\n",
      "\u001b[0;32m<ipython-input-15-81902386f179>\u001b[0m in \u001b[0;36m<module>\u001b[0;34m()\u001b[0m\n\u001b[0;32m----> 1\u001b[0;31m \u001b[0mnc\u001b[0m \u001b[0;34m=\u001b[0m \u001b[0mnetCDF4\u001b[0m\u001b[0;34m.\u001b[0m\u001b[0mDataset\u001b[0m\u001b[0;34m(\u001b[0m\u001b[0;34m'http://nomads.ncdc.noaa.gov/thredds/dodsC/modeldata/cmd_grblow/2011/201103/20110301/spllnl.gdas.2011030118.grb2'\u001b[0m\u001b[0;34m)\u001b[0m\u001b[0;34m\u001b[0m\u001b[0m\n\u001b[0m\u001b[1;32m      2\u001b[0m \u001b[0msh\u001b[0m \u001b[0;34m=\u001b[0m \u001b[0mnc\u001b[0m\u001b[0;34m[\u001b[0m\u001b[0;34m'Specific_humidity'\u001b[0m\u001b[0;34m]\u001b[0m\u001b[0;34m[\u001b[0m\u001b[0;36m0\u001b[0m\u001b[0;34m,\u001b[0m \u001b[0;36m0\u001b[0m\u001b[0;34m]\u001b[0m\u001b[0;34m\u001b[0m\u001b[0m\n\u001b[1;32m      3\u001b[0m \u001b[0mlon\u001b[0m \u001b[0;34m=\u001b[0m \u001b[0mnc\u001b[0m\u001b[0;34m[\u001b[0m\u001b[0;34m'lon'\u001b[0m\u001b[0;34m]\u001b[0m\u001b[0;34m[\u001b[0m\u001b[0;34m:\u001b[0m\u001b[0;34m]\u001b[0m\u001b[0;34m\u001b[0m\u001b[0m\n",
      "\u001b[0;32mnetCDF4/_netCDF4.pyx\u001b[0m in \u001b[0;36mnetCDF4._netCDF4.Dataset.__init__ (netCDF4/_netCDF4.c:12626)\u001b[0;34m()\u001b[0m\n",
      "\u001b[0;31mOSError\u001b[0m: NetCDF: DAP server error",
      "\nDuring handling of the above exception, another exception occurred:\n",
      "\u001b[0;31mKeyboardInterrupt\u001b[0m                         Traceback (most recent call last)",
      "\u001b[0;31mKeyboardInterrupt\u001b[0m: "
     ]
    }
   ],
   "source": [
    "nc = netCDF4.Dataset('http://nomads.ncdc.noaa.gov/thredds/dodsC/modeldata/cmd_grblow/2011/201103/20110301/spllnl.gdas.2011030118.grb2')\n",
    "sh = nc['Specific_humidity'][0, 0]\n",
    "lon = nc['lon'][:]\n",
    "lat = nc['lat'][:]\n",
    "time = netCDF4.num2date(nc['time'][0], nc['time'].units)\n",
    "\n",
    "proj = cartopy.crs.Robinson(central_longitude=180)\n",
    "\n",
    "fig = plt.figure(figsize=(14,6))\n",
    "ax = fig.add_subplot(111, projection=proj)\n",
    "ax.coastlines(linewidth=0.25)\n",
    "mappable = ax.contourf(lon, lat, sh, 20, cmap=cmo.matter, transform=cartopy.crs.PlateCarree())\n",
    "plt.title(time.isoformat())\n",
    "fig.colorbar(mappable).set_label('%s' % nc['Specific_humidity'].long_name)"
   ]
  },
  {
   "cell_type": "markdown",
   "metadata": {},
   "source": [
    "---\n",
    "### *Exercise*\n",
    "\n",
    "> Find another dataset at [NOMADS](http://nomads.ncdc.noaa.gov/thredds) (or [here](http://nomads.ncdc.noaa.gov/data.php)), and plot it up!\n",
    "\n",
    "> *Bonus*: Try to read in and plot regional model predictions: [NAM](http://nomads.ncdc.noaa.gov/thredds/catalog/nam218/catalog.html)\n",
    "\n",
    "\n",
    "---"
   ]
  },
  {
   "cell_type": "code",
   "execution_count": null,
   "metadata": {
    "collapsed": true
   },
   "outputs": [],
   "source": []
  },
  {
   "cell_type": "markdown",
   "metadata": {},
   "source": [
    "### See also\n",
    "\n",
    "- [Xarray](http://xarray.pydata.org/en/stable/): NetCDF + PANDAS + CF conventions. Awesome.\n",
    "- [pygrib](https://github.com/jswhit/pygrib): Reading GRIB files.\n",
    "- [ncview](http://meteora.ucsd.edu/~pierce/ncview_home_page.html): Not python, but a very useful NetCDF file viewer."
   ]
  },
  {
   "cell_type": "markdown",
   "metadata": {},
   "source": [
    "## `xarray`\n",
    "\n",
    "`xarray` expands the utility of the time series analysis package `pandas` into more than one dimension. It is actively being developed so some functionality isn't yet available, but for certain analysis it is very useful."
   ]
  },
  {
   "cell_type": "code",
   "execution_count": 16,
   "metadata": {
    "collapsed": false
   },
   "outputs": [],
   "source": [
    "import xarray as xr"
   ]
  },
  {
   "cell_type": "markdown",
   "metadata": {},
   "source": [
    "In the previous material, we used `netCDF` directly to read in a data file, then access the data:"
   ]
  },
  {
   "cell_type": "code",
   "execution_count": 17,
   "metadata": {
    "collapsed": false
   },
   "outputs": [
    {
     "name": "stdout",
     "output_type": "stream",
     "text": [
      "(1946, 89, 180)\n"
     ]
    }
   ],
   "source": [
    "nc = netCDF4.Dataset('../data/sst.mnmean.v4.nc')\n",
    "\n",
    "print(nc['sst'].shape)"
   ]
  },
  {
   "cell_type": "markdown",
   "metadata": {},
   "source": [
    "However, as was pointed out in class, in this approach if we want to pull out the sea surface temperature data at a particular time, we need to first know which time index that particular time corresponds to. How can we find this?\n",
    "\n",
    "First we convert the time numbers from the file into datetimes, like before:"
   ]
  },
  {
   "cell_type": "code",
   "execution_count": 49,
   "metadata": {
    "collapsed": false
   },
   "outputs": [
    {
     "data": {
      "text/plain": [
       "(1946,)"
      ]
     },
     "execution_count": 49,
     "metadata": {},
     "output_type": "execute_result"
    }
   ],
   "source": [
    "# Extract the time variable using the convenient num2date\n",
    "time = netCDF4.num2date(nc['time'][:], nc['time'].units)\n",
    "np.shape(time)"
   ]
  },
  {
   "cell_type": "markdown",
   "metadata": {},
   "source": [
    "Say we want to search for the time index corresponding to May 1, 1954."
   ]
  },
  {
   "cell_type": "code",
   "execution_count": 19,
   "metadata": {
    "collapsed": true
   },
   "outputs": [],
   "source": [
    "from datetime import datetime\n",
    "\n",
    "date = datetime(1954, 5, 1, 0, 0)"
   ]
  },
  {
   "cell_type": "code",
   "execution_count": 25,
   "metadata": {
    "collapsed": false
   },
   "outputs": [
    {
     "data": {
      "text/plain": [
       "tuple"
      ]
     },
     "execution_count": 25,
     "metadata": {},
     "output_type": "execute_result"
    }
   ],
   "source": [
    "np.where(time==date)"
   ]
  },
  {
   "cell_type": "markdown",
   "metadata": {},
   "source": [
    "Now we search for the time index:"
   ]
  },
  {
   "cell_type": "code",
   "execution_count": 21,
   "metadata": {
    "collapsed": false
   },
   "outputs": [
    {
     "name": "stdout",
     "output_type": "stream",
     "text": [
      "1204\n"
     ]
    }
   ],
   "source": [
    "tind = np.where(time==date)[0][0]\n",
    "print(tind)"
   ]
  },
  {
   "cell_type": "markdown",
   "metadata": {},
   "source": [
    "Great! So the time index we want is 1204. We can now make our sea surface temperature plot:"
   ]
  },
  {
   "cell_type": "code",
   "execution_count": 26,
   "metadata": {
    "collapsed": false
   },
   "outputs": [
    {
     "data": {
      "image/png": "[encoded data removed]",
      "text/plain": [
       "<matplotlib.figure.Figure at 0x7fa6664fe710>"
      ]
     },
     "metadata": {},
     "output_type": "display_data"
    }
   ],
   "source": [
    "proj = cartopy.crs.Robinson(central_longitude=180)\n",
    "\n",
    "fig = plt.figure(figsize=(14,6))\n",
    "ax = fig.add_subplot(111, projection=proj)\n",
    "ax.add_feature(cartopy.feature.LAND, facecolor='0.9')\n",
    "mappable = ax.contourf(nc['lon'][:], nc['lat'][:], nc['sst'][tind], cmap=cmo.thermal, transform=cartopy.crs.PlateCarree())\n",
    "ax.set_title(time[tind].isoformat())\n",
    "fig.colorbar(mappable).set_label(r'Sea Surface Temperature [$^\\circ$C]')"
   ]
  },
  {
   "cell_type": "markdown",
   "metadata": {},
   "source": [
    "What if instead we want the index corresponding to May 23, 1954"
   ]
  },
  {
   "cell_type": "code",
   "execution_count": 32,
   "metadata": {
    "collapsed": false
   },
   "outputs": [
    {
     "ename": "AttributeError",
     "evalue": "'numpy.ndarray' object has no attribute 'year'",
     "output_type": "error",
     "traceback": [
      "\u001b[0;31m---------------------------------------------------------------------------\u001b[0m",
      "\u001b[0;31mAttributeError\u001b[0m                            Traceback (most recent call last)",
      "\u001b[0;32m<ipython-input-32-500e35e68507>\u001b[0m in \u001b[0;36m<module>\u001b[0;34m()\u001b[0m\n\u001b[1;32m      1\u001b[0m \u001b[0mdate\u001b[0m \u001b[0;34m=\u001b[0m \u001b[0mdatetime\u001b[0m\u001b[0;34m(\u001b[0m\u001b[0;36m1954\u001b[0m\u001b[0;34m,\u001b[0m \u001b[0;36m5\u001b[0m\u001b[0;34m,\u001b[0m \u001b[0;36m23\u001b[0m\u001b[0;34m,\u001b[0m \u001b[0;36m0\u001b[0m\u001b[0;34m,\u001b[0m \u001b[0;36m0\u001b[0m\u001b[0;34m)\u001b[0m\u001b[0;34m\u001b[0m\u001b[0m\n\u001b[0;32m----> 2\u001b[0;31m \u001b[0mnp\u001b[0m\u001b[0;34m.\u001b[0m\u001b[0mwhere\u001b[0m\u001b[0;34m(\u001b[0m\u001b[0mtime\u001b[0m\u001b[0;34m.\u001b[0m\u001b[0myear\u001b[0m\u001b[0;34m==\u001b[0m\u001b[0mdate\u001b[0m\u001b[0;34m.\u001b[0m\u001b[0myear\u001b[0m \u001b[0;32mand\u001b[0m \u001b[0mtime\u001b[0m\u001b[0;34m.\u001b[0m\u001b[0mmonth\u001b[0m\u001b[0;34m==\u001b[0m\u001b[0mdate\u001b[0m\u001b[0;34m.\u001b[0m\u001b[0mmonth\u001b[0m \u001b[0;34m)\u001b[0m\u001b[0;34m\u001b[0m\u001b[0m\n\u001b[0m\u001b[1;32m      3\u001b[0m \u001b[0mnp\u001b[0m\u001b[0;34m.\u001b[0m\u001b[0mwhere\u001b[0m\u001b[0;34m(\u001b[0m\u001b[0mnp\u001b[0m\u001b[0;34m.\u001b[0m\u001b[0marray\u001b[0m\u001b[0;34m(\u001b[0m\u001b[0;34m[\u001b[0m\u001b[0;36m1\u001b[0m\u001b[0;34m,\u001b[0m\u001b[0;36m2\u001b[0m\u001b[0;34m,\u001b[0m\u001b[0;36m3\u001b[0m\u001b[0;34m,\u001b[0m\u001b[0;36m4\u001b[0m\u001b[0;34m,\u001b[0m\u001b[0;36m5\u001b[0m\u001b[0;34m]\u001b[0m\u001b[0;34m)\u001b[0m\u001b[0;34m==\u001b[0m\u001b[0;36m2\u001b[0m\u001b[0;34m)\u001b[0m\u001b[0;34m\u001b[0m\u001b[0m\n",
      "\u001b[0;31mAttributeError\u001b[0m: 'numpy.ndarray' object has no attribute 'year'"
     ]
    }
   ],
   "source": [
    "date = datetime(1954, 5, 23, 0, 0)\n",
    "np.where(time==date )\n",
    "np.where(np.array([1,2,3,4,5])==2)\n"
   ]
  },
  {
   "cell_type": "markdown",
   "metadata": {},
   "source": [
    "What is the problem here? There is no data at that exact time.\n",
    "\n",
    "So what should we do?"
   ]
  },
  {
   "cell_type": "markdown",
   "metadata": {},
   "source": [
    "---\n",
    "### *Exercise*\n",
    "\n",
    "> Search for the time index corresponding to the time in the data file closest to May 23, 1954.\n",
    "\n",
    "---"
   ]
  },
  {
   "cell_type": "code",
   "execution_count": 51,
   "metadata": {
    "collapsed": false
   },
   "outputs": [
    {
     "data": {
      "text/plain": [
       "1205"
      ]
     },
     "execution_count": 51,
     "metadata": {},
     "output_type": "execute_result"
    }
   ],
   "source": [
    "date = datetime(1954, 5, 23, 0, 0)\n",
    "# np.where(abs(time-date).days.lt.15)\n",
    "# np.where(time==date)\n",
    "# abs(time-date)\n",
    "# dt1=timedelta(days=15)+date\n",
    "# dt2=timedelta(days=15)-date\n",
    "# np.where(time<dt1)\n",
    "np.abs(time-date).argmin()\n"
   ]
  },
  {
   "cell_type": "code",
   "execution_count": 47,
   "metadata": {
    "collapsed": false
   },
   "outputs": [
    {
     "data": {
      "text/plain": [
       "2"
      ]
     },
     "execution_count": 47,
     "metadata": {},
     "output_type": "execute_result"
    }
   ],
   "source": [
    "np.abs(np.array([1,2,3,4,5])-2.7).argmin()"
   ]
  },
  {
   "cell_type": "markdown",
   "metadata": {},
   "source": [
    "Now let's access this data using a different package called `xarray`:"
   ]
  },
  {
   "cell_type": "code",
   "execution_count": 52,
   "metadata": {
    "collapsed": false
   },
   "outputs": [
    {
     "data": {
      "text/plain": [
       "<xarray.Dataset>\n",
       "Dimensions:    (lat: 89, lon: 180, nbnds: 2, time: 1946)\n",
       "Coordinates:\n",
       "  * lat        (lat) float32 88.0 86.0 84.0 82.0 80.0 78.0 76.0 74.0 72.0 ...\n",
       "  * lon        (lon) float32 0.0 2.0 4.0 6.0 8.0 10.0 12.0 14.0 16.0 18.0 ...\n",
       "  * time       (time) datetime64[ns] 1854-01-01 1854-02-01 1854-03-01 ...\n",
       "  * nbnds      (nbnds) int64 0 1\n",
       "Data variables:\n",
       "    time_bnds  (time, nbnds) float64 1.972e+04 1.975e+04 1.975e+04 1.978e+04 ...\n",
       "    sst        (time, lat, lon) float64 -1.8 -1.8 -1.8 -1.8 -1.8 -1.8 -1.8 ...\n",
       "Attributes:\n",
       "    history: created 10/2014 by CAS using NCDC's ERSST V4 ascii values\n",
       "    title: NOAA Extended Reconstructed Sea Surface Temperature (ERSST), Version 4 (in situ only)\n",
       "    climatology: Climatology is based on 1971-2000 SST, Xue, Y., T. M. Smith, and R. W. Reynolds, 2003: Interdecadal changes of 30-yr SST normals during 1871.2000. Journal of Climate, 16, 1601-1612.\n",
       "    description: In situ data: ICOADS2.5 before 2007 and NCEP in situ data from 2008 to present. Ice data: HadISST ice before 2010 and NCEP ice after 2010.\n",
       "    citation: Huang et al, 2014: Extended Reconstructed Sea Surface Temperatures Version 4 (ERSST.v4), Part I. Upgrades and Intercomparisons. Journal of Climate.\n",
       "    comment: SSTs were observed by conventional thermometers in Buckets (insulated or un-insulated canvas and wooded buckets) or Engine Room Intaker\n",
       "    Conventions: CF-1.2\n",
       "    institution: This version written at NOAA/ESRL PSD: obtained from NOAA/NESDIS/National Climatic Data Center\n",
       "    keywords_vocabulary: NASA Global Change Master Directory (GCMD) Science Keywords\n",
       "    keywords: Earth Science > Oceans > Ocean Temperature > Sea Surface Temperature >\n",
       "    platform: Ship and Buoy SSTs from ICOADS R2.5 and NCEP GTS\n",
       "    instrument: Conventional thermometers\n",
       "    source: ICOADS R2.5 SST, NCEP GTS SST, HadISST ice, NCEP ice\n",
       "    source_comment: SSTs were observed by conventional thermometers in Buckets (insulated or un-insulated canvas and wooded buckets) or Engine Room Intaker\n",
       "    geospatial_lon_min: -1.0\n",
       "    geospatial_lon_max: 359.0\n",
       "    geospatial_laty_max: 89.0\n",
       "    geospatial_laty_min: -89.0\n",
       "    geospatial_lat_max: 89.0\n",
       "    geospatial_lat_min: -89.0\n",
       "    geospatial_lat_units: degrees_north\n",
       "    geospatial_lon_units: degrees_east\n",
       "    cdm_data_type: Grid\n",
       "    project: NOAA Extended Reconstructed Sea Surface Temperature (ERSST)\n",
       "    license: No constraints on data access or use\n",
       "    original_publisher_url: http://www.ncdc.noaa.gov\n",
       "    References: http://www.ncdc.noaa.gov/data-access/marineocean-data/extended-reconstructed-sea-surface-temperature-ersst-v4 at NCDC and http://www.esrl.noaa.gov/psd/data/gridded/data.noaa.ersst.v4.html\n",
       "    dataset_title: Extended Reconstructed Sea Surface Temperature (ERSST) v4"
      ]
     },
     "execution_count": 52,
     "metadata": {},
     "output_type": "execute_result"
    }
   ],
   "source": [
    "ds = xr.open_dataset('../data/sst.mnmean.v4.nc')  # similar way to read in — also works for nonlocal data addresses\n",
    "ds"
   ]
  },
  {
   "cell_type": "markdown",
   "metadata": {},
   "source": [
    "Now we can search for data in May 1954:"
   ]
  },
  {
   "cell_type": "code",
   "execution_count": 53,
   "metadata": {
    "collapsed": false
   },
   "outputs": [
    {
     "data": {
      "text/plain": [
       "<xarray.DataArray 'sst' (time: 1, lat: 89, lon: 180)>\n",
       "array([[[-1.79999995, -1.79999995, -1.79999995, ..., -1.79999995,\n",
       "         -1.79999995, -1.79999995],\n",
       "        [-1.79999995, -1.79999995, -1.79999995, ..., -1.79999995,\n",
       "         -1.79999995, -1.79999995],\n",
       "        [-1.79999995, -1.79999995, -1.79999995, ..., -1.79999995,\n",
       "         -1.79999995, -1.79999995],\n",
       "        ..., \n",
       "        [        nan,         nan,         nan, ...,         nan,\n",
       "                 nan,         nan],\n",
       "        [        nan,         nan,         nan, ...,         nan,\n",
       "                 nan,         nan],\n",
       "        [        nan,         nan,         nan, ...,         nan,\n",
       "                 nan,         nan]]])\n",
       "Coordinates:\n",
       "  * lat      (lat) float32 88.0 86.0 84.0 82.0 80.0 78.0 76.0 74.0 72.0 70.0 ...\n",
       "  * lon      (lon) float32 0.0 2.0 4.0 6.0 8.0 10.0 12.0 14.0 16.0 18.0 20.0 ...\n",
       "  * time     (time) datetime64[ns] 1954-05-01\n",
       "Attributes:\n",
       "    long_name: Monthly Means of Sea Surface Temperature\n",
       "    units: degC\n",
       "    var_desc: Sea Surface Temperature\n",
       "    level_desc: Surface\n",
       "    statistic: Mean\n",
       "    actual_range: [ -1.79999995  33.95000076]\n",
       "    valid_range: [ -5.  40.]\n",
       "    dataset: NOAA Extended Reconstructed SST V4\n",
       "    parent_stat: Individual Values"
      ]
     },
     "execution_count": 53,
     "metadata": {},
     "output_type": "execute_result"
    }
   ],
   "source": [
    "ds['sst'].sel(time=slice('1954-05','1954-05'))"
   ]
  },
  {
   "cell_type": "markdown",
   "metadata": {},
   "source": [
    "Or we can search for the nearest output to May 23, 1954:"
   ]
  },
  {
   "cell_type": "code",
   "execution_count": 54,
   "metadata": {
    "collapsed": false
   },
   "outputs": [
    {
     "data": {
      "text/plain": [
       "<xarray.DataArray 'sst' (lat: 89, lon: 180)>\n",
       "array([[-1.79999995, -1.79999995, -1.79999995, ..., -1.79999995,\n",
       "        -1.79999995, -1.79999995],\n",
       "       [-1.79999995, -1.79999995, -1.79999995, ..., -1.79999995,\n",
       "        -1.79999995, -1.79999995],\n",
       "       [-1.79999995, -1.79999995, -1.79999995, ..., -1.79999995,\n",
       "        -1.79999995, -1.79999995],\n",
       "       ..., \n",
       "       [        nan,         nan,         nan, ...,         nan,\n",
       "                nan,         nan],\n",
       "       [        nan,         nan,         nan, ...,         nan,\n",
       "                nan,         nan],\n",
       "       [        nan,         nan,         nan, ...,         nan,\n",
       "                nan,         nan]])\n",
       "Coordinates:\n",
       "  * lat      (lat) float32 88.0 86.0 84.0 82.0 80.0 78.0 76.0 74.0 72.0 70.0 ...\n",
       "  * lon      (lon) float32 0.0 2.0 4.0 6.0 8.0 10.0 12.0 14.0 16.0 18.0 20.0 ...\n",
       "    time     datetime64[ns] 1954-06-01\n",
       "Attributes:\n",
       "    long_name: Monthly Means of Sea Surface Temperature\n",
       "    units: degC\n",
       "    var_desc: Sea Surface Temperature\n",
       "    level_desc: Surface\n",
       "    statistic: Mean\n",
       "    actual_range: [ -1.79999995  33.95000076]\n",
       "    valid_range: [ -5.  40.]\n",
       "    dataset: NOAA Extended Reconstructed SST V4\n",
       "    parent_stat: Individual Values"
      ]
     },
     "execution_count": 54,
     "metadata": {},
     "output_type": "execute_result"
    }
   ],
   "source": [
    "ds['sst'].sel(time='1954-05-23', method='nearest')"
   ]
  },
  {
   "cell_type": "markdown",
   "metadata": {},
   "source": [
    "Let's plot it!"
   ]
  },
  {
   "cell_type": "code",
   "execution_count": 55,
   "metadata": {
    "collapsed": false
   },
   "outputs": [
    {
     "data": {
      "image/png": "[encoded data removed]",
      "text/plain": [
       "<matplotlib.figure.Figure at 0x7fa5dc1b7ac8>"
      ]
     },
     "metadata": {},
     "output_type": "display_data"
    }
   ],
   "source": [
    "sst = ds['sst'].sel(time='1954-05-23', method='nearest')\n",
    "\n",
    "proj = cartopy.crs.Robinson(central_longitude=180)\n",
    "\n",
    "fig = plt.figure(figsize=(14,6))\n",
    "ax = fig.add_subplot(111, projection=proj)\n",
    "ax.add_feature(cartopy.feature.LAND, facecolor='0.9')\n",
    "mappable = ax.contourf(nc['lon'][:], nc['lat'][:], sst, cmap=cmo.thermal, transform=cartopy.crs.PlateCarree())\n",
    "ax.set_title(sst.time.data)\n",
    "fig.colorbar(mappable).set_label(r'Sea Surface Temperature [$^\\circ$C]')"
   ]
  },
  {
   "cell_type": "markdown",
   "metadata": {},
   "source": [
    "Note that you can also just plot against the included coordinates with built-in convenience functions (this is analogous to `pandas` which was for one dimension):"
   ]
  },
  {
   "cell_type": "code",
   "execution_count": 56,
   "metadata": {
    "collapsed": false
   },
   "outputs": [
    {
     "data": {
      "text/plain": [
       "<matplotlib.contour.QuadContourSet at 0x7fa5dc0afda0>"
      ]
     },
     "execution_count": 56,
     "metadata": {},
     "output_type": "execute_result"
    },
    {
     "data": {
      "image/png": "[encoded data removed]",
      "text/plain": [
       "<matplotlib.figure.Figure at 0x7fa5dc129080>"
      ]
     },
     "metadata": {},
     "output_type": "display_data"
    }
   ],
   "source": [
    "sst.plot.contourf()"
   ]
  },
  {
   "cell_type": "markdown",
   "metadata": {},
   "source": [
    "## GroupBy\n",
    "\n",
    "Like in `pandas`, we can use the `groupby` method to do some neat things. Let's group by season and save a new file."
   ]
  },
  {
   "cell_type": "code",
   "execution_count": 57,
   "metadata": {
    "collapsed": false
   },
   "outputs": [
    {
     "data": {
      "text/plain": [
       "<xarray.Dataset>\n",
       "Dimensions:    (lat: 89, lon: 180, nbnds: 2, season: 4)\n",
       "Coordinates:\n",
       "  * lat        (lat) float32 88.0 86.0 84.0 82.0 80.0 78.0 76.0 74.0 72.0 ...\n",
       "  * lon        (lon) float32 0.0 2.0 4.0 6.0 8.0 10.0 12.0 14.0 16.0 18.0 ...\n",
       "  * nbnds      (nbnds) int64 0 1\n",
       "  * season     (season) object 'DJF' 'JJA' 'MAM' 'SON'\n",
       "Data variables:\n",
       "    time_bnds  (season, nbnds) float64 4.937e+04 4.94e+04 4.931e+04 ...\n",
       "    sst        (season, lat, lon) float64 -1.8 -1.8 -1.8 -1.8 -1.8 -1.8 -1.8 ..."
      ]
     },
     "execution_count": 57,
     "metadata": {},
     "output_type": "execute_result"
    }
   ],
   "source": [
    "seasonal_mean = ds.groupby('time.season').mean('time')\n",
    "seasonal_mean"
   ]
  },
  {
   "cell_type": "markdown",
   "metadata": {},
   "source": [
    "Do you remember how many lines of code were required to save a netCDF file from scratch? It is straight-forward, but tedious. Once you are working with data using `xarray`, you can save new, derived files very easily from your data array:"
   ]
  },
  {
   "cell_type": "code",
   "execution_count": 58,
   "metadata": {
    "collapsed": true
   },
   "outputs": [],
   "source": [
    "fname = 'output/test.nc'\n",
    "# seasonal_mean.to_netcdf(fname)  # you can't run this in read-only, but I already did for you"
   ]
  },
  {
   "cell_type": "code",
   "execution_count": 59,
   "metadata": {
    "collapsed": false
   },
   "outputs": [
    {
     "data": {
      "text/plain": [
       "<class 'netCDF4._netCDF4.Dataset'>\n",
       "root group (NETCDF4 data model, file format HDF5):\n",
       "    dimensions(sizes): lat(89), lon(180), season(4), nbnds(2)\n",
       "    variables(dimensions): float32 \u001b[4mlat\u001b[0m(lat), float32 \u001b[4mlon\u001b[0m(lon), float64 \u001b[4mtime_bnds\u001b[0m(season,nbnds), float64 \u001b[4msst\u001b[0m(season,lat,lon), <class 'str'> \u001b[4mseason\u001b[0m(season)\n",
       "    groups: "
      ]
     },
     "execution_count": 59,
     "metadata": {},
     "output_type": "execute_result"
    }
   ],
   "source": [
    "d = netCDF4.Dataset(fname)\n",
    "d"
   ]
  },
  {
   "cell_type": "markdown",
   "metadata": {},
   "source": [
    "---\n",
    "### *Exercise*\n",
    "\n",
    "> Plot the difference between summer and winter mean sea surface temperature.\n",
    "\n",
    "---"
   ]
  },
  {
   "cell_type": "code",
   "execution_count": null,
   "metadata": {
    "collapsed": true
   },
   "outputs": [],
   "source": []
  }
 ],
 "metadata": {
  "anaconda-cloud": {},
  "kernelspec": {
   "display_name": "Python [default]",
   "language": "python",
   "name": "python3"
  },
  "language_info": {
   "codemirror_mode": {
    "name": "ipython",
    "version": 3
   },
   "file_extension": ".py",
   "mimetype": "text/x-python",
   "name": "python",
   "nbconvert_exporter": "python",
   "pygments_lexer": "ipython3",
   "version": "3.5.2"
  }
 },
 "nbformat": 4,
 "nbformat_minor": 0
}
