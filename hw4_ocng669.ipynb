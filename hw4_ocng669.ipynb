{
 "cells": [
  {
   "cell_type": "markdown",
   "metadata": {},
   "source": [
    "# Numerical Python -- continued"
   ]
  },
  {
   "cell_type": "code",
   "execution_count": 16,
   "metadata": {
    "collapsed": true
   },
   "outputs": [],
   "source": [
    "from nose.tools import assert_equal  # tool for testing solutions\n",
    "import numpy as np"
   ]
  },
  {
   "cell_type": "markdown",
   "metadata": {},
   "source": [
    "### 1. Write and use a class\n",
    "\n",
    "Consider the data files located in `data/MCH`. Notice that there are many of the files, and that it would be a lot of work to read them all in by hand. Since there is common information in the files, let's write a class to interact with the files.\n",
    "\n",
    "Write a class, `CTD`, to store some of the information in a single file within a class. The class should:\n",
    "\n",
    "* be initialized with the name of the file, `filename`, and this value should be stored in the class as an attribute `CTD.filename`;\n",
    "* contain a method, `salt_mean()`, which returns the mean of the salinity;\n",
    "* contain a method, `temp_max()`, which returns the maximum value of the temperature values.\n",
    "* contain a method, `combine(alpha, beta)` that returns a linear combination of `temp` and `salt` based on the equation: `alpha * temp + beta * salt`\n",
    "\n",
    "The structure for `CTD` is provided below — you  need to fill in the code to make the class work properly."
   ]
  },
  {
   "cell_type": "code",
   "execution_count": 18,
   "metadata": {
    "deletable": false,
    "nbgrader": {
     "checksum": "4f379bbf0d0ebf7ef3a5df2f40e0eee3",
     "grade": false,
     "grade_id": "class",
     "locked": false,
     "schema_version": 1,
     "solution": true
    }
   },
   "outputs": [],
   "source": [
    "class CTD(object):\n",
    "    \"\"\"Holds some data.\"\"\"\n",
    "    # YOUR CODE HERE\n",
    "      \n",
    "    def __init__(self, filename):\n",
    "        self.filename = filename\n",
    "        f = open(filename)\n",
    "        self.salt = []\n",
    "        self.temp = []\n",
    "        for line in f.readlines():\n",
    "            if line[0] == ' ':\n",
    "                self.temp.append(float(line.split()[2]))\n",
    "                self.salt.append(float(line.split()[5]))\n",
    "#         self.salt = np.asarray(salt)\n",
    "#         self.temp = np.asarray(temp)\n",
    "        self.salt = np.asarray(self.salt)\n",
    "        self.temp = np.asarray(self.temp)\n",
    "        \n",
    "            \n",
    "\n",
    "\n",
    "#     def salt():  \n",
    "#         with open(filename, 'r') as f:\n",
    "#             data = []\n",
    "#             i=0\n",
    "#             lines=f.readlines()\n",
    "#             for line in lines:\n",
    "#                 values = line.split()\n",
    "#                 i+=1\n",
    "#                 if values[0]=='*END*':\n",
    "#                     idex=i\n",
    "\n",
    "#             for line in lines[idex+1:]:\n",
    "#                 values = [float(value) for value in line.split()]\n",
    "#                 data.append(values)\n",
    "#         return data[:,5]\n",
    "    def salt_mean(self):  \n",
    "        return self.salt.mean()\n",
    "    \n",
    "    def temp_max(self):\n",
    "        return self.temp.max()\n",
    "\n",
    "    \n",
    "#     def temp_max(self):\n",
    "#         data=loadtxt(filename,comments='*')\n",
    "#         return np.max(data[:,2])\n",
    "#     def combine(self, alpha, beta):\n",
    "#         print(alpha*self.salt()+beta*self.temp())\n",
    "#         return alpha*self.salt()+beta*self.temp()\n",
    "    def combine(self, alpha, beta):\n",
    "#         return float(alpha[np.newaxis])*self.salt()+float(beta[np.newaxis])*self.temp()\n",
    "        return np.asarray(alpha*self.temp+beta*self.salt)"
   ]
  },
  {
   "cell_type": "code",
   "execution_count": 19,
   "metadata": {},
   "outputs": [
    {
     "name": "stdout",
     "output_type": "stream",
     "text": [
      "57\n"
     ]
    },
    {
     "data": {
      "text/plain": [
       "(16, 17)"
      ]
     },
     "execution_count": 19,
     "metadata": {},
     "output_type": "execute_result"
    }
   ],
   "source": [
    "f=open('data/MCH/m1001a.cnv2', 'r')\n",
    "# data=np.loadtxt('data/MCH/m1001a.cnv2', comments='*')\n",
    "data = []\n",
    "i=0\n",
    "lines=f.readlines()\n",
    "for line in lines:\n",
    "    values = line.split()\n",
    "    i+=1\n",
    "    if values[0]=='*END*':\n",
    "        idex=i\n",
    "print(idex)\n",
    "for line in lines[idex+1:]:\n",
    "    values = [float(value) for value in line.split()]\n",
    "    data.append(values)\n",
    "np.shape(data)\n",
    "# line=f.readlines()\n",
    "# # np.shape(line)\n",
    "# values=line[0].split()\n",
    "# type(values[0])\n",
    "# values[0]\n",
    "# line[0]\n",
    "# values = [float(value) for value in line[25].split()]\n",
    "# type(values[1])\n",
    "# values"
   ]
  },
  {
   "cell_type": "code",
   "execution_count": 15,
   "metadata": {
    "deletable": false,
    "editable": false,
    "nbgrader": {
     "checksum": "9241c99d5d81d0ee6538eafe28605062",
     "grade": true,
     "grade_id": "test_class",
     "locked": true,
     "points": 5,
     "schema_version": 1,
     "solution": false
    }
   },
   "outputs": [
    {
     "name": "stdout",
     "output_type": "stream",
     "text": [
      "Success!\n"
     ]
    }
   ],
   "source": [
    "\"\"\"(5 points) Test code for the previous function. This cell should NOT give any errors when it is run.\n",
    "Do not alter the contents of this cell.\"\"\"\n",
    "\n",
    "## Test an instance of the class ##\n",
    "filename1 = 'data/MCH/m1001a.cnv2'\n",
    "# set up a CTD object for this Filename\n",
    "ctd1 = CTD(filename1)\n",
    "# test name\n",
    "assert 'm1001a' in ctd1.filename\n",
    "# make sure salt is there\n",
    "assert ctd1.salt.any()\n",
    "# make sure temp is there\n",
    "assert ctd1.temp.any()\n",
    "# test mean\n",
    "assert np.allclose(ctd1.salt_mean(), 24.658829411764707)\n",
    "# test max\n",
    "assert np.allclose(ctd1.temp_max(), 22.120100000000001)\n",
    "#test combine\n",
    "assert np.allclose(ctd1.combine(0, 1).mean(), 24.658829411764707)\n",
    "assert np.allclose(ctd1.combine(1, 1).mean(), 46.472258823529415)\n",
    "\n",
    "## Test an instance of the class ##\n",
    "\n",
    "\n",
    "filename2 = 'data/MCH/m1008b.cnv2'\n",
    "# set up a CTD object for this Filename\n",
    "ctd2 = CTD(filename2)\n",
    "# test name\n",
    "assert 'm1008b' in ctd2.filename\n",
    "# make sure salt is there\n",
    "assert ctd2.salt.any()\n",
    "# make sure temp is there\n",
    "assert ctd2.temp.any()\n",
    "# test mean\n",
    "assert np.allclose(ctd2.salt_mean(), 34.256788235294117)\n",
    "# test max\n",
    "assert np.allclose(ctd2.temp_max(), 21.5411)\n",
    "assert np.allclose(ctd2.combine(0, 1).mean(), 34.256788235294117)\n",
    "assert np.allclose(ctd2.combine(1, 1).mean(), 55.666350000000008)\n",
    "\n",
    "print(\"Success!\")"
   ]
  },
  {
   "cell_type": "markdown",
   "metadata": {},
   "source": [
    "### 2 Fiting a line\n",
    "\n",
    "Use `numpy` polynomial functions to fit random given values `x` and `y` to a line (i.e., first order polynomial), and return the expected value based on that fit at `x=5.0`\n"
   ]
  },
  {
   "cell_type": "code",
   "execution_count": 20,
   "metadata": {
    "collapsed": true,
    "deletable": false,
    "nbgrader": {
     "checksum": "bfeee33c1672ed373d8e5d3697a8fdc2",
     "grade": false,
     "grade_id": "line",
     "locked": false,
     "schema_version": 1,
     "solution": true
    }
   },
   "outputs": [],
   "source": [
    "def xatfive(x, y):\n",
    "    'Expected fit at x=5 of linear fit of random data x and y'\n",
    "    # YOUR CODE HERE\n",
    "    p = np.polyfit(x, y, 1)\n",
    "    \n",
    "    return p[0]*5+p[1]"
   ]
  },
  {
   "cell_type": "code",
   "execution_count": 21,
   "metadata": {
    "deletable": false,
    "editable": false,
    "nbgrader": {
     "checksum": "8221b003cf5292256a98ffa1b0494421",
     "grade": true,
     "grade_id": "test_line",
     "locked": true,
     "points": 5,
     "schema_version": 1,
     "solution": false
    }
   },
   "outputs": [
    {
     "name": "stdout",
     "output_type": "stream",
     "text": [
      "Success!\n"
     ]
    }
   ],
   "source": [
    "x = np.array([ 0.29646582,  5.9083115 ,  2.97347063,  0.77284422,  9.39502588,\n",
    "               2.15227687,  6.1158336 ,  4.56733438,  9.9835841 ,  9.72066327])\n",
    "y = np.array([  1.18875319,  17.82393043,   9.1241461 ,   2.5398729 ,\n",
    "               28.48371414,   6.5234553 ,  18.49199616,  13.91623748,\n",
    "               29.9688738 ,  29.41331221])\n",
    "\n",
    "assert np.allclose(xatfive(x, y), 15.182532735557906)\n",
    "print(\"Success!\")"
   ]
  },
  {
   "cell_type": "markdown",
   "metadata": {},
   "source": [
    "### 3 Everybody's shuffling\n",
    "\n",
    "Based on Jake VanderPlas' [wonderful talk](https://speakerdeck.com/jakevdp/statistics-for-hackers), we would like to use a method of bootstrapping to see if two distributions are different. This is the approach, in psudocode:\n",
    "    \n",
    "    Take two samples, x and y, of a thing\n",
    "    calculate and store the difference between the means of x and y\n",
    "    \n",
    "    combine x and y in the same pool\n",
    "    set up a place to store the values we will calculate\n",
    "    for many, many times:    # optional argument N times, specifically\n",
    "        shuffle the pool\n",
    "        pick new sets of xnew and ynew the same size as the originals (no duplicates)\n",
    "        calculate and store the difference between the means of xnew and ynew\n",
    "\n",
    "    calculate how many times the difference between the means of x and y \n",
    "    is greater than the difference between the means of xnew and ynew.\n",
    "    \n",
    "    Estimate the probability, p, based on the number of times greater \n",
    "    and the total number of times.\n",
    "    \n",
    "    Return the minimum of p and 1-p. (This is similar to a p-value in statistics)\n",
    "       "
   ]
  },
  {
   "cell_type": "code",
   "execution_count": 22,
   "metadata": {
    "deletable": false,
    "nbgrader": {
     "checksum": "4c5c110cfb30c8881aefe842299dfa7c",
     "grade": false,
     "grade_id": "shuffle",
     "locked": false,
     "schema_version": 1,
     "solution": true
    }
   },
   "outputs": [],
   "source": [
    "def meandiff_prob_bootstrap(x, y, N=10000):\n",
    "    # YOUR CODE HERE\n",
    "    xydiff=np.mean(x)-np.mean(y)\n",
    "    z=np.append(x,y)\n",
    "\n",
    "    xyndiff = []\n",
    "\n",
    "    for nn in range(N):\n",
    "        np.random.shuffle(z)\n",
    "        xnew=z[:len(x)]\n",
    "        ynew=z[len(x):]\n",
    "        xyndiff.append(np.mean(xnew)-np.mean(ynew))\n",
    "\n",
    "    difftime  = np.sum(xyndiff < xydiff)\n",
    "    p = difftime / N\n",
    "\n",
    "    return min(p,1-p)"
   ]
  },
  {
   "cell_type": "code",
   "execution_count": 24,
   "metadata": {
    "deletable": false,
    "editable": false,
    "nbgrader": {
     "checksum": "6c60789536374a0b795b91af984e8013",
     "grade": true,
     "grade_id": "test_shuffle",
     "locked": true,
     "points": 10,
     "schema_version": 1,
     "solution": false
    }
   },
   "outputs": [
    {
     "name": "stdout",
     "output_type": "stream",
     "text": [
      "Success!\n"
     ]
    }
   ],
   "source": [
    "x = np.array([84, 72, 57, 46, 63, 76, 99, 91])\n",
    "y = np.array([81, 69, 74, 61, 56, 87, 69, 65, 66, 44, 62, 69])\n",
    "\n",
    "assert np.allclose( meandiff_prob_bootstrap(x, y), 0.165, atol=0.03)\n",
    "print('Success!')"
   ]
  }
 ],
 "metadata": {
  "anaconda-cloud": {},
  "kernelspec": {
   "display_name": "Python [default]",
   "language": "python",
   "name": "python3"
  },
  "language_info": {
   "codemirror_mode": {
    "name": "ipython",
    "version": 3
   },
   "file_extension": ".py",
   "mimetype": "text/x-python",
   "name": "python",
   "nbconvert_exporter": "python",
   "pygments_lexer": "ipython3",
   "version": "3.5.3"
  }
 },
 "nbformat": 4,
 "nbformat_minor": 1
}
