{
 "cells": [
  {
   "cell_type": "markdown",
   "metadata": {},
   "source": [
    "# Performance Python\n",
    "\n",
    "Here we will talk about a few ways to make code run faster. There are a number of ways to do this, but we will talk about three of the most standard approaches."
   ]
  },
  {
   "cell_type": "code",
   "execution_count": null,
   "metadata": {
    "collapsed": false
   },
   "outputs": [],
   "source": [
    "import numpy as np\n",
    "import matplotlib.pyplot as plt\n",
    "%matplotlib inline"
   ]
  },
  {
   "cell_type": "markdown",
   "metadata": {},
   "source": [
    "### Numba -- I want my code to run faster.\n",
    "\n",
    "[Numba](http://numba.pydata.org/) is a fairly new package that is easier than previous approaches, such as [weave](https://docs.scipy.org/doc/scipy-0.18.1/reference/tutorial/weave.html) and [cython](http://cython.org/).\n",
    "\n",
    "Numba uses [decorators](http://simeonfranklin.com/blog/2012/jul/1/python-decorators-in-12-steps/) to identify python functions that sould be pre-compiled into C code to run faster. Decorators are basically just wrapper functions -- that is it runs the decorated function inside another function (identified by @decorator_name in front of the function) so that the inputs and outputs might be modified. But for now, you can just think of decorators as flags that identify which functions you want to run fast.\n",
    "\n",
    "Numba has a _just-in-time_ compiler that will only compile the function before it is called the first time. The associated decorator is `numba.jit`. "
   ]
  },
  {
   "cell_type": "code",
   "execution_count": null,
   "metadata": {
    "collapsed": false
   },
   "outputs": [],
   "source": [
    "from numba import jit\n",
    "\n",
    "@jit\n",
    "def julia_fast(x, y, c, zabs_max=10, nit_max = 1000):  \n",
    "    res = np.zeros((len(y), len(x)))\n",
    "    for i, ix in enumerate(x):\n",
    "        for j, iy in enumerate(y):\n",
    "            z = complex(ix, iy)\n",
    "            nit = 0\n",
    "            while abs(z) <= zabs_max and nit < nit_max:\n",
    "                z = z**2 + c\n",
    "                nit += 1\n",
    "\n",
    "            res[i,j] = nit / nit_max\n",
    "\n",
    "    return res\n",
    "                   \n",
    "c = complex(-0.5, 0.65)\n",
    "\n",
    "x = np.linspace(-1.5, 1.5, 1001)\n",
    "y = np.linspace(-1.5, 1.5, 1001)"
   ]
  },
  {
   "cell_type": "code",
   "execution_count": null,
   "metadata": {
    "collapsed": false
   },
   "outputs": [],
   "source": [
    "%timeit j = julia_fast(x, y, c)"
   ]
  },
  {
   "cell_type": "markdown",
   "metadata": {},
   "source": [
    "Let's compare this to the original function, without the speed advantages of numba"
   ]
  },
  {
   "cell_type": "code",
   "execution_count": null,
   "metadata": {
    "collapsed": true
   },
   "outputs": [],
   "source": [
    "def julia_slow(x, y, c, zabs_max=10, nit_max = 1000):  \n",
    "    res = np.zeros((len(y), len(x)))\n",
    "    for i, ix in enumerate(x):\n",
    "        for j, iy in enumerate(y):\n",
    "            z = complex(ix, iy)\n",
    "            nit = 0\n",
    "            while abs(z) <= zabs_max and nit < nit_max:\n",
    "                z = z**2 + c\n",
    "                nit += 1\n",
    "\n",
    "            res[i,j] = nit / nit_max\n",
    "\n",
    "    return res"
   ]
  },
  {
   "cell_type": "code",
   "execution_count": null,
   "metadata": {
    "collapsed": false
   },
   "outputs": [],
   "source": [
    "%timeit j = julia_slow(x, y, c)"
   ]
  },
  {
   "cell_type": "markdown",
   "metadata": {},
   "source": [
    "### Dask -- my code is too big to hold in memory\n",
    "\n",
    "[Dask](http://dask.pydata.org/en/latest/) is a tool that allows for automatic parallelization of tasks."
   ]
  },
  {
   "cell_type": "code",
   "execution_count": null,
   "metadata": {
    "collapsed": true
   },
   "outputs": [],
   "source": [
    "import dask.array as da"
   ]
  },
  {
   "cell_type": "code",
   "execution_count": null,
   "metadata": {
    "collapsed": false
   },
   "outputs": [],
   "source": [
    "# Dask is not particularly fast...\n",
    "\n",
    "x = np.arange(1000000).reshape(1000, 1000)\n",
    "y = da.from_array(x, chunks=(100))   # split the dataset into 100 chunks,  \n",
    "%timeit y.mean().compute()           # to do computations on each chunk individually. \n",
    "\n",
    "%timeit x.mean()                     # ... but it's not faster if it fits in memory"
   ]
  },
  {
   "cell_type": "code",
   "execution_count": null,
   "metadata": {
    "collapsed": false
   },
   "outputs": [],
   "source": [
    "y.dask"
   ]
  },
  {
   "cell_type": "markdown",
   "metadata": {
    "collapsed": false
   },
   "source": [
    "Dask can run complex calculations on these split arrays by using [graphs](http://dask.pydata.org/en/latest/graphs.html). Refer to the documentation for more information."
   ]
  },
  {
   "cell_type": "markdown",
   "metadata": {},
   "source": [
    "### f2py -- I already have some fast FORTRAN code.\n",
    "\n",
    "Use [f2py](https://docs.scipy.org/doc/numpy-dev/f2py/) primariy if you have some existing fortran code that you want to link with Python. Other libraries let you link C code in a similar way. "
   ]
  },
  {
   "cell_type": "code",
   "execution_count": null,
   "metadata": {
    "collapsed": false
   },
   "outputs": [],
   "source": [
    "!cat julia.f"
   ]
  },
  {
   "cell_type": "code",
   "execution_count": null,
   "metadata": {
    "collapsed": false
   },
   "outputs": [],
   "source": [
    "!f2py -c -m julia julia.f"
   ]
  },
  {
   "cell_type": "code",
   "execution_count": null,
   "metadata": {
    "collapsed": false
   },
   "outputs": [],
   "source": [
    "!ls julia*"
   ]
  },
  {
   "cell_type": "code",
   "execution_count": null,
   "metadata": {
    "collapsed": true
   },
   "outputs": [],
   "source": [
    "import julia"
   ]
  },
  {
   "cell_type": "code",
   "execution_count": null,
   "metadata": {
    "collapsed": false
   },
   "outputs": [],
   "source": [
    "c = complex(-0.5, 0.65)\n",
    "\n",
    "x = np.linspace(-1.5, 1.5, 1001)\n",
    "y = np.linspace(-1.5, 1.5, 1001)\n",
    "\n",
    "j = julia.julia(x, y, c, 5, 1000)"
   ]
  },
  {
   "cell_type": "code",
   "execution_count": null,
   "metadata": {
    "collapsed": false
   },
   "outputs": [],
   "source": [
    "j"
   ]
  },
  {
   "cell_type": "code",
   "execution_count": null,
   "metadata": {
    "collapsed": false
   },
   "outputs": [],
   "source": []
  },
  {
   "cell_type": "code",
   "execution_count": null,
   "metadata": {
    "collapsed": true
   },
   "outputs": [],
   "source": []
  }
 ],
 "metadata": {
  "anaconda-cloud": {},
  "kernelspec": {
   "display_name": "Python [default]",
   "language": "python",
   "name": "python3"
  },
  "language_info": {
   "codemirror_mode": {
    "name": "ipython",
    "version": 3
   },
   "file_extension": ".py",
   "mimetype": "text/x-python",
   "name": "python",
   "nbconvert_exporter": "python",
   "pygments_lexer": "ipython3",
   "version": "3.5.2"
  }
 },
 "nbformat": 4,
 "nbformat_minor": 2
}
