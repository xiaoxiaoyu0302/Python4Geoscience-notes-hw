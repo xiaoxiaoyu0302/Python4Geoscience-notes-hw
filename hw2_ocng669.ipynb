{
 "cells": [
  {
   "cell_type": "code",
   "execution_count": 1,
   "metadata": {
    "collapsed": true
   },
   "outputs": [],
   "source": [
    "# Be sure to use Python 3\n",
    "from nose.tools import assert_equal\n",
    "import IPython\n",
    "assert IPython.version_info[0] >= 3, \"Your version of IPython is too old, please update it.\""
   ]
  },
  {
   "cell_type": "markdown",
   "metadata": {},
   "source": [
    "# Core Language continued"
   ]
  },
  {
   "cell_type": "markdown",
   "metadata": {},
   "source": [
    "### 1. Number lines in a text file\n",
    "\n",
    "Write a function, `num_lines()`, that numbers all of the lines in a text file, skipping empty lines, and writes the output to another specified file. The output file might look something like\n",
    "\n",
    "    1    This is the first line of the file\n",
    "    2    This is the second line of the file\n",
    "    \n",
    "    3    This is the fourth line of the file\n",
    "\n",
    "where the third line is empty, and not counted."
   ]
  },
  {
   "cell_type": "code",
   "execution_count": 2,
   "metadata": {
    "deletable": false,
    "nbgrader": {
     "checksum": "ab64d7bc38b49bad93b386bbb22d57d2",
     "grade": false,
     "grade_id": "lines",
     "locked": false,
     "schema_version": 1,
     "solution": true
    }
   },
   "outputs": [],
   "source": [
    "def num_lines(inputfilename, outputfilename):\n",
    "    \"\"\"Numbers all lines in a text file, skipping empty lines. Writes results to output file.\n",
    "    \n",
    "    Parameters\n",
    "    ----------\n",
    "    inputfilename : string\n",
    "        Name of the input file to be read in.      \n",
    "        \n",
    "    Returns\n",
    "    -------\n",
    "    Nothing, but does write results to file outputfilename.\n",
    "    \"\"\"\n",
    "    # YOUR CODE HERE\n",
    "    f=open(inputfilename)\n",
    "    ff=open(outputfilename,'w')\n",
    "    f.seek(0) \n",
    "    n=0\n",
    "    for line in f.readlines():                                        \n",
    "        data = line.split()   \n",
    "        if data==[]: \n",
    "            ff.write('\\n')\n",
    "        else: \n",
    "            ff.write(str(n)+' '+line)\n",
    "            n+=1\n",
    "     \n"
   ]
  },
  {
   "cell_type": "code",
   "execution_count": 3,
   "metadata": {},
   "outputs": [
    {
     "data": {
      "text/plain": [
       "[]"
      ]
     },
     "execution_count": 3,
     "metadata": {},
     "output_type": "execute_result"
    }
   ],
   "source": [
    "'\\t\\t\\t\\t    \\n'.split()"
   ]
  },
  {
   "cell_type": "code",
   "execution_count": 4,
   "metadata": {},
   "outputs": [
    {
     "data": {
      "text/plain": [
       "['\\n']"
      ]
     },
     "execution_count": 4,
     "metadata": {},
     "output_type": "execute_result"
    }
   ],
   "source": [
    "f=open('inputfile.txt')\n",
    "line= f.readlines()                                        \n",
    "data = line[1].split(',')\n",
    "data"
   ]
  },
  {
   "cell_type": "code",
   "execution_count": 5,
   "metadata": {},
   "outputs": [],
   "source": [
    "num_lines('inputfile.txt', 'outputfile.txt')\n"
   ]
  },
  {
   "cell_type": "code",
   "execution_count": 6,
   "metadata": {
    "deletable": false,
    "editable": false,
    "nbgrader": {
     "checksum": "d0cc39c12f3a9f88766388a7e2c4127b",
     "grade": true,
     "grade_id": "test_lines",
     "locked": true,
     "points": 3,
     "schema_version": 1,
     "solution": false
    }
   },
   "outputs": [
    {
     "name": "stdout",
     "output_type": "stream",
     "text": [
      "success!\n"
     ]
    }
   ],
   "source": [
    "\"\"\"(3 points) Test code for the previous function. This cell should NOT give any errors when it is run.\"\"\"\n",
    "# run code\n",
    "inputfilename = 'inputfile.txt'  # this is in the hw directory\n",
    "outputfilename = inputfilename.split('.')[0] + '_mod.txt'\n",
    "num_lines(inputfilename, outputfilename)\n",
    "\n",
    "# check for existence of output file\n",
    "import os\n",
    "assert os.path.exists(outputfilename)\n",
    "from nose.tools import assert_equal\n",
    "\n",
    "# check for text in output file being correct\n",
    "fin = open(outputfilename, 'r')  # prepare to read\n",
    "lines = fin.readlines()\n",
    "line = lines[0].split(' ')\n",
    "assert_equal(line[0], '0')  # check first word in line\n",
    "assert_equal(line[-1], 'eros.\\n')  # check final word in line\n",
    "assert_equal(lines[1], '\\n')  # check empty line\n",
    "line = lines[2].split(' ')\n",
    "assert_equal(line[0], '1')  # check first word in line\n",
    "assert_equal(line[-1], 'sodales.\\n')  # check final word in line\n",
    "assert_equal(lines[3], '\\n')  # check empty line\n",
    "line = lines[4].split(' ')\n",
    "assert_equal(line[0], '2')  # check first word in line\n",
    "assert_equal(line[-1], 'a.\\n')  # check final word in line\n",
    "assert_equal(lines[5], '\\n')  # check empty line\n",
    "line = lines[6].split(' ')\n",
    "assert_equal(line[0], '3')  # check first word in line\n",
    "assert_equal(line[-1], 'ut.\\n')  # check final word in line\n",
    "assert_equal(lines[7], '\\n')  # check empty line\n",
    "line = lines[8].split(' ')\n",
    "assert_equal(line[0], '4')  # check first word in line\n",
    "assert_equal(line[-1], 'malesuada.\\n')  # check final word in line\n",
    "fin.close()\n",
    "print('success!')"
   ]
  },
  {
   "cell_type": "markdown",
   "metadata": {},
   "source": [
    "### 2a-c. Convert list of words into list of integers of length of words\n",
    "\n",
    "Write a series of functions that maps a list of words into a list of integers representing the lengths of the corresponding words. Write them in three different ways: \n",
    "\n",
    "1. using a for-loop\n",
    "\n",
    "2. using the higher order function map(), and \n",
    "\n",
    "3. using list comprehensions. \n",
    "\n",
    "Each function will return a list of word lengths, for example,\n",
    "\n",
    "    >>> method1(['list', 'of', 'words'])\n",
    "    [4, 2, 5]"
   ]
  },
  {
   "cell_type": "code",
   "execution_count": 7,
   "metadata": {
    "deletable": false,
    "nbgrader": {
     "checksum": "c0aae405b2a617d83a08aed6de750a4b",
     "grade": false,
     "grade_id": "forloop",
     "locked": false,
     "schema_version": 1,
     "solution": true
    }
   },
   "outputs": [],
   "source": [
    "# part a\n",
    "def method1(input1):\n",
    "    \"\"\"Returns a list of integers representing the lengths of the corresponding input list of words.\n",
    "    Do this using a for loop.\n",
    "    \n",
    "    Parameters\n",
    "    ----------\n",
    "    input1 : list of str\n",
    "        inputs to be counted   \n",
    "        \n",
    "    Returns\n",
    "    -------\n",
    "    list of integers counting the elements in the input list\n",
    "    \"\"\"\n",
    "    # YOUR CODE HERE\n",
    "    nums=[]\n",
    "    for wor in input1:\n",
    "        nums.append(len(wor))\n",
    "    return nums"
   ]
  },
  {
   "cell_type": "code",
   "execution_count": 9,
   "metadata": {
    "deletable": false,
    "editable": false,
    "nbgrader": {
     "checksum": "7dd5b4fcb87ba1a57c08904ca8da62fe",
     "grade": true,
     "grade_id": "test_forloop",
     "locked": true,
     "points": 1,
     "schema_version": 1,
     "solution": false
    }
   },
   "outputs": [
    {
     "name": "stdout",
     "output_type": "stream",
     "text": [
      "success!\n"
     ]
    }
   ],
   "source": [
    "\"\"\"(1 point) Test code for the previous function. This cell should NOT give any errors when it is run.\"\"\"\n",
    "# check with a list\n",
    "words = ['one', 'two', 'three']\n",
    "assert_equal(method1(words), [3, 3, 5])\n",
    "# Also will check that a for loop was used\n",
    "print('success!')"
   ]
  },
  {
   "cell_type": "code",
   "execution_count": 16,
   "metadata": {
    "deletable": false,
    "nbgrader": {
     "checksum": "93e4658deca6c7e20d82b06d24735392",
     "grade": false,
     "grade_id": "map",
     "locked": false,
     "schema_version": 1,
     "solution": true
    }
   },
   "outputs": [],
   "source": [
    "# part b\n",
    "\n",
    "def method2(input2):\n",
    "    \"\"\"Returns a list of integers representing the lengths of the corresponding input list of words.\n",
    "    Do this using the function `map`.\n",
    "    \n",
    "    Parameters\n",
    "    ----------\n",
    "    input1 : list of str\n",
    "        inputs to be counted   \n",
    "        \n",
    "    Returns\n",
    "    -------\n",
    "    list of integers counting the elements in the input list\n",
    "    \"\"\"\n",
    "    # YOUR CODE HERE\n",
    "\n",
    "    return list(map(len,input2))\n"
   ]
  },
  {
   "cell_type": "code",
   "execution_count": 18,
   "metadata": {
    "deletable": false,
    "editable": false,
    "nbgrader": {
     "checksum": "13be5667fbce51bfa31f868232080915",
     "grade": true,
     "grade_id": "test_map",
     "locked": true,
     "points": 1,
     "schema_version": 1,
     "solution": false
    }
   },
   "outputs": [
    {
     "name": "stdout",
     "output_type": "stream",
     "text": [
      "success!\n"
     ]
    }
   ],
   "source": [
    "\"\"\"(1 point) Test code for the previous function. This cell should NOT give any errors when it is run.\"\"\"\n",
    "# check with a list\n",
    "words = ['one', 'two', 'three']\n",
    "assert_equal(method2(words), [3, 3, 5])\n",
    "# Also will check that the map function was used\n",
    "print('success!')"
   ]
  },
  {
   "cell_type": "code",
   "execution_count": 19,
   "metadata": {
    "deletable": false,
    "nbgrader": {
     "checksum": "0426d223abac62240554d654bc959418",
     "grade": false,
     "grade_id": "listcomprehension",
     "locked": false,
     "schema_version": 1,
     "solution": true
    }
   },
   "outputs": [],
   "source": [
    "# part c\n",
    "def method3(input3):\n",
    "    \"\"\"Returns a list of integers representing the lengths of the corresponding input list of words.\n",
    "    Do this using a list comprehension.\n",
    "    \n",
    "    Parameters\n",
    "    ----------\n",
    "    input1 : list of str\n",
    "        inputs to be counted   \n",
    "        \n",
    "    Returns\n",
    "    -------\n",
    "    list of integers counting the elements in the input list\n",
    "    \"\"\"\n",
    "    # YOUR CODE HERE\n",
    "    nums= [len(word) for word in input3]\n",
    "    return nums"
   ]
  },
  {
   "cell_type": "code",
   "execution_count": 21,
   "metadata": {
    "deletable": false,
    "editable": false,
    "nbgrader": {
     "checksum": "7708b9f147c3beb1bd9a2b072c19a414",
     "grade": true,
     "grade_id": "test_listcomprehension",
     "locked": true,
     "points": 1,
     "schema_version": 1,
     "solution": false
    }
   },
   "outputs": [
    {
     "name": "stdout",
     "output_type": "stream",
     "text": [
      "success!\n"
     ]
    }
   ],
   "source": [
    "\"\"\"(1 point) Test code for the previous function. This cell should NOT give any errors when it is run.\"\"\"\n",
    "# check with a list\n",
    "words = ['one', 'two', 'three']\n",
    "assert_equal(method3(words), [3, 3, 5])\n",
    "# Also will check that a list comprehension was used\n",
    "print('success!')"
   ]
  },
  {
   "cell_type": "code",
   "execution_count": 22,
   "metadata": {
    "deletable": false,
    "editable": false,
    "nbgrader": {
     "checksum": "ea89b2f75baf36bb785251d73bed16ae",
     "grade": true,
     "grade_id": "test_all",
     "locked": true,
     "points": 1,
     "schema_version": 1,
     "solution": false
    }
   },
   "outputs": [
    {
     "name": "stdout",
     "output_type": "stream",
     "text": [
      "success!\n"
     ]
    }
   ],
   "source": [
    "\"\"\"(1 point) Test code for the previous function. This cell should NOT give any errors when it is run.\"\"\"\n",
    "words = ['one', 'two', 'three']\n",
    "# Check that the result is the same for all methods\n",
    "assert_equal(method1(words), method2(words), method3(words))\n",
    "print('success!')"
   ]
  },
  {
   "cell_type": "markdown",
   "metadata": {},
   "source": [
    "### 3. Reading in and parsing a file\n",
    "\n",
    "Read in `GPS.dat`, a file containing GPS track information. This file is tab-delimited, but contains other characters as well. It has data from several drifters, whose names are listed in the file after the TRACK label; the first is named \"ACTIVE LOG\". \n",
    "\n",
    "a. Read in the date and time information from the file for the drifter ACTIVE LOG only, and form a list of datetime objects with this information, where each line in the file is a data point that should have its own datetime object. Your `get_datetimes()` function should return this list of datetime objects.\n",
    "\n",
    "b. Separately, read in the locations and speed at all data points for each drifter. Create a dictionary with the name of each track as a key. The value of the dictionary will be another dictionary that has keys `latitude`, `longitude`, and `speed`.  That is, `gps['GANDALF']['speed']` will return a list containing a timeseries of the speed of that track."
   ]
  },
  {
   "cell_type": "code",
   "execution_count": 4,
   "metadata": {
    "deletable": false,
    "nbgrader": {
     "checksum": "8d62664839ccc17a33b12910ae215595",
     "grade": false,
     "grade_id": "readandparse",
     "locked": false,
     "schema_version": 1,
     "solution": true
    }
   },
   "outputs": [],
   "source": [
    "# part a\n",
    "from datetime import datetime\n",
    "\n",
    "def get_datetimes(f):\n",
    "    \"\"\"Returns a list of datetime objects that have been read in from the input file object.\n",
    "    \n",
    "    Parameters\n",
    "    ----------\n",
    "    f : file object\n",
    "        open file object to be read from  \n",
    "        \n",
    "    Returns\n",
    "    -------\n",
    "    list of datetime objects\n",
    "    \"\"\"\n",
    "    # YOUR CODE HERE\n",
    "    datetimes=[]\n",
    "    f = open('GPS.dat')\n",
    "    f.seek(0)  # This sets the pointer back to the beginning of the file. This allows us to run this\n",
    "    for line in f.readlines():\n",
    "        data = line.split('\\t')   \n",
    "        if not data: continue\n",
    "        if data[0] == 'Trackpoint' and data[2] != '':    \n",
    "            year = int(data[2][5:9])\n",
    "            month = int(data[2][0:1])\n",
    "            day = int(data[2][2:4])   \n",
    "            hour = int(data[2][10])+12\n",
    "            minute = int(data[2][12:14])\n",
    "            second = int(data[2][15:17])\n",
    "            dt = datetime(year, month, day, hour, minute, second)\n",
    "            datetimes.append(dt)\n",
    "#        if data[1] == 'LEGOLAS': break\n",
    "            \n",
    "    return datetimes\n",
    "   \n"
   ]
  },
  {
   "cell_type": "code",
   "execution_count": 252,
   "metadata": {
    "deletable": false,
    "editable": false,
    "nbgrader": {
     "checksum": "352bc6cc87bb85fe614287549954ffea",
     "grade": true,
     "grade_id": "test_readandparse",
     "locked": true,
     "points": 4,
     "schema_version": 1,
     "solution": false
    }
   },
   "outputs": [
    {
     "name": "stdout",
     "output_type": "stream",
     "text": [
      "success!\n"
     ]
    }
   ],
   "source": [
    "\"\"\"(4 points) Test code for the previous function. This cell should NOT give any errors when it is run.\"\"\"\n",
    "# tests for Part A\n",
    "f = open('GPS.dat')\n",
    "f.seek(0)  # This sets the pointer back to the beginning of the file. This allows us to run this\n",
    "           # block of code many times without reopening the file each time.\n",
    "datetimes = get_datetimes(f)\n",
    "# Check results\n",
    "assert datetimes[0] == datetime(2006, 5, 20, 13, 34, 55)  # check first entry\n",
    "assert datetimes[100] == datetime(2006, 5, 20, 13, 59, 57)\n",
    "assert datetimes[200] == datetime(2006, 5, 20, 14, 24, 58)\n",
    "assert datetimes[-50] == datetime(2006, 5, 20, 15, 19, 46)\n",
    "assert datetimes[-1] == datetime(2006, 5, 20, 15, 31, 48)  # check last entry\n",
    "assert len(datetimes) == 469\n",
    "print('success!')"
   ]
  },
  {
   "cell_type": "code",
   "execution_count": 16,
   "metadata": {
    "deletable": false,
    "nbgrader": {
     "checksum": "596b3c90f12bd12b0aa3680dddee9d35",
     "grade": false,
     "grade_id": "readandparse_grad",
     "locked": false,
     "schema_version": 1,
     "solution": true
    }
   },
   "outputs": [],
   "source": [
    "# part b\n",
    "\n",
    "missing_value = -999\n",
    "\n",
    "def get_gps(f):\n",
    "    \"\"\"Read in the locations and speed at all data points for each drifter in file object, f.\n",
    "    \n",
    "    Parameters\n",
    "    ----------\n",
    "    f : file object\n",
    "        open file object to be read from  \n",
    "        \n",
    "    Returns\n",
    "    -------\n",
    "    A dictionary of a dictionary for each drifter, which each contains keys `latitude`, `longitude`, and `speed` \n",
    "    \"\"\"\n",
    "    # YOUR CODE HERE\n",
    "\n",
    "    f.seek(0)  # This sets the pointer back to the beginning of the file. This allows us to run this\n",
    "    datetimes=[]\n",
    "    tracks = {}\n",
    "    for line in f.readlines():\n",
    "        data = line.split()\n",
    "    #if data[1] = 'ACTIVE LOG': continue        \n",
    "        if not data: continue\n",
    "        if data[0] == 'Track':\n",
    "            trackname = data[1]\n",
    "            tracks[trackname] = {}\n",
    "            tracks[trackname]['lon'] = []\n",
    "            tracks[trackname]['lat'] = []\n",
    "            tracks[trackname]['speed'] = []\n",
    "        if data[0] == 'Trackpoint': \n",
    "            lat = int(data[1][1:]) + float(data[2])/60   # the index to data[1] is used to trim the 'N' off of the string.\n",
    "            tracks[trackname]['lat'].append(lat)\n",
    "            lon = int(data[3][1:]) + float(data[4])/60   \n",
    "            tracks[trackname]['lon'].append(lon)\n",
    "            timeorspeed = data[6]\n",
    "#         if trackname == 'ACTIVE':\n",
    "            if  len(data)>=13:\n",
    "                speed = float(data[13])\n",
    "            else:\n",
    "                speed = -999    \n",
    "            tracks[trackname]['speed'].append(speed)\n",
    "    tracks['ACTIVE LOG'] = tracks['ACTIVE'] \n",
    "    del tracks['ACTIVE']\n",
    "    return tracks"
   ]
  },
  {
   "cell_type": "code",
   "execution_count": 11,
   "metadata": {},
   "outputs": [
    {
     "data": {
      "text/plain": [
       "{'ACTIVE': {'lat': [42.5], 'lon': [42.5]},\n",
       " 'ACTIVE LOG': {'lat': [42.5], 'lon': [42.5]}}"
      ]
     },
     "execution_count": 11,
     "metadata": {},
     "output_type": "execute_result"
    }
   ],
   "source": [
    "d1 = {}\n",
    "d1['ACTIVE LOG'] = {}\n",
    "d1['ACTIVE LOG']['lon'] = []\n",
    "d1['ACTIVE LOG']['lat'] = []\n",
    "\n",
    "d1['ACTIVE LOG']['lon'].append(42.5)\n",
    "d1['ACTIVE LOG']['lat'].append(42.5)\n",
    "d1['ACTIVE'] = d1['ACTIVE LOG'] \n",
    "d1"
   ]
  },
  {
   "cell_type": "code",
   "execution_count": 21,
   "metadata": {
    "deletable": false,
    "editable": false,
    "nbgrader": {
     "checksum": "84d25b1854317a20fa2a92488448481b",
     "grade": true,
     "grade_id": "test_readandparse_grad",
     "locked": true,
     "points": 5,
     "schema_version": 1,
     "solution": false
    }
   },
   "outputs": [
    {
     "name": "stdout",
     "output_type": "stream",
     "text": [
      "success!\n"
     ]
    }
   ],
   "source": [
    "\"\"\"(5 points) Test code for the previous function. This cell should NOT give any errors when it is run.\"\"\"\n",
    "# tests for Part B\n",
    "from nose.tools import assert_equal\n",
    "f = open('GPS.dat')\n",
    "f.seek(0)  # This sets the pointer back to the beginning of the file. This allows us to run this\n",
    "           # block of code many times without reopening the file each time.\n",
    "\n",
    "gps = get_gps(f)\n",
    "    \n",
    "assert_equal(len(gps), 5)  # test for all drifters being there\n",
    "assert gps['STRIDER']['lon']  # test for one containing lon\n",
    "assert_equal(len(gps['SAMWISE']), 3)  # test for 3 entries in SMA\n",
    "assert_equal(gps['LEGOLAS']['lat'][5], 42 + 48.872/60)\n",
    "assert_equal(gps['ACTIVE LOG']['speed'][-5], 4.7)\n",
    "\n",
    "import numpy as np  # using numpy for this test\n",
    "assert np.allclose(gps['SAMWISE']['lat'], [42.82065, 42.819833333333335, 42.81883333333333])\n",
    "assert np.allclose(gps['SAMWISE']['lon'], [70.76708333333333, 70.76886666666667, 70.77156666666667])\n",
    "assert np.allclose(gps['SAMWISE']['speed'], [-999, -999, -999])\n",
    "print('success!')"
   ]
  },
  {
   "cell_type": "markdown",
   "metadata": {},
   "source": [
    "### 4. Constructing terms in a Taylor series to approximate a function\n",
    "\n",
    "The Taylor series expansion for the sine function is given by \n",
    "$$ \\text{sin}(x) = \\Sigma^\\infty_{k=0} \\frac{(-1)^k x^{1+2k}}{(1+2k)!}$$\n",
    "\n",
    "This expression gives an exact form for sin(x) when an infinite number of terms are used; any truncation gives an approximation. Write a loop that constructs terms from $k=0$ up to $k=N$. Don't use any function for the factorial since we haven't gotten to NumPy... create it yourself, instead. Provide the value of sin(0.5) with N=5 terms. How many terms do you need to include before the answer starts to plateau?\n"
   ]
  },
  {
   "cell_type": "code",
   "execution_count": 10,
   "metadata": {
    "deletable": false,
    "nbgrader": {
     "checksum": "1ce21217577932c2df929d69df408be3",
     "grade": false,
     "grade_id": "taylor",
     "locked": false,
     "schema_version": 1,
     "solution": true
    }
   },
   "outputs": [],
   "source": [
    "import math\n",
    "def calc_sine(x, N):\n",
    "    \"\"\"Approximate sin(x) using Taylor series with N terms.\n",
    "    \n",
    "    Parameters\n",
    "    ----------\n",
    "    x : float\n",
    "        value to approximate sine function at\n",
    "    N : integer\n",
    "        number of terms +1 to approximate, from k=0 to k=N\n",
    "        \n",
    "    Returns\n",
    "    -------\n",
    "    approximation of sine(x) to N+1 terms\n",
    "    \"\"\"\n",
    "    # YOUR CODE HERE\n",
    "    tot=0\n",
    "    for k in range(N):\n",
    "        t=(((-1)**k)*(x**(1+(2*k))))/(math.factorial(2*k+1))\n",
    "        tot+=t\n",
    "    return tot"
   ]
  },
  {
   "cell_type": "code",
   "execution_count": 11,
   "metadata": {
    "deletable": false,
    "editable": false,
    "nbgrader": {
     "checksum": "785f9afd381261cbd94e5b44b7931509",
     "grade": true,
     "grade_id": "test_taylor",
     "locked": true,
     "points": 3,
     "schema_version": 1,
     "solution": false
    }
   },
   "outputs": [
    {
     "name": "stdout",
     "output_type": "stream",
     "text": [
      "success!\n"
     ]
    }
   ],
   "source": [
    "\"\"\"(3 points) Test code for the previous function. This cell should NOT give any errors when it is run.\"\"\"\n",
    "x = 0.5\n",
    "N = 5\n",
    "tot = calc_sine(x, N)\n",
    "import numpy as np  # using numpy for this test\n",
    "assert np.allclose(tot, 0.4794255386041834)\n",
    "print('success!')"
   ]
  },
  {
   "cell_type": "markdown",
   "metadata": {},
   "source": [
    "### 5. Create a 'line' class\n",
    "\n",
    "Create a class, 'line' that takes a slope and intercept as inputs to create the class instance, where these value are stored. The class should have one method, 'evaluate' that calculates the y-value of the line given x. For example:\n",
    "\n",
    "    >>> line(0.5, 2.0)  # slope of 1/2, y-intercept of 2\n",
    "    >>> line.evaluate(3.0)\n",
    "    3.5"
   ]
  },
  {
   "cell_type": "code",
   "execution_count": 8,
   "metadata": {
    "deletable": false,
    "nbgrader": {
     "checksum": "0fd327a91564eb18f0a9d2ec2643abde",
     "grade": false,
     "grade_id": "line",
     "locked": false,
     "schema_version": 1,
     "solution": true
    }
   },
   "outputs": [
    {
     "data": {
      "text/plain": [
       "3.5"
      ]
     },
     "execution_count": 8,
     "metadata": {},
     "output_type": "execute_result"
    }
   ],
   "source": [
    "# YOUR CODE HERE\n",
    "class line(object):\n",
    "    def __init__(self, x, y):\n",
    "        self.x=x\n",
    "        self.y=y\n",
    "        \n",
    "    def evaluate(self,input2):\n",
    "        return self.x*input2+self.y\n",
    "\n",
    "p1=line(0.5,2.0)\n",
    "p1.evaluate(3.0)"
   ]
  },
  {
   "cell_type": "code",
   "execution_count": 9,
   "metadata": {
    "deletable": false,
    "editable": false,
    "nbgrader": {
     "checksum": "d283826c75d96d228cff2d200868914a",
     "grade": true,
     "grade_id": "test_line",
     "locked": true,
     "points": 3,
     "schema_version": 1,
     "solution": false
    }
   },
   "outputs": [
    {
     "name": "stdout",
     "output_type": "stream",
     "text": [
      "success!\n"
     ]
    }
   ],
   "source": [
    "\"\"\"(3 points) Test code for the previous function. This cell should NOT give any errors when it is run.\"\"\"\n",
    "import numpy as np  # using numpy for this test\n",
    "assert np.allclose(line(0.5, 2.0).evaluate(3.0), 3.5)\n",
    "assert np.allclose(line(-0.5, 2.0).evaluate(3.0), 0.5)\n",
    "assert np.allclose(line(0., 3.0).evaluate(3.0), 3.0)\n",
    "print('success!')"
   ]
  },
  {
   "cell_type": "code",
   "execution_count": null,
   "metadata": {
    "collapsed": true
   },
   "outputs": [],
   "source": []
  }
 ],
 "metadata": {
  "anaconda-cloud": {},
  "kernelspec": {
   "display_name": "Python [default]",
   "language": "python",
   "name": "python3"
  },
  "language_info": {
   "codemirror_mode": {
    "name": "ipython",
    "version": 3
   },
   "file_extension": ".py",
   "mimetype": "text/x-python",
   "name": "python",
   "nbconvert_exporter": "python",
   "pygments_lexer": "ipython3",
   "version": "3.5.3"
  }
 },
 "nbformat": 4,
 "nbformat_minor": 1
}
