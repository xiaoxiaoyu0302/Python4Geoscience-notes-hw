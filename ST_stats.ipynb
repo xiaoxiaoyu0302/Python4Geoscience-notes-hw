{
 "cells": [
  {
   "cell_type": "code",
   "execution_count": null,
   "metadata": {
    "collapsed": true
   },
   "outputs": [],
   "source": [
    "import numpy as np\n",
    "import matplotlib.pyplot as plt\n",
    "%matplotlib inline\n",
    "from datetime import datetime, timedelta\n",
    "\n",
    "# We will explore statistics looking at these packages\n",
    "import pandas as pd\n",
    "import seaborn as sn\n",
    "import statsmodels.api as sm"
   ]
  },
  {
   "cell_type": "markdown",
   "metadata": {},
   "source": [
    "### Datasets\n",
    "\n",
    "We will look at two datasets. First the [Goddard Institute for Space Studies surface temperature analysis dataset from NASA](https://data.giss.nasa.gov/gistemp). There are many intersting products here; we will look at zonal mean temperature anomalies. The 'base' period that defines the mean is 1951 through 1980."
   ]
  },
  {
   "cell_type": "code",
   "execution_count": null,
   "metadata": {
    "collapsed": false
   },
   "outputs": [],
   "source": [
    "url = 'https://data.giss.nasa.gov/gistemp/tabledata_v3/ZonAnn.Ts+dSST.csv'\n",
    "df_zonal = pd.read_csv(url, index_col=0, parse_dates=True)\n",
    "\n",
    "# The `describe` method is a good way to get an idea of the statistical\n",
    "# properties of a variable or dataset.\n",
    "df_zonal['Glob'].describe()"
   ]
  },
  {
   "cell_type": "code",
   "execution_count": null,
   "metadata": {
    "collapsed": false
   },
   "outputs": [],
   "source": [
    "df_zonal.describe()"
   ]
  },
  {
   "cell_type": "markdown",
   "metadata": {},
   "source": [
    "The second dataset will be [monthly mean temperature data for states](https://www1.ncdc.noaa.gov/pub/data/cirs/climdiv/climdiv-tmpcst-v1.0.0-20170404) published by NOAA. The [README file for this dataset](https://www1.ncdc.noaa.gov/pub/data/cirs/climdiv/state-readme.txt) describes the mangled time, location, and category code in the first column. They also have a [wide range of data available](https://www1.ncdc.noaa.gov/pub/data/cirs/climdiv/).\n",
    "\n",
    "\n"
   ]
  },
  {
   "cell_type": "code",
   "execution_count": null,
   "metadata": {
    "collapsed": true
   },
   "outputs": [],
   "source": [
    "# Region IDs according to the README file. A new first value 'null' has been\n",
    "# added so that the index of the list will corresond to the code (i.e., 'Alabama' is 001)\n",
    "# We will only deal with the contiguous 48, so other regions are ignored.\n",
    "Region_ID = ['null', 'Alabama', 'Arizona', 'Arkansas', 'California', \n",
    "             'Colorado', 'Connecticut', 'Delaware', 'Florida', 'Georgia', 'Idaho', \n",
    "             'Illinois', 'Indiana', 'Iowa', 'Kansas', 'Kentucky', 'Louisiana', 'Maine', \n",
    "             'Maryland', 'Massachusetts', 'Michigan', 'Minnesota', 'Mississippi', \n",
    "             'Missouri', 'Montana', 'Nebraska', 'Nevada', 'New Hampshire', 'New Jersey', \n",
    "             'New Mexico', 'New York', 'North Carolina', 'North Dakota', 'Ohio', \n",
    "             'Oklahoma', 'Oregon', 'Pennsylvania', 'Rhode Island', 'South Carolina', \n",
    "             'South Dakota', 'Tennessee', 'Texas', 'Utah', 'Vermont', 'Virginia', \n",
    "             'Washington', 'West Virginia', 'Wisconsin', 'Wyoming']"
   ]
  },
  {
   "cell_type": "code",
   "execution_count": null,
   "metadata": {
    "collapsed": false
   },
   "outputs": [],
   "source": [
    "import urllib.request # use this package to read html files as text\n",
    "\n",
    "url = 'https://www1.ncdc.noaa.gov/pub/data/cirs/climdiv/climdiv-tmpcst-v1.0.0-20170404'\n",
    "with urllib.request.urlopen(url) as f:\n",
    "   html = f.read()  # the entire file as a single string\n",
    "\n",
    "lines = html.split(b'\\n')  # split into lines. The 'b' is needed since the 'string' is actually\n",
    "                           # defined as a 'bytes' object, that could contain special characters\n"
   ]
  },
  {
   "cell_type": "code",
   "execution_count": null,
   "metadata": {
    "collapsed": false
   },
   "outputs": [],
   "source": [
    "times = {state:[] for state in Region_ID}\n",
    "monthly_temp = {state:[] for state in Region_ID}\n",
    "\n",
    "for line in lines:\n",
    "    data = line.split()\n",
    "    if not data: \n",
    "        continue\n",
    "    \n",
    "    # First parse the first element into state, division, element, and year according \n",
    "    # to the README file\n",
    "    state_code = int(data[0][:3])\n",
    "    if state_code > 48:  \n",
    "        continue # ignore regions outside the contiguous 48.\n",
    "    state = Region_ID[state_code]\n",
    "    division = int(data[0][3])  # Zero for area-averaged element. We won't use this\n",
    "    element = int(data[0][4:6]) # Should all be 02 (average temperature) for this dataset\n",
    "    year = int(data[0][6:])\n",
    "    \n",
    "    monthly_temp[state] += [float(temp) for temp in data[1:]]\n",
    "    times[state] += [datetime(year, month, 15) for month in range(1, 13)]\n",
    "\n",
    "dfs = [pd.DataFrame(monthly_temp[state], index=times[state], columns=[state])\n",
    "       for state in Region_ID]\n",
    "\n",
    "df_states = pd.concat(dfs[1:], axis=1) # concatinate and remove the 'null' state\n",
    "df_states[df_states == -99.9] = np.nan\n",
    "\n",
    "# Remove 1951 - 1980 mean to get anomalies similar to GISS data.\n",
    "df_states -= df_states['1951':'1980'].mean()\n"
   ]
  },
  {
   "cell_type": "code",
   "execution_count": null,
   "metadata": {
    "collapsed": false
   },
   "outputs": [],
   "source": [
    "df_states"
   ]
  },
  {
   "cell_type": "code",
   "execution_count": null,
   "metadata": {
    "collapsed": false
   },
   "outputs": [],
   "source": [
    "df_states['Texas'].plot()"
   ]
  },
  {
   "cell_type": "code",
   "execution_count": null,
   "metadata": {
    "collapsed": false
   },
   "outputs": [],
   "source": [
    "df_states.resample('AS').mean()['Texas'].plot()"
   ]
  },
  {
   "cell_type": "code",
   "execution_count": null,
   "metadata": {
    "collapsed": false
   },
   "outputs": [],
   "source": [
    "df = pd.concat([df_zonal, df_states.resample('AS').mean()['Texas']], axis=1).dropna()"
   ]
  },
  {
   "cell_type": "code",
   "execution_count": null,
   "metadata": {
    "collapsed": false
   },
   "outputs": [],
   "source": [
    "df.describe()"
   ]
  },
  {
   "cell_type": "code",
   "execution_count": null,
   "metadata": {
    "collapsed": false
   },
   "outputs": [],
   "source": [
    "# We can quickly calculate a correlation matrix between all the columns\n",
    "df.corr()"
   ]
  },
  {
   "cell_type": "markdown",
   "metadata": {},
   "source": [
    "We are now ready to start doing some statistics. Fitting a model in statsmodels typically involves 3 easy steps:\n",
    "\n",
    "1. Use the model class to describe the model\n",
    "2. Fit the model using a class method\n",
    "3. Inspect the results using a summary method\n"
   ]
  },
  {
   "cell_type": "code",
   "execution_count": null,
   "metadata": {
    "collapsed": false
   },
   "outputs": [],
   "source": [
    "# 1. Describe the model\n",
    "mod = sm.OLS(df['Texas'], df.drop('Texas', axis=1))   # Ordinary Least Squares\n",
    "\n",
    "# 2. Fit the model\n",
    "res = mod.fit()\n",
    "\n",
    "# 3. Summarize the model fit\n",
    "res.summary()"
   ]
  },
  {
   "cell_type": "code",
   "execution_count": null,
   "metadata": {
    "collapsed": false
   },
   "outputs": [],
   "source": [
    "res.pvalues  # lower is better. Significant usually for p < 0.05"
   ]
  },
  {
   "cell_type": "code",
   "execution_count": null,
   "metadata": {
    "collapsed": true
   },
   "outputs": [],
   "source": []
  },
  {
   "cell_type": "markdown",
   "metadata": {},
   "source": [
    "### Visualizing datasets\n",
    "\n",
    "We can use seaborn to visulize joint dataset distributions"
   ]
  },
  {
   "cell_type": "code",
   "execution_count": null,
   "metadata": {
    "collapsed": false
   },
   "outputs": [],
   "source": [
    "sn.jointplot(df['Texas'], df['24N-44N'])"
   ]
  },
  {
   "cell_type": "code",
   "execution_count": null,
   "metadata": {
    "collapsed": false
   },
   "outputs": [],
   "source": [
    "# Seaborn also plays nice with pandas -- you can provide the dataframe as 'data'\n",
    "# and then just reference the columns.\n",
    "# Excercise -- Try kind as 'reg', 'kde', and 'hex'\n",
    "sn.jointplot('Texas', '24N-44N', data=df, kind='reg')"
   ]
  },
  {
   "cell_type": "code",
   "execution_count": null,
   "metadata": {
    "collapsed": false
   },
   "outputs": [],
   "source": [
    "# We can quicly visualize a 'heatmap' of the correlation coefficients.\n",
    "sn.heatmap(df.corr())"
   ]
  },
  {
   "cell_type": "code",
   "execution_count": null,
   "metadata": {
    "collapsed": false
   },
   "outputs": [],
   "source": [
    "fig = plt.figure(figsize=(12, 4))\n",
    "sn.boxplot(df)\n",
    "# sn.violinplot(df.drop('Texas', axis=1))"
   ]
  },
  {
   "cell_type": "code",
   "execution_count": null,
   "metadata": {
    "collapsed": false
   },
   "outputs": [],
   "source": [
    "df[['Glob', 'NHem', 'SHem', 'Texas']].plot(figsize=(15, 5))"
   ]
  },
  {
   "cell_type": "code",
   "execution_count": null,
   "metadata": {
    "collapsed": false
   },
   "outputs": [],
   "source": [
    "import statsmodels.formula.api as smf\n",
    "\n",
    "model = smf.ols(formula=\"Texas ~ NHem + SHem\", data=df).fit()\n",
    "model.summary()"
   ]
  },
  {
   "cell_type": "code",
   "execution_count": null,
   "metadata": {
    "collapsed": false
   },
   "outputs": [],
   "source": [
    "df['year'] = df.index.year\n",
    "model = smf.ols(formula=\"Texas ~ year\", data=df).fit()\n",
    "model.summary()"
   ]
  },
  {
   "cell_type": "code",
   "execution_count": null,
   "metadata": {
    "collapsed": false
   },
   "outputs": [],
   "source": [
    "sm.stats.anova_lm(model)"
   ]
  },
  {
   "cell_type": "code",
   "execution_count": null,
   "metadata": {
    "collapsed": true
   },
   "outputs": [],
   "source": []
  },
  {
   "cell_type": "code",
   "execution_count": null,
   "metadata": {
    "collapsed": true
   },
   "outputs": [],
   "source": []
  }
 ],
 "metadata": {
  "anaconda-cloud": {},
  "kernelspec": {
   "display_name": "Python [default]",
   "language": "python",
   "name": "python3"
  },
  "language_info": {
   "codemirror_mode": {
    "name": "ipython",
    "version": 3
   },
   "file_extension": ".py",
   "mimetype": "text/x-python",
   "name": "python",
   "nbconvert_exporter": "python",
   "pygments_lexer": "ipython3",
   "version": "3.5.2"
  }
 },
 "nbformat": 4,
 "nbformat_minor": 1
}
